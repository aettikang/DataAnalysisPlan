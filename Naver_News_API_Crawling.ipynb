{
  "cells": [
    {
      "cell_type": "markdown",
      "metadata": {
        "id": "view-in-github",
        "colab_type": "text"
      },
      "source": [
        "<a href=\"https://colab.research.google.com/github/aettikang/DataAnalysisPlan/blob/main/Naver_News_API_Crawling.ipynb\" target=\"_parent\"><img src=\"https://colab.research.google.com/assets/colab-badge.svg\" alt=\"Open In Colab\"/></a>"
      ]
    },
    {
      "cell_type": "code",
      "execution_count": 1,
      "id": "0b43ac11",
      "metadata": {
        "id": "0b43ac11"
      },
      "outputs": [],
      "source": [
        "# 네이버 뉴스 API를 활용한 뉴스 목록 저장 예제\n",
        "import requests\n",
        "import csv"
      ]
    },
    {
      "cell_type": "code",
      "execution_count": 2,
      "id": "dccb2f20",
      "metadata": {
        "id": "dccb2f20"
      },
      "outputs": [],
      "source": [
        "# 네이버 API 인증 정보 (개별 발급 필요)\n",
        "client_id = 'IXf97SP5CbDM_ynAMZ_2'     # ← 여기에 본인의 Client ID 입력\n",
        "client_secret = 'a4zjwwljTa'  # ← 여기에 본인의 Client Secret 입력"
      ]
    },
    {
      "cell_type": "code",
      "execution_count": 3,
      "id": "84b80ed2",
      "metadata": {
        "id": "84b80ed2"
      },
      "outputs": [],
      "source": [
        "# 검색 설정\n",
        "query = '인공지능'\n",
        "display = 100  # 최대 100\n",
        "start = 1\n",
        "sort = 'date'  # date: 최신순, sim: 유사도순"
      ]
    },
    {
      "cell_type": "code",
      "execution_count": 7,
      "id": "0e5cb132",
      "metadata": {
        "id": "0e5cb132"
      },
      "outputs": [],
      "source": [
        "# 헤더 및 요청 URL 구성\n",
        "headers = {\n",
        "    'X-Naver-Client-Id': client_id,\n",
        "    'X-Naver-Client-Secret': client_secret\n",
        "}\n",
        "url = f\"https://openapi.naver.com/v1/search/news.json?query={query}&display={display}&start={start}&sort={sort}\"\n",
        "headers = {\n",
        "    'X-Naver-Client-Id': client_id,\n",
        "    'X-Naver-Client-Secret': client_secret\n",
        "}\n",
        "url = f\"https://openapi.naver.com/v1/search/news.json?query={query}&display={display}&start={start}&sort={sort}\""
      ]
    },
    {
      "cell_type": "code",
      "execution_count": 8,
      "id": "a1cec8a0",
      "metadata": {
        "colab": {
          "base_uri": "https://localhost:8080/"
        },
        "id": "a1cec8a0",
        "outputId": "83e8476a-b0aa-4431-de97-2ec29125b256"
      },
      "outputs": [
        {
          "output_type": "stream",
          "name": "stdout",
          "text": [
            "✅ 뉴스 100건이 CSV 파일로 저장되었습니다.\n"
          ]
        }
      ],
      "source": [
        "# API 요청 및 응답 처리\n",
        "response = requests.get(url, headers=headers)\n",
        "\n",
        "if response.status_code == 200:\n",
        "    items = response.json()['items']\n",
        "\n",
        "    with open(f'naver_news_{query}.csv', mode='w', encoding='utf-8-sig', newline='') as f:\n",
        "        writer = csv.writer(f)\n",
        "        writer.writerow(['Title', 'Description', 'Link', 'PubDate'])\n",
        "\n",
        "        for item in items:\n",
        "            title = item['title'].replace('<b>', '').replace('</b>', '')\n",
        "            desc = item['description'].replace('<b>', '').replace('</b>', '')\n",
        "            link = item['link']\n",
        "            pub_date = item['pubDate']\n",
        "            writer.writerow([title, desc, link, pub_date])\n",
        "\n",
        "    print(f\"✅ 뉴스 {len(items)}건이 CSV 파일로 저장되었습니다.\")\n",
        "else:\n",
        "    print(\"❌ API 요청 실패:\", response.status_code, response.text)"
      ]
    }
  ],
  "metadata": {
    "colab": {
      "provenance": [],
      "include_colab_link": true
    },
    "language_info": {
      "name": "python"
    },
    "kernelspec": {
      "name": "python3",
      "display_name": "Python 3"
    }
  },
  "nbformat": 4,
  "nbformat_minor": 5
}