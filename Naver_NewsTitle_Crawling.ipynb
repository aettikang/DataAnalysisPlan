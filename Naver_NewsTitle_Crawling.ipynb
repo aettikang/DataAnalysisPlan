{
  "nbformat": 4,
  "nbformat_minor": 0,
  "metadata": {
    "colab": {
      "provenance": [],
      "authorship_tag": "ABX9TyM2kJcjatR3wPxoxoPyY28A",
      "include_colab_link": true
    },
    "kernelspec": {
      "name": "python3",
      "display_name": "Python 3"
    },
    "language_info": {
      "name": "python"
    }
  },
  "cells": [
    {
      "cell_type": "markdown",
      "metadata": {
        "id": "view-in-github",
        "colab_type": "text"
      },
      "source": [
        "<a href=\"https://colab.research.google.com/github/aettikang/DataAnalysisPlan/blob/main/Naver_NewsTitle_Crawling.ipynb\" target=\"_parent\"><img src=\"https://colab.research.google.com/assets/colab-badge.svg\" alt=\"Open In Colab\"/></a>"
      ]
    },
    {
      "cell_type": "code",
      "source": [
        "#필요한 패키지 import\n",
        "import requests\n",
        "from bs4 import BeautifulSoup\n",
        "import csv"
      ],
      "metadata": {
        "id": "H4jPf_ndC1Bh"
      },
      "execution_count": null,
      "outputs": []
    },
    {
      "cell_type": "code",
      "source": [
        "\n",
        "def get_news_titles(search_query, max_pages):\n",
        "    news_titles_list = []\n",
        "    for page in range(1, max_pages + 1):\n",
        "        start = (page - 1) * 10 + 1\n",
        "        #크롤링 URL셋팅\n",
        "        url = f\"https://search.naver.com/search.naver?where=news&sm=tab_jum&query={search_query}&start={start}\"\n",
        "        response = requests.get(url)\n",
        "        if response.status_code == 200:\n",
        "            html_content = response.text\n",
        "            soup = BeautifulSoup(html_content, 'html.parser')\n",
        "            #해당내용 태그 찾\n",
        "            news_titles = soup.find_all('a', {'class': 'news_tit'})\n",
        "            for title in news_titles:\n",
        "                news_titles_list.append([title.text.strip()])\n",
        "        else:\n",
        "            print(f\"Failed to retrieve the page content for page {page}\")\n",
        "    return news_titles_list"
      ],
      "metadata": {
        "id": "sOtg7lpQD5ZY"
      },
      "execution_count": null,
      "outputs": []
    },
    {
      "cell_type": "code",
      "source": [
        "# 사용자로부터 검색어 입력 받기\n",
        "search_query = input(\"검색하고 싶은 키워드를 입력해주세요: \")\n",
        "\n",
        "# 사용자로부터 페이지 수 입력 받기\n",
        "try:\n",
        "    max_pages = int(input(\"몇 페이지까지 검색하시겠습니까? (숫자만 입력): \"))\n",
        "except ValueError:\n",
        "    print(\"숫자를 입력해주세요.\")\n",
        "    max_pages = 5  # 입력이 잘못된 경우 기본값으로 5 페이지 설정\n",
        "\n",
        "# Get news titles\n",
        "news_titles_list = get_news_titles(search_query, max_pages)\n"
      ],
      "metadata": {
        "colab": {
          "base_uri": "https://localhost:8080/"
        },
        "id": "LrHitWWQD9zI",
        "outputId": "ec3eb493-9c8c-4068-fce4-a91be5da59a4"
      },
      "execution_count": null,
      "outputs": [
        {
          "output_type": "stream",
          "name": "stdout",
          "text": [
            "검색하고 싶은 키워드를 입력해주세요: 고려사이버대학교\n",
            "몇 페이지까지 검색하시겠습니까? (숫자만 입력): 2\n",
            "Failed to retrieve the page content for page 2\n"
          ]
        }
      ]
    },
    {
      "cell_type": "code",
      "source": [
        "# 파일로 저장\n",
        "csv_file_name = f'news_titles_{search_query}.csv'\n",
        "with open(csv_file_name, mode='w', newline='', encoding='utf-8') as file:\n",
        "    writer = csv.writer(file)\n",
        "    writer.writerow(['News Title'])\n",
        "    for title in news_titles_list:\n",
        "        writer.writerow(title)\n",
        "\n",
        "print(f\"News titles have been saved to {csv_file_name}\")\n"
      ],
      "metadata": {
        "colab": {
          "base_uri": "https://localhost:8080/"
        },
        "id": "ukEr1XEJC5kg",
        "outputId": "431da223-77a8-497a-b28d-72e1eb252f23"
      },
      "execution_count": null,
      "outputs": [
        {
          "output_type": "stream",
          "name": "stdout",
          "text": [
            "News titles have been saved to news_titles_고려사이버대학교.csv\n"
          ]
        }
      ]
    }
  ]
}