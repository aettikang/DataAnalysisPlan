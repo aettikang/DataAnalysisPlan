{
  "nbformat": 4,
  "nbformat_minor": 0,
  "metadata": {
    "kernelspec": {
      "display_name": "Python 3",
      "language": "python",
      "name": "python3"
    },
    "language_info": {
      "codemirror_mode": {
        "name": "ipython",
        "version": 3
      },
      "file_extension": ".py",
      "mimetype": "text/x-python",
      "name": "python",
      "nbconvert_exporter": "python",
      "pygments_lexer": "ipython3",
      "version": "3.6.10"
    },
    "colab": {
      "name": "IEEE-CIS Fraud Detection.ipynb",
      "provenance": [],
      "collapsed_sections": [
        "3c3B4psRSp-J",
        "6iV-_JAfSp-J",
        "ekcLKViFSp-K",
        "OBDsGPaVSp-L",
        "zUDaQDAYSp-L"
      ],
      "include_colab_link": true
    }
  },
  "cells": [
    {
      "cell_type": "markdown",
      "metadata": {
        "id": "view-in-github",
        "colab_type": "text"
      },
      "source": [
        "<a href=\"https://colab.research.google.com/github/aettikang/DataAnalysisPlan/blob/main/IEEE_CIS_Fraud_Detection.ipynb\" target=\"_parent\"><img src=\"https://colab.research.google.com/assets/colab-badge.svg\" alt=\"Open In Colab\"/></a>"
      ]
    },
    {
      "cell_type": "markdown",
      "metadata": {
        "id": "jCWfi3t6Sp9x"
      },
      "source": [
        "## 1. 데이터 불러오기 및 기본 설정"
      ]
    },
    {
      "cell_type": "code",
      "metadata": {
        "id": "x2zw1phrSp91"
      },
      "source": [
        "import os\n",
        "import pandas as pd\n",
        "import numpy as np\n",
        "#os.chdir(\"/content/drive/MyDrive/cuk/데이터분석기획/\")\n",
        "\n",
        "%matplotlib inline\n",
        "import matplotlib.pyplot as plt\n",
        "plt.rcParams[\"font.family\"] = 'Malgun Gothic'\n",
        "plt.rcParams[\"font.size\"] = 15\n",
        "plt.rcParams[\"figure.figsize\"] = (20, 5)\n",
        "\n",
        "import warnings\n",
        "warnings.filterwarnings(\"ignore\")"
      ],
      "execution_count": 12,
      "outputs": []
    },
    {
      "cell_type": "markdown",
      "metadata": {
        "id": "AnB8L36KSp92"
      },
      "source": [
        "#### 1.1 데이터 불러오기 및 불필요한 변수 삭제"
      ]
    },
    {
      "cell_type": "code",
      "metadata": {
        "id": "xM2ee93bSp92"
      },
      "source": [
        "df = pd.read_csv('https://raw.githubusercontent.com/aettikang/DataAnalysisPlan/main/sampled_train_transaction.csv')"
      ],
      "execution_count": 14,
      "outputs": []
    },
    {
      "cell_type": "code",
      "metadata": {
        "colab": {
          "base_uri": "https://localhost:8080/",
          "height": 224
        },
        "id": "3OpKd0szSp92",
        "outputId": "bff16b61-3570-45fa-8845-91913d6df146"
      },
      "source": [
        "df.head()"
      ],
      "execution_count": null,
      "outputs": [
        {
          "output_type": "execute_result",
          "data": {
            "text/html": [
              "<div>\n",
              "<style scoped>\n",
              "    .dataframe tbody tr th:only-of-type {\n",
              "        vertical-align: middle;\n",
              "    }\n",
              "\n",
              "    .dataframe tbody tr th {\n",
              "        vertical-align: top;\n",
              "    }\n",
              "\n",
              "    .dataframe thead th {\n",
              "        text-align: right;\n",
              "    }\n",
              "</style>\n",
              "<table border=\"1\" class=\"dataframe\">\n",
              "  <thead>\n",
              "    <tr style=\"text-align: right;\">\n",
              "      <th></th>\n",
              "      <th>TransactionID</th>\n",
              "      <th>isFraud</th>\n",
              "      <th>TransactionDT</th>\n",
              "      <th>TransactionAmt</th>\n",
              "      <th>ProductCD</th>\n",
              "      <th>card1</th>\n",
              "      <th>card2</th>\n",
              "      <th>card3</th>\n",
              "      <th>card4</th>\n",
              "      <th>card5</th>\n",
              "      <th>card6</th>\n",
              "      <th>P_emaildomain</th>\n",
              "      <th>R_emaildomain</th>\n",
              "      <th>C1</th>\n",
              "      <th>C2</th>\n",
              "      <th>C3</th>\n",
              "      <th>C4</th>\n",
              "      <th>C5</th>\n",
              "      <th>C6</th>\n",
              "      <th>C7</th>\n",
              "      <th>C8</th>\n",
              "      <th>C9</th>\n",
              "      <th>C10</th>\n",
              "      <th>C11</th>\n",
              "      <th>C12</th>\n",
              "      <th>C13</th>\n",
              "      <th>C14</th>\n",
              "      <th>M1</th>\n",
              "      <th>M2</th>\n",
              "      <th>M3</th>\n",
              "      <th>M4</th>\n",
              "      <th>M5</th>\n",
              "      <th>M6</th>\n",
              "      <th>M7</th>\n",
              "      <th>M8</th>\n",
              "      <th>M9</th>\n",
              "    </tr>\n",
              "  </thead>\n",
              "  <tbody>\n",
              "    <tr>\n",
              "      <th>0</th>\n",
              "      <td>2987000</td>\n",
              "      <td>0</td>\n",
              "      <td>86400</td>\n",
              "      <td>68.5</td>\n",
              "      <td>W</td>\n",
              "      <td>13926</td>\n",
              "      <td>NaN</td>\n",
              "      <td>150.0</td>\n",
              "      <td>discover</td>\n",
              "      <td>142.0</td>\n",
              "      <td>credit</td>\n",
              "      <td>NaN</td>\n",
              "      <td>NaN</td>\n",
              "      <td>1.0</td>\n",
              "      <td>1.0</td>\n",
              "      <td>0.0</td>\n",
              "      <td>0.0</td>\n",
              "      <td>0.0</td>\n",
              "      <td>1.0</td>\n",
              "      <td>0.0</td>\n",
              "      <td>0.0</td>\n",
              "      <td>1.0</td>\n",
              "      <td>0.0</td>\n",
              "      <td>2.0</td>\n",
              "      <td>0.0</td>\n",
              "      <td>1.0</td>\n",
              "      <td>1.0</td>\n",
              "      <td>T</td>\n",
              "      <td>T</td>\n",
              "      <td>T</td>\n",
              "      <td>M2</td>\n",
              "      <td>F</td>\n",
              "      <td>T</td>\n",
              "      <td>NaN</td>\n",
              "      <td>NaN</td>\n",
              "      <td>NaN</td>\n",
              "    </tr>\n",
              "    <tr>\n",
              "      <th>1</th>\n",
              "      <td>2987001</td>\n",
              "      <td>0</td>\n",
              "      <td>86401</td>\n",
              "      <td>29.0</td>\n",
              "      <td>W</td>\n",
              "      <td>2755</td>\n",
              "      <td>404.0</td>\n",
              "      <td>150.0</td>\n",
              "      <td>mastercard</td>\n",
              "      <td>102.0</td>\n",
              "      <td>credit</td>\n",
              "      <td>gmail.com</td>\n",
              "      <td>NaN</td>\n",
              "      <td>1.0</td>\n",
              "      <td>1.0</td>\n",
              "      <td>0.0</td>\n",
              "      <td>0.0</td>\n",
              "      <td>0.0</td>\n",
              "      <td>1.0</td>\n",
              "      <td>0.0</td>\n",
              "      <td>0.0</td>\n",
              "      <td>0.0</td>\n",
              "      <td>0.0</td>\n",
              "      <td>1.0</td>\n",
              "      <td>0.0</td>\n",
              "      <td>1.0</td>\n",
              "      <td>1.0</td>\n",
              "      <td>NaN</td>\n",
              "      <td>NaN</td>\n",
              "      <td>NaN</td>\n",
              "      <td>M0</td>\n",
              "      <td>T</td>\n",
              "      <td>T</td>\n",
              "      <td>NaN</td>\n",
              "      <td>NaN</td>\n",
              "      <td>NaN</td>\n",
              "    </tr>\n",
              "    <tr>\n",
              "      <th>2</th>\n",
              "      <td>2987002</td>\n",
              "      <td>0</td>\n",
              "      <td>86469</td>\n",
              "      <td>59.0</td>\n",
              "      <td>W</td>\n",
              "      <td>4663</td>\n",
              "      <td>490.0</td>\n",
              "      <td>150.0</td>\n",
              "      <td>visa</td>\n",
              "      <td>166.0</td>\n",
              "      <td>debit</td>\n",
              "      <td>outlook.com</td>\n",
              "      <td>NaN</td>\n",
              "      <td>1.0</td>\n",
              "      <td>1.0</td>\n",
              "      <td>0.0</td>\n",
              "      <td>0.0</td>\n",
              "      <td>0.0</td>\n",
              "      <td>1.0</td>\n",
              "      <td>0.0</td>\n",
              "      <td>0.0</td>\n",
              "      <td>1.0</td>\n",
              "      <td>0.0</td>\n",
              "      <td>1.0</td>\n",
              "      <td>0.0</td>\n",
              "      <td>1.0</td>\n",
              "      <td>1.0</td>\n",
              "      <td>T</td>\n",
              "      <td>T</td>\n",
              "      <td>T</td>\n",
              "      <td>M0</td>\n",
              "      <td>F</td>\n",
              "      <td>F</td>\n",
              "      <td>F</td>\n",
              "      <td>F</td>\n",
              "      <td>F</td>\n",
              "    </tr>\n",
              "    <tr>\n",
              "      <th>3</th>\n",
              "      <td>2987003</td>\n",
              "      <td>0</td>\n",
              "      <td>86499</td>\n",
              "      <td>50.0</td>\n",
              "      <td>W</td>\n",
              "      <td>18132</td>\n",
              "      <td>567.0</td>\n",
              "      <td>150.0</td>\n",
              "      <td>mastercard</td>\n",
              "      <td>117.0</td>\n",
              "      <td>debit</td>\n",
              "      <td>yahoo.com</td>\n",
              "      <td>NaN</td>\n",
              "      <td>2.0</td>\n",
              "      <td>5.0</td>\n",
              "      <td>0.0</td>\n",
              "      <td>0.0</td>\n",
              "      <td>0.0</td>\n",
              "      <td>4.0</td>\n",
              "      <td>0.0</td>\n",
              "      <td>0.0</td>\n",
              "      <td>1.0</td>\n",
              "      <td>0.0</td>\n",
              "      <td>1.0</td>\n",
              "      <td>0.0</td>\n",
              "      <td>25.0</td>\n",
              "      <td>1.0</td>\n",
              "      <td>NaN</td>\n",
              "      <td>NaN</td>\n",
              "      <td>NaN</td>\n",
              "      <td>M0</td>\n",
              "      <td>T</td>\n",
              "      <td>F</td>\n",
              "      <td>NaN</td>\n",
              "      <td>NaN</td>\n",
              "      <td>NaN</td>\n",
              "    </tr>\n",
              "    <tr>\n",
              "      <th>4</th>\n",
              "      <td>2987004</td>\n",
              "      <td>0</td>\n",
              "      <td>86506</td>\n",
              "      <td>50.0</td>\n",
              "      <td>H</td>\n",
              "      <td>4497</td>\n",
              "      <td>514.0</td>\n",
              "      <td>150.0</td>\n",
              "      <td>mastercard</td>\n",
              "      <td>102.0</td>\n",
              "      <td>credit</td>\n",
              "      <td>gmail.com</td>\n",
              "      <td>NaN</td>\n",
              "      <td>1.0</td>\n",
              "      <td>1.0</td>\n",
              "      <td>0.0</td>\n",
              "      <td>0.0</td>\n",
              "      <td>0.0</td>\n",
              "      <td>1.0</td>\n",
              "      <td>0.0</td>\n",
              "      <td>1.0</td>\n",
              "      <td>0.0</td>\n",
              "      <td>1.0</td>\n",
              "      <td>1.0</td>\n",
              "      <td>0.0</td>\n",
              "      <td>1.0</td>\n",
              "      <td>1.0</td>\n",
              "      <td>NaN</td>\n",
              "      <td>NaN</td>\n",
              "      <td>NaN</td>\n",
              "      <td>NaN</td>\n",
              "      <td>NaN</td>\n",
              "      <td>NaN</td>\n",
              "      <td>NaN</td>\n",
              "      <td>NaN</td>\n",
              "      <td>NaN</td>\n",
              "    </tr>\n",
              "  </tbody>\n",
              "</table>\n",
              "</div>"
            ],
            "text/plain": [
              "   TransactionID  isFraud  TransactionDT  TransactionAmt  ...   M6   M7   M8   M9\n",
              "0        2987000        0          86400            68.5  ...    T  NaN  NaN  NaN\n",
              "1        2987001        0          86401            29.0  ...    T  NaN  NaN  NaN\n",
              "2        2987002        0          86469            59.0  ...    F    F    F    F\n",
              "3        2987003        0          86499            50.0  ...    F  NaN  NaN  NaN\n",
              "4        2987004        0          86506            50.0  ...  NaN  NaN  NaN  NaN\n",
              "\n",
              "[5 rows x 36 columns]"
            ]
          },
          "metadata": {
            "tags": []
          },
          "execution_count": 4
        }
      ]
    },
    {
      "cell_type": "code",
      "metadata": {
        "id": "xu_T9z5cSp94"
      },
      "source": [
        "df.drop(['TransactionID', 'TransactionDT'], axis = 1, inplace = True) # 도메인 지식하에, 불필요한 변수라 판단하여 삭제"
      ],
      "execution_count": 15,
      "outputs": []
    },
    {
      "cell_type": "markdown",
      "metadata": {
        "id": "WfqZzPs-Sp94"
      },
      "source": [
        "#### 1.2 데이터 분리"
      ]
    },
    {
      "cell_type": "code",
      "metadata": {
        "id": "UGw1Xn6jSp94"
      },
      "source": [
        "X = df.drop(['isFraud'], axis = 1)\n",
        "Y = df['isFraud']\n",
        "\n",
        "from sklearn.model_selection import train_test_split\n",
        "Train_X, Test_X, Train_Y, Test_Y = train_test_split(X, Y)"
      ],
      "execution_count": 16,
      "outputs": []
    },
    {
      "cell_type": "markdown",
      "metadata": {
        "id": "cbvLInUESp94"
      },
      "source": [
        "## 2. 변수 탐색"
      ]
    },
    {
      "cell_type": "markdown",
      "metadata": {
        "id": "WHsyR4aPSp95"
      },
      "source": [
        "#### 2.1 라벨 확인\n",
        "- 사기 거래가 아닌 거래가 전체 거래의 97.4%를 차지\n",
        "- 클래스 불균형 문제가 발생할 확률이 매우 높아보임"
      ]
    },
    {
      "cell_type": "code",
      "metadata": {
        "scrolled": true,
        "colab": {
          "base_uri": "https://localhost:8080/"
        },
        "id": "zozspZweSp95",
        "outputId": "6a4e4dcb-fce3-4055-9ec4-7c3c29a106d3"
      },
      "source": [
        "Train_Y.value_counts(normalize = True)"
      ],
      "execution_count": 17,
      "outputs": [
        {
          "output_type": "execute_result",
          "data": {
            "text/plain": [
              "0    0.97476\n",
              "1    0.02524\n",
              "Name: isFraud, dtype: float64"
            ]
          },
          "metadata": {},
          "execution_count": 17
        }
      ]
    },
    {
      "cell_type": "code",
      "metadata": {
        "colab": {
          "base_uri": "https://localhost:8080/"
        },
        "id": "2cp7v0dfSp95",
        "outputId": "5f02e6b2-ecec-44b3-cbc5-71828e1cb84d"
      },
      "source": [
        "Train_Y.value_counts(normalize = False)"
      ],
      "execution_count": 18,
      "outputs": [
        {
          "output_type": "execute_result",
          "data": {
            "text/plain": [
              "0    73107\n",
              "1     1893\n",
              "Name: isFraud, dtype: int64"
            ]
          },
          "metadata": {},
          "execution_count": 18
        }
      ]
    },
    {
      "cell_type": "markdown",
      "metadata": {
        "id": "8ct5nf46Sp95"
      },
      "source": [
        "#### 2.2 변수별 상태 공간 확인: 컬럼별 유니크한 값 일부 확인\n",
        "\n",
        "탐색 내용 <br>\n",
        "- TransactionAmt는 연속형 변수임이 확실해보임 (히스토그램 등으로 확인)\n",
        "- ProductCD, card4, card6은 범주형 변수임이 확실해보임 (결측 포함)\n",
        "- P_emaildomain, R_emaildomain은 구매자의 이메일 도메인으로 보임. 직관적으로 봤을 때, 유의한 의미가 있을지 의심되며, 둘은 관계가 있을 것으로 보임\n",
        "- card1, card2, card3, card5은 연속형 변수임이 확실해보임 (히스토그램 등으로 확인)\n",
        "- 많은 변수에서 결측이 포함되어 있음\n",
        "- C3를 제외한 C1 ~ C14는 모두 연속형 변수인 것으로 보임. 비식별화되어 있어 대략적인 의미라도 추측을 해야 함\n",
        "- 결측이 매우 많아, 곧바로 대체하기에는 부담이 있어, 결측 분포 확인 필요\n",
        "- M1 ~ M9는 매칭 정보이며, 전부 범주형 변수임이 확실함. T는 매칭됨, F는 매칭되지 않음을 나타내는 것으로 보이며, 모두 결측이 포함"
      ]
    },
    {
      "cell_type": "code",
      "metadata": {
        "id": "8kfF3fzVSp96",
        "colab": {
          "base_uri": "https://localhost:8080/"
        },
        "outputId": "dd6fe17b-ae25-4837-ddd8-fa93f778c7d3"
      },
      "source": [
        "for col in Train_X.columns:\n",
        "    print(\"변수: {}, 타입: {}, 결측 개수: {}, 상태공간 크기: {}, 상태공간 일부: {}\".format(col, Train_X[col].dtype, Train_X[col].isnull().sum(), len(Train_X[col].unique()), Train_X[col].unique()[:5]))"
      ],
      "execution_count": 19,
      "outputs": [
        {
          "output_type": "stream",
          "name": "stdout",
          "text": [
            "변수: TransactionAmt, 타입: float64, 결측 개수: 0, 상태공간 크기: 5443, 상태공간 일부: [100.   200.   110.25 117.    25.  ]\n",
            "변수: ProductCD, 타입: object, 결측 개수: 0, 상태공간 크기: 5, 상태공간 일부: ['R' 'S' 'W' 'H' 'C']\n",
            "변수: card1, 타입: int64, 결측 개수: 0, 상태공간 크기: 6833, 상태공간 일부: [15484  1607  3682 16566 16132]\n",
            "변수: card2, 타입: float64, 결측 개수: 1021, 상태공간 크기: 498, 상태공간 일부: [418. 542. 264. 583. 111.]\n",
            "변수: card3, 타입: float64, 결측 개수: 2, 상태공간 크기: 71, 상태공간 일부: [150. 185. 214. 144. 119.]\n",
            "변수: card4, 타입: object, 결측 개수: 3, 상태공간 크기: 5, 상태공간 일부: ['visa' 'mastercard' 'american express' 'discover' nan]\n",
            "변수: card5, 타입: float64, 결측 개수: 383, 상태공간 크기: 80, 상태공간 일부: [226. 162. 224. 117. 144.]\n",
            "변수: card6, 타입: object, 결측 개수: 2, 상태공간 크기: 5, 상태공간 일부: ['debit' 'credit' 'debit or credit' 'charge card' nan]\n",
            "변수: P_emaildomain, 타입: object, 결측 개수: 11594, 상태공간 크기: 60, 상태공간 일부: ['aol.com' 'gmail.com' nan 'hotmail.com' 'yahoo.com']\n",
            "변수: R_emaildomain, 타입: object, 결측 개수: 49090, 상태공간 크기: 61, 상태공간 일부: ['anonymous.com' 'hotmail.com' nan 'gmail.com' 'icloud.com']\n",
            "변수: C1, 타입: float64, 결측 개수: 0, 상태공간 크기: 1229, 상태공간 일부: [ 1.  3.  2. 13.  8.]\n",
            "변수: C2, 타입: float64, 결측 개수: 0, 상태공간 크기: 796, 상태공간 일부: [ 1.  2.  3. 10. 12.]\n",
            "변수: C3, 타입: float64, 결측 개수: 0, 상태공간 크기: 8, 상태공간 일부: [ 0.  1.  8.  2. 16.]\n",
            "변수: C4, 타입: float64, 결측 개수: 0, 상태공간 크기: 964, 상태공간 일부: [ 1.  0.  2.  3. 34.]\n",
            "변수: C5, 타입: float64, 결측 개수: 0, 상태공간 크기: 243, 상태공간 일부: [  0.   2.  11.   3. 156.]\n",
            "변수: C6, 타입: float64, 결측 개수: 0, 상태공간 크기: 1050, 상태공간 일부: [ 1.  0.  2. 10.  3.]\n",
            "변수: C7, 타입: float64, 결측 개수: 0, 상태공간 크기: 850, 상태공간 일부: [ 0.  1.  3. 34. 46.]\n",
            "변수: C8, 타입: float64, 결측 개수: 0, 상태공간 크기: 920, 상태공간 일부: [1. 0. 2. 3. 9.]\n",
            "변수: C9, 타입: float64, 결측 개수: 0, 상태공간 크기: 168, 상태공간 일부: [ 0.  3.  1.  6. 70.]\n",
            "변수: C10, 타입: float64, 결측 개수: 0, 상태공간 크기: 871, 상태공간 일부: [1. 0. 2. 3. 6.]\n",
            "변수: C11, 타입: float64, 결측 개수: 0, 상태공간 크기: 1125, 상태공간 일부: [ 1.  2.  9.  8. 79.]\n",
            "변수: C12, 타입: float64, 결측 개수: 0, 상태공간 크기: 878, 상태공간 일부: [ 0.  1.  3.  2. 84.]\n",
            "변수: C13, 타입: float64, 결측 개수: 0, 상태공간 크기: 1295, 상태공간 일부: [ 1.  2. 12. 79. 36.]\n",
            "변수: C14, 타입: float64, 결측 개수: 0, 상태공간 크기: 917, 상태공간 일부: [  1.   2.  11.   7. 102.]\n",
            "변수: M1, 타입: object, 결측 개수: 51353, 상태공간 크기: 2, 상태공간 일부: [nan 'T']\n",
            "변수: M2, 타입: object, 결측 개수: 51353, 상태공간 크기: 3, 상태공간 일부: [nan 'T' 'F']\n",
            "변수: M3, 타입: object, 결측 개수: 51353, 상태공간 크기: 3, 상태공간 일부: [nan 'T' 'F']\n",
            "변수: M4, 타입: object, 결측 개수: 43301, 상태공간 크기: 4, 상태공간 일부: [nan 'M0' 'M2' 'M1']\n",
            "변수: M5, 타입: object, 결측 개수: 51674, 상태공간 크기: 3, 상태공간 일부: [nan 'T' 'F']\n",
            "변수: M6, 타입: object, 결측 개수: 34229, 상태공간 크기: 3, 상태공간 일부: [nan 'T' 'F']\n",
            "변수: M7, 타입: object, 결측 개수: 62922, 상태공간 크기: 3, 상태공간 일부: [nan 'F' 'T']\n",
            "변수: M8, 타입: object, 결측 개수: 62922, 상태공간 크기: 3, 상태공간 일부: [nan 'T' 'F']\n",
            "변수: M9, 타입: object, 결측 개수: 62922, 상태공간 크기: 3, 상태공간 일부: [nan 'T' 'F']\n"
          ]
        }
      ]
    },
    {
      "cell_type": "markdown",
      "metadata": {
        "id": "ATxXd8MfSp96"
      },
      "source": [
        "#### 2.3 탐색을 위한 데이터 준비: 특징과 라벨 데이터 병합"
      ]
    },
    {
      "cell_type": "code",
      "metadata": {
        "id": "alI2kFmZSp96",
        "colab": {
          "base_uri": "https://localhost:8080/",
          "height": 279
        },
        "outputId": "adb812fa-7e2c-40c8-c0e8-d8bd1453df9a"
      },
      "source": [
        "Train_df = pd.concat([Train_X, Train_Y], axis = 1)\n",
        "Train_df.head()"
      ],
      "execution_count": 20,
      "outputs": [
        {
          "output_type": "execute_result",
          "data": {
            "text/plain": [
              "       TransactionAmt ProductCD  card1  card2  card3       card4  card5  \\\n",
              "55193          100.00         R  15484  418.0  150.0        visa  226.0   \n",
              "36181          200.00         R   1607  542.0  150.0        visa  226.0   \n",
              "62850          110.25         S   3682  264.0  150.0        visa  162.0   \n",
              "38103          117.00         W   3682  264.0  150.0        visa  226.0   \n",
              "63364           25.00         H  16566  583.0  150.0  mastercard  224.0   \n",
              "\n",
              "        card6 P_emaildomain  R_emaildomain  ...   M1   M2   M3   M4   M5   M6  \\\n",
              "55193   debit       aol.com  anonymous.com  ...  NaN  NaN  NaN  NaN  NaN  NaN   \n",
              "36181   debit     gmail.com    hotmail.com  ...  NaN  NaN  NaN  NaN  NaN  NaN   \n",
              "62850  credit           NaN            NaN  ...  NaN  NaN  NaN  NaN  NaN  NaN   \n",
              "38103  credit   hotmail.com            NaN  ...  NaN  NaN  NaN   M0    T    T   \n",
              "63364  credit     yahoo.com            NaN  ...  NaN  NaN  NaN  NaN  NaN  NaN   \n",
              "\n",
              "        M7   M8   M9  isFraud  \n",
              "55193  NaN  NaN  NaN        0  \n",
              "36181  NaN  NaN  NaN        0  \n",
              "62850  NaN  NaN  NaN        0  \n",
              "38103  NaN  NaN  NaN        0  \n",
              "63364  NaN  NaN  NaN        0  \n",
              "\n",
              "[5 rows x 34 columns]"
            ],
            "text/html": [
              "\n",
              "  <div id=\"df-4aa6414c-bba0-48da-99a1-3bc2ebf8924b\">\n",
              "    <div class=\"colab-df-container\">\n",
              "      <div>\n",
              "<style scoped>\n",
              "    .dataframe tbody tr th:only-of-type {\n",
              "        vertical-align: middle;\n",
              "    }\n",
              "\n",
              "    .dataframe tbody tr th {\n",
              "        vertical-align: top;\n",
              "    }\n",
              "\n",
              "    .dataframe thead th {\n",
              "        text-align: right;\n",
              "    }\n",
              "</style>\n",
              "<table border=\"1\" class=\"dataframe\">\n",
              "  <thead>\n",
              "    <tr style=\"text-align: right;\">\n",
              "      <th></th>\n",
              "      <th>TransactionAmt</th>\n",
              "      <th>ProductCD</th>\n",
              "      <th>card1</th>\n",
              "      <th>card2</th>\n",
              "      <th>card3</th>\n",
              "      <th>card4</th>\n",
              "      <th>card5</th>\n",
              "      <th>card6</th>\n",
              "      <th>P_emaildomain</th>\n",
              "      <th>R_emaildomain</th>\n",
              "      <th>...</th>\n",
              "      <th>M1</th>\n",
              "      <th>M2</th>\n",
              "      <th>M3</th>\n",
              "      <th>M4</th>\n",
              "      <th>M5</th>\n",
              "      <th>M6</th>\n",
              "      <th>M7</th>\n",
              "      <th>M8</th>\n",
              "      <th>M9</th>\n",
              "      <th>isFraud</th>\n",
              "    </tr>\n",
              "  </thead>\n",
              "  <tbody>\n",
              "    <tr>\n",
              "      <th>55193</th>\n",
              "      <td>100.00</td>\n",
              "      <td>R</td>\n",
              "      <td>15484</td>\n",
              "      <td>418.0</td>\n",
              "      <td>150.0</td>\n",
              "      <td>visa</td>\n",
              "      <td>226.0</td>\n",
              "      <td>debit</td>\n",
              "      <td>aol.com</td>\n",
              "      <td>anonymous.com</td>\n",
              "      <td>...</td>\n",
              "      <td>NaN</td>\n",
              "      <td>NaN</td>\n",
              "      <td>NaN</td>\n",
              "      <td>NaN</td>\n",
              "      <td>NaN</td>\n",
              "      <td>NaN</td>\n",
              "      <td>NaN</td>\n",
              "      <td>NaN</td>\n",
              "      <td>NaN</td>\n",
              "      <td>0</td>\n",
              "    </tr>\n",
              "    <tr>\n",
              "      <th>36181</th>\n",
              "      <td>200.00</td>\n",
              "      <td>R</td>\n",
              "      <td>1607</td>\n",
              "      <td>542.0</td>\n",
              "      <td>150.0</td>\n",
              "      <td>visa</td>\n",
              "      <td>226.0</td>\n",
              "      <td>debit</td>\n",
              "      <td>gmail.com</td>\n",
              "      <td>hotmail.com</td>\n",
              "      <td>...</td>\n",
              "      <td>NaN</td>\n",
              "      <td>NaN</td>\n",
              "      <td>NaN</td>\n",
              "      <td>NaN</td>\n",
              "      <td>NaN</td>\n",
              "      <td>NaN</td>\n",
              "      <td>NaN</td>\n",
              "      <td>NaN</td>\n",
              "      <td>NaN</td>\n",
              "      <td>0</td>\n",
              "    </tr>\n",
              "    <tr>\n",
              "      <th>62850</th>\n",
              "      <td>110.25</td>\n",
              "      <td>S</td>\n",
              "      <td>3682</td>\n",
              "      <td>264.0</td>\n",
              "      <td>150.0</td>\n",
              "      <td>visa</td>\n",
              "      <td>162.0</td>\n",
              "      <td>credit</td>\n",
              "      <td>NaN</td>\n",
              "      <td>NaN</td>\n",
              "      <td>...</td>\n",
              "      <td>NaN</td>\n",
              "      <td>NaN</td>\n",
              "      <td>NaN</td>\n",
              "      <td>NaN</td>\n",
              "      <td>NaN</td>\n",
              "      <td>NaN</td>\n",
              "      <td>NaN</td>\n",
              "      <td>NaN</td>\n",
              "      <td>NaN</td>\n",
              "      <td>0</td>\n",
              "    </tr>\n",
              "    <tr>\n",
              "      <th>38103</th>\n",
              "      <td>117.00</td>\n",
              "      <td>W</td>\n",
              "      <td>3682</td>\n",
              "      <td>264.0</td>\n",
              "      <td>150.0</td>\n",
              "      <td>visa</td>\n",
              "      <td>226.0</td>\n",
              "      <td>credit</td>\n",
              "      <td>hotmail.com</td>\n",
              "      <td>NaN</td>\n",
              "      <td>...</td>\n",
              "      <td>NaN</td>\n",
              "      <td>NaN</td>\n",
              "      <td>NaN</td>\n",
              "      <td>M0</td>\n",
              "      <td>T</td>\n",
              "      <td>T</td>\n",
              "      <td>NaN</td>\n",
              "      <td>NaN</td>\n",
              "      <td>NaN</td>\n",
              "      <td>0</td>\n",
              "    </tr>\n",
              "    <tr>\n",
              "      <th>63364</th>\n",
              "      <td>25.00</td>\n",
              "      <td>H</td>\n",
              "      <td>16566</td>\n",
              "      <td>583.0</td>\n",
              "      <td>150.0</td>\n",
              "      <td>mastercard</td>\n",
              "      <td>224.0</td>\n",
              "      <td>credit</td>\n",
              "      <td>yahoo.com</td>\n",
              "      <td>NaN</td>\n",
              "      <td>...</td>\n",
              "      <td>NaN</td>\n",
              "      <td>NaN</td>\n",
              "      <td>NaN</td>\n",
              "      <td>NaN</td>\n",
              "      <td>NaN</td>\n",
              "      <td>NaN</td>\n",
              "      <td>NaN</td>\n",
              "      <td>NaN</td>\n",
              "      <td>NaN</td>\n",
              "      <td>0</td>\n",
              "    </tr>\n",
              "  </tbody>\n",
              "</table>\n",
              "<p>5 rows × 34 columns</p>\n",
              "</div>\n",
              "      <button class=\"colab-df-convert\" onclick=\"convertToInteractive('df-4aa6414c-bba0-48da-99a1-3bc2ebf8924b')\"\n",
              "              title=\"Convert this dataframe to an interactive table.\"\n",
              "              style=\"display:none;\">\n",
              "        \n",
              "  <svg xmlns=\"http://www.w3.org/2000/svg\" height=\"24px\"viewBox=\"0 0 24 24\"\n",
              "       width=\"24px\">\n",
              "    <path d=\"M0 0h24v24H0V0z\" fill=\"none\"/>\n",
              "    <path d=\"M18.56 5.44l.94 2.06.94-2.06 2.06-.94-2.06-.94-.94-2.06-.94 2.06-2.06.94zm-11 1L8.5 8.5l.94-2.06 2.06-.94-2.06-.94L8.5 2.5l-.94 2.06-2.06.94zm10 10l.94 2.06.94-2.06 2.06-.94-2.06-.94-.94-2.06-.94 2.06-2.06.94z\"/><path d=\"M17.41 7.96l-1.37-1.37c-.4-.4-.92-.59-1.43-.59-.52 0-1.04.2-1.43.59L10.3 9.45l-7.72 7.72c-.78.78-.78 2.05 0 2.83L4 21.41c.39.39.9.59 1.41.59.51 0 1.02-.2 1.41-.59l7.78-7.78 2.81-2.81c.8-.78.8-2.07 0-2.86zM5.41 20L4 18.59l7.72-7.72 1.47 1.35L5.41 20z\"/>\n",
              "  </svg>\n",
              "      </button>\n",
              "      \n",
              "  <style>\n",
              "    .colab-df-container {\n",
              "      display:flex;\n",
              "      flex-wrap:wrap;\n",
              "      gap: 12px;\n",
              "    }\n",
              "\n",
              "    .colab-df-convert {\n",
              "      background-color: #E8F0FE;\n",
              "      border: none;\n",
              "      border-radius: 50%;\n",
              "      cursor: pointer;\n",
              "      display: none;\n",
              "      fill: #1967D2;\n",
              "      height: 32px;\n",
              "      padding: 0 0 0 0;\n",
              "      width: 32px;\n",
              "    }\n",
              "\n",
              "    .colab-df-convert:hover {\n",
              "      background-color: #E2EBFA;\n",
              "      box-shadow: 0px 1px 2px rgba(60, 64, 67, 0.3), 0px 1px 3px 1px rgba(60, 64, 67, 0.15);\n",
              "      fill: #174EA6;\n",
              "    }\n",
              "\n",
              "    [theme=dark] .colab-df-convert {\n",
              "      background-color: #3B4455;\n",
              "      fill: #D2E3FC;\n",
              "    }\n",
              "\n",
              "    [theme=dark] .colab-df-convert:hover {\n",
              "      background-color: #434B5C;\n",
              "      box-shadow: 0px 1px 3px 1px rgba(0, 0, 0, 0.15);\n",
              "      filter: drop-shadow(0px 1px 2px rgba(0, 0, 0, 0.3));\n",
              "      fill: #FFFFFF;\n",
              "    }\n",
              "  </style>\n",
              "\n",
              "      <script>\n",
              "        const buttonEl =\n",
              "          document.querySelector('#df-4aa6414c-bba0-48da-99a1-3bc2ebf8924b button.colab-df-convert');\n",
              "        buttonEl.style.display =\n",
              "          google.colab.kernel.accessAllowed ? 'block' : 'none';\n",
              "\n",
              "        async function convertToInteractive(key) {\n",
              "          const element = document.querySelector('#df-4aa6414c-bba0-48da-99a1-3bc2ebf8924b');\n",
              "          const dataTable =\n",
              "            await google.colab.kernel.invokeFunction('convertToInteractive',\n",
              "                                                     [key], {});\n",
              "          if (!dataTable) return;\n",
              "\n",
              "          const docLinkHtml = 'Like what you see? Visit the ' +\n",
              "            '<a target=\"_blank\" href=https://colab.research.google.com/notebooks/data_table.ipynb>data table notebook</a>'\n",
              "            + ' to learn more about interactive tables.';\n",
              "          element.innerHTML = '';\n",
              "          dataTable['output_type'] = 'display_data';\n",
              "          await google.colab.output.renderOutput(dataTable, element);\n",
              "          const docLink = document.createElement('div');\n",
              "          docLink.innerHTML = docLinkHtml;\n",
              "          element.appendChild(docLink);\n",
              "        }\n",
              "      </script>\n",
              "    </div>\n",
              "  </div>\n",
              "  "
            ]
          },
          "metadata": {},
          "execution_count": 20
        }
      ]
    },
    {
      "cell_type": "markdown",
      "metadata": {
        "id": "beIQwfiCSp96"
      },
      "source": [
        "#### 2.4 범주형 변수 탐색\n",
        "(1) 결측을 문자로 변환 (탐색을 위해 임시 변환) <br>\n",
        "(2) 변수별 분포 확인 (bar plot) <br>\n",
        "(3) 변수와 특징 간 관계 확인 (groupby)"
      ]
    },
    {
      "cell_type": "markdown",
      "metadata": {
        "id": "R9KdHLH9Sp96"
      },
      "source": [
        "2.4.1 ProductCD"
      ]
    },
    {
      "cell_type": "code",
      "metadata": {
        "id": "5Vw_zCB6Sp97",
        "colab": {
          "base_uri": "https://localhost:8080/"
        },
        "outputId": "282d00dd-c9ac-4160-b3ba-1e7ce75c3310"
      },
      "source": [
        "Train_df['ProductCD'].isnull().sum() # 결측이 전혀없어서, 결측을 문자로 변환할 필요 없음"
      ],
      "execution_count": 48,
      "outputs": [
        {
          "output_type": "execute_result",
          "data": {
            "text/plain": [
              "0"
            ]
          },
          "metadata": {},
          "execution_count": 48
        }
      ]
    },
    {
      "cell_type": "code",
      "metadata": {
        "id": "3d_YATF1Sp97",
        "colab": {
          "base_uri": "https://localhost:8080/",
          "height": 342
        },
        "outputId": "19743473-3b25-4c3a-c7f9-277f0a8c5e8f"
      },
      "source": [
        "Train_df['ProductCD'].value_counts(normalize = True).plot(kind = 'bar') # value_counts에 대한 bar plot 생성\n",
        "# ProdudctCD가 W가 매우 높은 비율을 차지하며, S는 1% 가량됨을 확인"
      ],
      "execution_count": 49,
      "outputs": [
        {
          "output_type": "execute_result",
          "data": {
            "text/plain": [
              "<matplotlib.axes._subplots.AxesSubplot at 0x7f42ace0e6d0>"
            ]
          },
          "metadata": {},
          "execution_count": 49
        },
        {
          "output_type": "display_data",
          "data": {
            "text/plain": [
              "<Figure size 1440x360 with 1 Axes>"
            ],
            "image/png": "[encoded data removed]"
          },
          "metadata": {
            "needs_background": "light"
          }
        }
      ]
    },
    {
      "cell_type": "code",
      "metadata": {
        "id": "3xbBsNodSp97",
        "colab": {
          "base_uri": "https://localhost:8080/"
        },
        "outputId": "7a6a8a30-d10c-47be-8222-1c4ad84983ab"
      },
      "source": [
        "# 상품별로 차이가 존재함을 확인 (다만, H와 W는 거의 유사하다고 판단됨)\n",
        "# 상태 공간의 크기가 그리 크지 않으니, 굳이 변수 값의 군집화는 수행하지 않고 더미화를 하기로 결정\n",
        "Train_df.groupby('ProductCD')['isFraud'].mean()"
      ],
      "execution_count": 50,
      "outputs": [
        {
          "output_type": "execute_result",
          "data": {
            "text/plain": [
              "ProductCD\n",
              "C    0.087601\n",
              "H    0.019332\n",
              "R    0.010330\n",
              "S    0.022408\n",
              "W    0.018266\n",
              "Name: isFraud, dtype: float64"
            ]
          },
          "metadata": {},
          "execution_count": 50
        }
      ]
    },
    {
      "cell_type": "markdown",
      "metadata": {
        "id": "IcKsb0wsSp97"
      },
      "source": [
        "2.4.2 card4"
      ]
    },
    {
      "cell_type": "code",
      "metadata": {
        "id": "95Mvm2BeSp98",
        "colab": {
          "base_uri": "https://localhost:8080/"
        },
        "outputId": "10ea77df-7518-4fe8-f1d4-f6f215a99226"
      },
      "source": [
        "Train_df['card4'].isnull().sum() # 결측이 6개밖에 되지 않음 ==> 전부 최빈값으로 대체"
      ],
      "execution_count": 51,
      "outputs": [
        {
          "output_type": "execute_result",
          "data": {
            "text/plain": [
              "3"
            ]
          },
          "metadata": {},
          "execution_count": 51
        }
      ]
    },
    {
      "cell_type": "code",
      "metadata": {
        "id": "4ImUBLpgSp98",
        "colab": {
          "base_uri": "https://localhost:8080/",
          "height": 461
        },
        "outputId": "21f0df72-654a-45b0-a26b-8c9fab17964a"
      },
      "source": [
        "Train_df['card4'].value_counts(normalize = True).plot(kind = 'bar') # value_counts에 대한 bar plot 생성\n",
        "# visa와 master card가 매우 높은 비율을 차지하며, discover는 거의 발생하지 않음"
      ],
      "execution_count": 52,
      "outputs": [
        {
          "output_type": "execute_result",
          "data": {
            "text/plain": [
              "<matplotlib.axes._subplots.AxesSubplot at 0x7f42acd39ad0>"
            ]
          },
          "metadata": {},
          "execution_count": 52
        },
        {
          "output_type": "display_data",
          "data": {
            "text/plain": [
              "<Figure size 1440x360 with 1 Axes>"
            ],
            "image/png": "[encoded data removed]"
          },
          "metadata": {
            "needs_background": "light"
          }
        }
      ]
    },
    {
      "cell_type": "code",
      "metadata": {
        "id": "VnCRTMj3Sp98",
        "colab": {
          "base_uri": "https://localhost:8080/"
        },
        "outputId": "2bb8dd91-6f63-4f20-ec31-bedcc6ec20c9"
      },
      "source": [
        "# 거래의 대다수를 차지하는 visa와 mastercard의 값이 유사\n",
        "# american express만 유독 값이 작으며 해당 값의 빈도가 높지 않음 => 해당 변수를 american express란 변수로 이진화\n",
        "# 따라서 결측을 특별히 제거할 필요가 없음\n",
        "Train_df.groupby('card4')['isFraud'].mean()"
      ],
      "execution_count": 53,
      "outputs": [
        {
          "output_type": "execute_result",
          "data": {
            "text/plain": [
              "card4\n",
              "american express    0.009581\n",
              "discover            0.025501\n",
              "mastercard          0.028480\n",
              "visa                0.024531\n",
              "Name: isFraud, dtype: float64"
            ]
          },
          "metadata": {},
          "execution_count": 53
        }
      ]
    },
    {
      "cell_type": "markdown",
      "metadata": {
        "id": "fCAdBIEcSp98"
      },
      "source": [
        "2.4.3 card6"
      ]
    },
    {
      "cell_type": "code",
      "metadata": {
        "id": "rDcbWNCdSp98",
        "colab": {
          "base_uri": "https://localhost:8080/"
        },
        "outputId": "7982f31a-4620-4aea-f646-4131e5af9e06"
      },
      "source": [
        "Train_df['card6'].isnull().sum() # 결측이 4개밖에 되지 않음 ==> 전부 최빈값으로 대체"
      ],
      "execution_count": 54,
      "outputs": [
        {
          "output_type": "execute_result",
          "data": {
            "text/plain": [
              "2"
            ]
          },
          "metadata": {},
          "execution_count": 54
        }
      ]
    },
    {
      "cell_type": "code",
      "metadata": {
        "id": "P65CuTpbSp99",
        "colab": {
          "base_uri": "https://localhost:8080/",
          "height": 433
        },
        "outputId": "ae2fd0a6-7d1c-4bcb-8dd4-64f3a967b44f"
      },
      "source": [
        "Train_df['card6'].value_counts(normalize = True).plot(kind = 'bar') # value_counts에 대한 bar plot 생성\n",
        "# debit과 credit이 대다수를 차지. 다른 값들은 육안으로 확인이 불가능한 수준"
      ],
      "execution_count": 55,
      "outputs": [
        {
          "output_type": "execute_result",
          "data": {
            "text/plain": [
              "<matplotlib.axes._subplots.AxesSubplot at 0x7f42acd35790>"
            ]
          },
          "metadata": {},
          "execution_count": 55
        },
        {
          "output_type": "display_data",
          "data": {
            "text/plain": [
              "<Figure size 1440x360 with 1 Axes>"
            ],
            "image/png": "[encoded data removed]"
          },
          "metadata": {
            "needs_background": "light"
          }
        }
      ]
    },
    {
      "cell_type": "code",
      "metadata": {
        "id": "j4DEWoqrSp99",
        "colab": {
          "base_uri": "https://localhost:8080/"
        },
        "outputId": "f85e98c1-1c0a-4347-a8e9-94fe7ea2c272"
      },
      "source": [
        "Train_df['card6'].value_counts(normalize = False) # debit or credit, charge card는 빈도가 매우 적음"
      ],
      "execution_count": 56,
      "outputs": [
        {
          "output_type": "execute_result",
          "data": {
            "text/plain": [
              "debit              48716\n",
              "credit             26275\n",
              "debit or credit        5\n",
              "charge card            2\n",
              "Name: card6, dtype: int64"
            ]
          },
          "metadata": {},
          "execution_count": 56
        }
      ]
    },
    {
      "cell_type": "code",
      "metadata": {
        "id": "6lb6VD-SSp99",
        "colab": {
          "base_uri": "https://localhost:8080/"
        },
        "outputId": "1e0308c5-df98-4db7-b79e-c235bef25f41"
      },
      "source": [
        "# credit과 debit의 차이가 존재\n",
        "# charge card, debit or credit은 전부 0임을 확인 ==> 그러나 빈도 자체가 매우 적어서 그런 것이라 예상됨\n",
        "# 따라서 credit인지 나타내는 변수로만 변환\n",
        "Train_df.groupby('card6')['isFraud'].mean()"
      ],
      "execution_count": 57,
      "outputs": [
        {
          "output_type": "execute_result",
          "data": {
            "text/plain": [
              "card6\n",
              "charge card        0.000000\n",
              "credit             0.034672\n",
              "debit              0.020117\n",
              "debit or credit    0.000000\n",
              "Name: isFraud, dtype: float64"
            ]
          },
          "metadata": {},
          "execution_count": 57
        }
      ]
    },
    {
      "cell_type": "markdown",
      "metadata": {
        "id": "Ft6C_qM4Sp99"
      },
      "source": [
        "2.4.4 P_emaildomain과 R_emaildomain\n",
        "\n",
        "- 이전 탐색에서 각각의 상태 공간 크기가 60, 61임을 확인 (대다수가 gmail 혹은 yahoo 메일임)\n",
        "- 또한, 결측이 매우 많았는데, email이 결측이라는 것이 어떤 의미가 있을것이라 의심됨\n",
        "- 샘플의 개수를 고려하더라도 그 크기가 큰 범주형 변수라고 판단 가능\n",
        "- 두 변수간 관계가 있으리라 쉽게 판단 가능\n",
        "- 또한, .를 기준으로 앞쪽에는 실제 도메인이, 뒤쪽에는 com, net 등이 포함되어 있어 분할 필요"
      ]
    },
    {
      "cell_type": "code",
      "metadata": {
        "id": "im53F2TDSp99",
        "colab": {
          "base_uri": "https://localhost:8080/"
        },
        "outputId": "3d8d7397-4645-408c-fb79-29a366a2c0a5"
      },
      "source": [
        "Train_df['P_emaildomain'].value_counts()"
      ],
      "execution_count": 58,
      "outputs": [
        {
          "output_type": "execute_result",
          "data": {
            "text/plain": [
              "gmail           27312\n",
              "yahoo           12167\n",
              "anonymous        6524\n",
              "hotmail          6138\n",
              "aol              3620\n",
              "comcast          1407\n",
              "icloud            687\n",
              "msn               619\n",
              "outlook           609\n",
              "att               531\n",
              "sbcglobal         485\n",
              "live              478\n",
              "verizon           460\n",
              "bellsouth         321\n",
              "cox               288\n",
              "me                273\n",
              "ymail             270\n",
              "charter           174\n",
              "optonline         142\n",
              "mac                91\n",
              "rocketmail         82\n",
              "earthlink          68\n",
              "embarqmail         56\n",
              "netzero            53\n",
              "mail               52\n",
              "roadrunner         51\n",
              "juno               51\n",
              "windstream         45\n",
              "twc                39\n",
              "frontier           34\n",
              "q                  34\n",
              "web                32\n",
              "aim                27\n",
              "prodigy            27\n",
              "frontiernet        27\n",
              "cfl                23\n",
              "suddenlink         20\n",
              "ptd                17\n",
              "cableone           17\n",
              "centurylink        16\n",
              "gmx                14\n",
              "sc                 12\n",
              "protonmail          8\n",
              "servicios-ta        5\n",
              "Name: P_emaildomain, dtype: int64"
            ]
          },
          "metadata": {},
          "execution_count": 58
        }
      ]
    },
    {
      "cell_type": "code",
      "metadata": {
        "id": "T8hP_lG4Sp99",
        "colab": {
          "base_uri": "https://localhost:8080/"
        },
        "outputId": "c423d144-b978-4f98-85d4-33dd63c0e278"
      },
      "source": [
        "Train_df['R_emaildomain'].value_counts()"
      ],
      "execution_count": 59,
      "outputs": [
        {
          "output_type": "execute_result",
          "data": {
            "text/plain": [
              "gmail           9720\n",
              "anonymous       5235\n",
              "hotmail         4139\n",
              "yahoo           2699\n",
              "aol              991\n",
              "comcast          595\n",
              "outlook          362\n",
              "icloud           239\n",
              "live             239\n",
              "msn              224\n",
              "verizon          187\n",
              "sbcglobal        175\n",
              "cox              168\n",
              "me               143\n",
              "bellsouth        139\n",
              "att              127\n",
              "ymail             61\n",
              "optonline         49\n",
              "mac               46\n",
              "web               31\n",
              "charter           30\n",
              "mail              28\n",
              "prodigy           27\n",
              "embarqmail        25\n",
              "frontier          22\n",
              "earthlink         21\n",
              "juno              21\n",
              "windstream        20\n",
              "roadrunner        17\n",
              "rocketmail        15\n",
              "gmx               14\n",
              "cfl               14\n",
              "q                 14\n",
              "suddenlink        12\n",
              "ptd                9\n",
              "netzero            9\n",
              "twc                8\n",
              "frontiernet        8\n",
              "cableone           5\n",
              "aim                5\n",
              "centurylink        5\n",
              "servicios-ta       5\n",
              "scranton           4\n",
              "sc                 2\n",
              "protonmail         1\n",
              "Name: R_emaildomain, dtype: int64"
            ]
          },
          "metadata": {},
          "execution_count": 59
        }
      ]
    },
    {
      "cell_type": "code",
      "metadata": {
        "id": "LVJp5mbGSp9-"
      },
      "source": [
        "# 결측이 의미가 있는지 확인 (두 변수 모두 결측이 많다는 것은 위에서 확인함)\n",
        "# 결측을 나타내는 변수 생성\n",
        "Train_df['NA_P_emaildomain'] = Train_df['P_emaildomain'].isnull().astype(int)\n",
        "Train_df['NA_R_emaildomain'] = Train_df['R_emaildomain'].isnull().astype(int)"
      ],
      "execution_count": 60,
      "outputs": []
    },
    {
      "cell_type": "code",
      "metadata": {
        "id": "yebFHRsfSp9-",
        "colab": {
          "base_uri": "https://localhost:8080/"
        },
        "outputId": "f6464ce2-3ac9-482f-8efc-1904da4884aa"
      },
      "source": [
        "# P_emaildomain은 크게 문제 없어보임\n",
        "Train_df.groupby('NA_P_emaildomain')['isFraud'].mean()"
      ],
      "execution_count": 61,
      "outputs": [
        {
          "output_type": "execute_result",
          "data": {
            "text/plain": [
              "NA_P_emaildomain\n",
              "0    0.025723\n",
              "1    0.022598\n",
              "Name: isFraud, dtype: float64"
            ]
          },
          "metadata": {},
          "execution_count": 61
        }
      ]
    },
    {
      "cell_type": "code",
      "metadata": {
        "id": "qFIRhT7lSp-A",
        "colab": {
          "base_uri": "https://localhost:8080/"
        },
        "outputId": "761a06b5-3a4c-4fb7-c284-f01cc21de73b"
      },
      "source": [
        "# R_emaildomain은 오히려 결측이 발생하지 않았을 때 사기인 경우가 더 많음을 확인 ==> 변수로 활용\n",
        "Train_df.groupby('NA_R_emaildomain')['isFraud'].mean()"
      ],
      "execution_count": 62,
      "outputs": [
        {
          "output_type": "execute_result",
          "data": {
            "text/plain": [
              "NA_R_emaildomain\n",
              "0    0.040718\n",
              "1    0.017071\n",
              "Name: isFraud, dtype: float64"
            ]
          },
          "metadata": {},
          "execution_count": 62
        }
      ]
    },
    {
      "cell_type": "code",
      "metadata": {
        "id": "WPlgLVeCSp-A"
      },
      "source": [
        "# 유의한 도메인만 가져와서 추가 탐색 수행\n",
        "Train_df['P_emaildomain'] = Train_df['P_emaildomain'].str.split('.', expand = True).iloc[:, 0]\n",
        "Train_df['R_emaildomain'] = Train_df['R_emaildomain'].str.split('.', expand = True).iloc[:, 0]"
      ],
      "execution_count": 63,
      "outputs": []
    },
    {
      "cell_type": "code",
      "metadata": {
        "id": "3UvjMVnjSp-A",
        "colab": {
          "base_uri": "https://localhost:8080/"
        },
        "outputId": "e414e8c5-944b-4560-ca85-6db902604f6c"
      },
      "source": [
        "# P_emaildomain에 따른 isFraud의 평균 차이가 존재함\n",
        "# 다만, aim.com, cableone.net 등은 그 빈도가 매우 적어서 이 차이가 유의한 것인지 판단이 불가\n",
        "Train_df.groupby('P_emaildomain')['isFraud'].mean()"
      ],
      "execution_count": 64,
      "outputs": [
        {
          "output_type": "execute_result",
          "data": {
            "text/plain": [
              "P_emaildomain\n",
              "aim             0.000000\n",
              "anonymous       0.009197\n",
              "aol             0.012983\n",
              "att             0.007533\n",
              "bellsouth       0.000000\n",
              "cableone        0.058824\n",
              "centurylink     0.000000\n",
              "cfl             0.000000\n",
              "charter         0.005747\n",
              "comcast         0.009240\n",
              "cox             0.003472\n",
              "earthlink       0.000000\n",
              "embarqmail      0.000000\n",
              "frontier        0.000000\n",
              "frontiernet     0.074074\n",
              "gmail           0.034856\n",
              "gmx             0.000000\n",
              "hotmail         0.047084\n",
              "icloud          0.033479\n",
              "juno            0.000000\n",
              "live            0.025105\n",
              "mac             0.000000\n",
              "mail            0.134615\n",
              "me              0.018315\n",
              "msn             0.017771\n",
              "netzero         0.000000\n",
              "optonline       0.000000\n",
              "outlook         0.054187\n",
              "prodigy         0.000000\n",
              "protonmail      0.125000\n",
              "ptd             0.000000\n",
              "q               0.000000\n",
              "roadrunner      0.000000\n",
              "rocketmail      0.000000\n",
              "sbcglobal       0.002062\n",
              "sc              0.000000\n",
              "servicios-ta    0.000000\n",
              "suddenlink      0.000000\n",
              "twc             0.000000\n",
              "verizon         0.002174\n",
              "web             0.000000\n",
              "windstream      0.000000\n",
              "yahoo           0.013068\n",
              "ymail           0.029630\n",
              "Name: isFraud, dtype: float64"
            ]
          },
          "metadata": {},
          "execution_count": 64
        }
      ]
    },
    {
      "cell_type": "code",
      "metadata": {
        "id": "NTaywEJQSp-B",
        "colab": {
          "base_uri": "https://localhost:8080/"
        },
        "outputId": "2aac1766-9056-4947-f10b-79c3264ad9b8"
      },
      "source": [
        "# P_emaildomain에 따른 isFraud의 평균 차이가 존재함\n",
        "# 다만, 대다수 값이 그 빈도가 매우 적어서 이 차이가 유의한 것인지 판단이 불가\n",
        "Train_df.groupby('R_emaildomain')['isFraud'].mean()"
      ],
      "execution_count": 65,
      "outputs": [
        {
          "output_type": "execute_result",
          "data": {
            "text/plain": [
              "R_emaildomain\n",
              "aim             0.000000\n",
              "anonymous       0.008405\n",
              "aol             0.007064\n",
              "att             0.000000\n",
              "bellsouth       0.000000\n",
              "cableone        0.000000\n",
              "centurylink     0.000000\n",
              "cfl             0.000000\n",
              "charter         0.000000\n",
              "comcast         0.015126\n",
              "cox             0.005952\n",
              "earthlink       0.000000\n",
              "embarqmail      0.000000\n",
              "frontier        0.000000\n",
              "frontiernet     0.000000\n",
              "gmail           0.063580\n",
              "gmx             0.000000\n",
              "hotmail         0.062576\n",
              "icloud          0.041841\n",
              "juno            0.000000\n",
              "live            0.004184\n",
              "mac             0.000000\n",
              "mail            0.107143\n",
              "me              0.000000\n",
              "msn             0.004464\n",
              "netzero         0.000000\n",
              "optonline       0.000000\n",
              "outlook         0.074586\n",
              "prodigy         0.000000\n",
              "protonmail      1.000000\n",
              "ptd             0.000000\n",
              "q               0.000000\n",
              "roadrunner      0.000000\n",
              "rocketmail      0.000000\n",
              "sbcglobal       0.000000\n",
              "sc              0.000000\n",
              "scranton        0.000000\n",
              "servicios-ta    0.000000\n",
              "suddenlink      0.000000\n",
              "twc             0.000000\n",
              "verizon         0.000000\n",
              "web             0.000000\n",
              "windstream      0.000000\n",
              "yahoo           0.024454\n",
              "ymail           0.131148\n",
              "Name: isFraud, dtype: float64"
            ]
          },
          "metadata": {},
          "execution_count": 65
        }
      ]
    },
    {
      "cell_type": "code",
      "metadata": {
        "id": "We7oEwyhSp-B",
        "colab": {
          "base_uri": "https://localhost:8080/"
        },
        "outputId": "3e208030-08f4-49d2-b9bb-8231eaebd1af"
      },
      "source": [
        "# 같은 거래라면 P_emaildomain과 R_emaildomain이 특정 관계가 있지 않을까?\n",
        "# 파생 변수 추가 및 확인: 실제 라벨의 분포를 고려했을 때, 1%와 5%의 차이는 꽤 큰 것이라 예상됨 ==> 해당 변수 사용\n",
        "Train_df['same_emaildomain'] = (Train_df['P_emaildomain'] == Train_df['R_emaildomain']).astype(int)\n",
        "print(Train_df['same_emaildomain'].value_counts())\n",
        "print('\\n')\n",
        "print(Train_df.groupby('same_emaildomain')['isFraud'].mean())"
      ],
      "execution_count": 66,
      "outputs": [
        {
          "output_type": "stream",
          "name": "stdout",
          "text": [
            "0    56171\n",
            "1    18829\n",
            "Name: same_emaildomain, dtype: int64\n",
            "\n",
            "\n",
            "same_emaildomain\n",
            "0    0.016557\n",
            "1    0.051145\n",
            "Name: isFraud, dtype: float64\n"
          ]
        }
      ]
    },
    {
      "cell_type": "markdown",
      "metadata": {
        "id": "knCnbSBiSp-B"
      },
      "source": [
        "2.4.5 C3"
      ]
    },
    {
      "cell_type": "code",
      "metadata": {
        "id": "2rNBWgwRSp-B"
      },
      "source": [
        "# 결측이 없음을 이전에서 확인\n",
        "# 변수 타입은 float인데, 상태 공간의 크기가 크지 않음 ==> 일단은 범주형으로 보는 것이 적절할 것 같음"
      ],
      "execution_count": 67,
      "outputs": []
    },
    {
      "cell_type": "code",
      "metadata": {
        "id": "hkxvKgOYSp-B",
        "colab": {
          "base_uri": "https://localhost:8080/"
        },
        "outputId": "5a2247d5-a5f7-4731-9e9f-d26fb7c070f4"
      },
      "source": [
        "# 0.0 값이 대다수임을 확인\n",
        "Train_df['C3'].value_counts(normalize = True)"
      ],
      "execution_count": 68,
      "outputs": [
        {
          "output_type": "execute_result",
          "data": {
            "text/plain": [
              "0.0     0.988400\n",
              "1.0     0.010787\n",
              "2.0     0.000693\n",
              "3.0     0.000067\n",
              "8.0     0.000013\n",
              "16.0    0.000013\n",
              "9.0     0.000013\n",
              "4.0     0.000013\n",
              "Name: C3, dtype: float64"
            ]
          },
          "metadata": {},
          "execution_count": 68
        }
      ]
    },
    {
      "cell_type": "code",
      "metadata": {
        "id": "27QKiV8vSp-B",
        "colab": {
          "base_uri": "https://localhost:8080/"
        },
        "outputId": "a62a4697-1bbb-4f8d-f479-a13f4ae8cf1c"
      },
      "source": [
        "Train_df['C3'].value_counts(normalize = False)"
      ],
      "execution_count": 69,
      "outputs": [
        {
          "output_type": "execute_result",
          "data": {
            "text/plain": [
              "0.0     74130\n",
              "1.0       809\n",
              "2.0        52\n",
              "3.0         5\n",
              "8.0         1\n",
              "16.0        1\n",
              "9.0         1\n",
              "4.0         1\n",
              "Name: C3, dtype: int64"
            ]
          },
          "metadata": {},
          "execution_count": 69
        }
      ]
    },
    {
      "cell_type": "code",
      "metadata": {
        "id": "jm2UtBVOSp-C",
        "colab": {
          "base_uri": "https://localhost:8080/"
        },
        "outputId": "ab8af322-5690-441a-d851-e8a29c4cf2e3"
      },
      "source": [
        "# 2.0 이상의 값은 거의 존재하지 않기 때문에, 우연히 평균이 0이 나왔을 것이란 추측이 가능\n",
        "# 0.0은 자주 등장했기 때문에, 라벨의 평균과 유사\n",
        "# 1.0은 빈도가 어느정도 있음에도 불구하고 라벨의 평균과 크게 다름\n",
        "# (조금은 위험한) 가설 수립: C3값이 1 이상인지 아닌지에 따른 차이가 존재할 것이다! => C3_over_1 변수 생성\n",
        "Train_df.groupby('C3')['isFraud'].mean()"
      ],
      "execution_count": 70,
      "outputs": [
        {
          "output_type": "execute_result",
          "data": {
            "text/plain": [
              "C3\n",
              "0.0     0.025523\n",
              "1.0     0.001236\n",
              "2.0     0.000000\n",
              "3.0     0.000000\n",
              "4.0     0.000000\n",
              "8.0     0.000000\n",
              "9.0     0.000000\n",
              "16.0    0.000000\n",
              "Name: isFraud, dtype: float64"
            ]
          },
          "metadata": {},
          "execution_count": 70
        }
      ]
    },
    {
      "cell_type": "code",
      "metadata": {
        "id": "1MZXvKS4Sp-C",
        "colab": {
          "base_uri": "https://localhost:8080/"
        },
        "outputId": "9ca6de2b-a64e-48e4-d4ad-a46aca7ea1c4"
      },
      "source": [
        "Train_Y.value_counts(normalize = True)"
      ],
      "execution_count": 71,
      "outputs": [
        {
          "output_type": "execute_result",
          "data": {
            "text/plain": [
              "0    0.97476\n",
              "1    0.02524\n",
              "Name: isFraud, dtype: float64"
            ]
          },
          "metadata": {},
          "execution_count": 71
        }
      ]
    },
    {
      "cell_type": "markdown",
      "metadata": {
        "id": "2oao2Bm8Sp-C"
      },
      "source": [
        "2.4.6 M 관련 변수\n",
        "- M1 - M9는 결측도 절반가까이를 포함하여, 대체하는 것은 어려을 것으로 예상됨\n",
        "- 모두 범주형 변수이며, 값의 출현 패턴이 유사하니 동시에 탐색 수행"
      ]
    },
    {
      "cell_type": "code",
      "metadata": {
        "id": "3T1tAHo2Sp-C"
      },
      "source": [
        "# 탐색을 위해, 모든 결측값을 우선 대체\n",
        "M_columns = ['M' + str(i) for i in range(1, 10)]\n",
        "Train_df[M_columns] = Train_df[M_columns].fillna(\"결측\")"
      ],
      "execution_count": 72,
      "outputs": []
    },
    {
      "cell_type": "code",
      "metadata": {
        "id": "Buq3cQCOSp-C",
        "colab": {
          "base_uri": "https://localhost:8080/"
        },
        "outputId": "e6e90ef5-1306-45cf-f91d-38ab999ac1a1"
      },
      "source": [
        "## 변수 분포 확인\n",
        "# 1. 결측이 매우 많음 => 단순 대체 및 제거 불가\n",
        "# 2. M4를 제외하고는 T (True), F (False로 정의됨)\n",
        "for col in M_columns:\n",
        "    print(Train_df[col].value_counts())\n",
        "    print('\\n')"
      ],
      "execution_count": 73,
      "outputs": [
        {
          "output_type": "stream",
          "name": "stdout",
          "text": [
            "결측    51353\n",
            "T     23647\n",
            "Name: M1, dtype: int64\n",
            "\n",
            "\n",
            "결측    51353\n",
            "T     21289\n",
            "F      2358\n",
            "Name: M2, dtype: int64\n",
            "\n",
            "\n",
            "결측    51353\n",
            "T     18514\n",
            "F      5133\n",
            "Name: M3, dtype: int64\n",
            "\n",
            "\n",
            "결측    43301\n",
            "M0    19609\n",
            "M2     7012\n",
            "M1     5078\n",
            "Name: M4, dtype: int64\n",
            "\n",
            "\n",
            "결측    51674\n",
            "F     12914\n",
            "T     10412\n",
            "Name: M5, dtype: int64\n",
            "\n",
            "\n",
            "결측    34229\n",
            "F     21914\n",
            "T     18857\n",
            "Name: M6, dtype: int64\n",
            "\n",
            "\n",
            "결측    62922\n",
            "F     10361\n",
            "T      1717\n",
            "Name: M7, dtype: int64\n",
            "\n",
            "\n",
            "결측    62922\n",
            "F      7512\n",
            "T      4566\n",
            "Name: M8, dtype: int64\n",
            "\n",
            "\n",
            "결측    62922\n",
            "T     10335\n",
            "F      1743\n",
            "Name: M9, dtype: int64\n",
            "\n",
            "\n"
          ]
        }
      ]
    },
    {
      "cell_type": "code",
      "metadata": {
        "id": "GnO9Ou7oSp-C",
        "colab": {
          "base_uri": "https://localhost:8080/"
        },
        "outputId": "2a68d3a5-f9b3-4148-f267-06ccf6d09d76"
      },
      "source": [
        "## 변수 값별 라벨 확인: 값별로 차이가 있으며, 결측 자체로도 의미가 있어보임\n",
        "# 결측으로 대체 후 더미화 필요\n",
        "for col in M_columns:\n",
        "    print(Train_df.groupby(col)['isFraud'].mean())\n",
        "    print('\\n')"
      ],
      "execution_count": 74,
      "outputs": [
        {
          "output_type": "stream",
          "name": "stdout",
          "text": [
            "M1\n",
            "T     0.016915\n",
            "결측    0.029073\n",
            "Name: isFraud, dtype: float64\n",
            "\n",
            "\n",
            "M2\n",
            "F     0.030534\n",
            "T     0.015407\n",
            "결측    0.029073\n",
            "Name: isFraud, dtype: float64\n",
            "\n",
            "\n",
            "M3\n",
            "F     0.027859\n",
            "T     0.013881\n",
            "결측    0.029073\n",
            "Name: isFraud, dtype: float64\n",
            "\n",
            "\n",
            "M4\n",
            "M0    0.035953\n",
            "M1    0.019496\n",
            "M2    0.086423\n",
            "결측    0.011154\n",
            "Name: isFraud, dtype: float64\n",
            "\n",
            "\n",
            "M5\n",
            "F     0.018507\n",
            "T     0.042451\n",
            "결측    0.023455\n",
            "Name: isFraud, dtype: float64\n",
            "\n",
            "\n",
            "M6\n",
            "F     0.024505\n",
            "T     0.012038\n",
            "결측    0.032984\n",
            "Name: isFraud, dtype: float64\n",
            "\n",
            "\n",
            "M7\n",
            "F     0.013802\n",
            "T     0.006407\n",
            "결측    0.027637\n",
            "Name: isFraud, dtype: float64\n",
            "\n",
            "\n",
            "M8\n",
            "F     0.014244\n",
            "T     0.010293\n",
            "결측    0.027637\n",
            "Name: isFraud, dtype: float64\n",
            "\n",
            "\n",
            "M9\n",
            "F     0.014917\n",
            "T     0.012385\n",
            "결측    0.027637\n",
            "Name: isFraud, dtype: float64\n",
            "\n",
            "\n"
          ]
        }
      ]
    },
    {
      "cell_type": "code",
      "metadata": {
        "id": "koNroB_yVpRa"
      },
      "source": [
        ""
      ],
      "execution_count": 47,
      "outputs": []
    },
    {
      "cell_type": "markdown",
      "metadata": {
        "id": "_BMeNa4-Sp-C"
      },
      "source": [
        "#### 2.5 연속형 변수 탐색\n",
        "(1) 변수별 분포 확인 (히스토그램) <br>\n",
        "(2) 변수와 라벨 간 관계 파악 (박스플롯)"
      ]
    },
    {
      "cell_type": "markdown",
      "metadata": {
        "id": "Q8yU5MorSp-D"
      },
      "source": [
        "2.5.1 TransactionAmt"
      ]
    },
    {
      "cell_type": "code",
      "metadata": {
        "id": "5CycSxc_Sp-D",
        "outputId": "bb2a9ec4-73e3-4758-9f5b-b176215e918f"
      },
      "source": [
        "# 히스토그램 생성: 대다수가 1000달러 이하임을 확인 (거기다가 굉장히 치우침을 확인)\n",
        "Train_df['TransactionAmt'].hist(bins = 100)"
      ],
      "execution_count": null,
      "outputs": [
        {
          "output_type": "execute_result",
          "data": {
            "text/plain": [
              "<matplotlib.axes._subplots.AxesSubplot at 0x29f6f0bbb38>"
            ]
          },
          "metadata": {
            "tags": []
          },
          "execution_count": 37
        },
        {
          "output_type": "display_data",
          "data": {
            "image/png": "[encoded data removed]",
            "text/plain": [
              "<Figure size 1440x360 with 1 Axes>"
            ]
          },
          "metadata": {
            "tags": [],
            "needs_background": "light"
          }
        }
      ]
    },
    {
      "cell_type": "code",
      "metadata": {
        "id": "MEysR0A6Sp-D",
        "outputId": "a9ae9c11-24fe-4fde-edd4-ae5a56cd7839"
      },
      "source": [
        "# 한쪽에 매우 치우침을 확인함: 거래 금액이 매우 크거나 작은 것 자체가 특징이 되지 않을까?\n",
        "Train_df['TransactionAmt'].describe()"
      ],
      "execution_count": null,
      "outputs": [
        {
          "output_type": "execute_result",
          "data": {
            "text/plain": [
              "count    75000.000000\n",
              "mean       130.105657\n",
              "std        203.781211\n",
              "min          0.292000\n",
              "25%         45.000000\n",
              "50%         75.000000\n",
              "75%        135.950000\n",
              "max       4220.390000\n",
              "Name: TransactionAmt, dtype: float64"
            ]
          },
          "metadata": {
            "tags": []
          },
          "execution_count": 38
        }
      ]
    },
    {
      "cell_type": "code",
      "metadata": {
        "id": "XvvhOqDDSp-D",
        "outputId": "899ba674-8aaf-45db-ac21-37d84c6158c6"
      },
      "source": [
        "TransactionAmt_Fraud = Train_df['TransactionAmt'].loc[Train_df['isFraud'] == 1]\n",
        "TransactionAmt_not_Fraud = Train_df['TransactionAmt'].loc[Train_df['isFraud'] == 0]\n",
        "\n",
        "# 대부분 이상치로 판단되어 정상적인 해석이 쉽지 않음 (다만, Fraud인 경우의 범위가 더 좁음)\n",
        "plt.boxplot([TransactionAmt_Fraud, TransactionAmt_not_Fraud])\n",
        "plt.xticks([1, 2], ['Fraud', 'not Fraud'])"
      ],
      "execution_count": null,
      "outputs": [
        {
          "output_type": "execute_result",
          "data": {
            "text/plain": [
              "([<matplotlib.axis.XTick at 0x29f6f1dbd68>,\n",
              "  <matplotlib.axis.XTick at 0x29f6f1d1828>],\n",
              " <a list of 2 Text xticklabel objects>)"
            ]
          },
          "metadata": {
            "tags": []
          },
          "execution_count": 39
        },
        {
          "output_type": "display_data",
          "data": {
            "image/png": "[encoded data removed]",
            "text/plain": [
              "<Figure size 1440x360 with 1 Axes>"
            ]
          },
          "metadata": {
            "tags": [],
            "needs_background": "light"
          }
        }
      ]
    },
    {
      "cell_type": "code",
      "metadata": {
        "id": "Gerzyc3BSp-D",
        "outputId": "53d51ed0-a108-4190-cdaf-ba65272771ed"
      },
      "source": [
        "# 사기 거래의 경우\n",
        "TransactionAmt_Fraud.describe()"
      ],
      "execution_count": null,
      "outputs": [
        {
          "output_type": "execute_result",
          "data": {
            "text/plain": [
              "count    1921.000000\n",
              "mean      131.807672\n",
              "std       189.742205\n",
              "min         0.292000\n",
              "25%        39.000000\n",
              "50%        77.950000\n",
              "75%       150.000000\n",
              "max      3081.970000\n",
              "Name: TransactionAmt, dtype: float64"
            ]
          },
          "metadata": {
            "tags": []
          },
          "execution_count": 40
        }
      ]
    },
    {
      "cell_type": "code",
      "metadata": {
        "id": "1sokrtdESp-D",
        "outputId": "5b436bbc-cba1-47cc-cca8-b34407ca735d"
      },
      "source": [
        "# 사기 거래가 아닌 경우\n",
        "TransactionAmt_not_Fraud.describe()"
      ],
      "execution_count": null,
      "outputs": [
        {
          "output_type": "execute_result",
          "data": {
            "text/plain": [
              "count    73079.000000\n",
              "mean       130.060917\n",
              "std        204.138246\n",
              "min          1.000000\n",
              "25%         45.000000\n",
              "50%         75.000000\n",
              "75%        134.950000\n",
              "max       4220.390000\n",
              "Name: TransactionAmt, dtype: float64"
            ]
          },
          "metadata": {
            "tags": []
          },
          "execution_count": 41
        }
      ]
    },
    {
      "cell_type": "code",
      "metadata": {
        "id": "A9wG6nibSp-E"
      },
      "source": [
        "# 특별한 관계를 찾기는 어려움: 또한, 사기 거래인 경우에는 데이터가 많아서 범위가 커보일 수 있음 \n",
        "# 따라서 라벨과 관계를 고려하지 않고, 치우침만 해결하기로 결정"
      ],
      "execution_count": null,
      "outputs": []
    },
    {
      "cell_type": "markdown",
      "metadata": {
        "id": "Sb9esb_qSp-E"
      },
      "source": [
        "2.5.2 C 관련 변수 (C3 제외)"
      ]
    },
    {
      "cell_type": "code",
      "metadata": {
        "id": "jelz7X-ySp-E",
        "outputId": "0d196499-7187-4203-d1f1-c572a3273bdf"
      },
      "source": [
        "# 변수 목록 생성\n",
        "C_columns = ['C' + str(i) for i in range(1, 15) if i != 3]\n",
        "C_columns"
      ],
      "execution_count": null,
      "outputs": [
        {
          "output_type": "execute_result",
          "data": {
            "text/plain": [
              "['C1',\n",
              " 'C2',\n",
              " 'C4',\n",
              " 'C5',\n",
              " 'C6',\n",
              " 'C7',\n",
              " 'C8',\n",
              " 'C9',\n",
              " 'C10',\n",
              " 'C11',\n",
              " 'C12',\n",
              " 'C13',\n",
              " 'C14']"
            ]
          },
          "metadata": {
            "tags": []
          },
          "execution_count": 43
        }
      ]
    },
    {
      "cell_type": "code",
      "metadata": {
        "id": "YofGHoqXSp-E",
        "outputId": "bd4c09b1-8d16-4af8-f09d-dc87ce9a9982"
      },
      "source": [
        "# 대다수의 변수가 75%값은 10미만인데, max값은 매우 큼 ==> 이상하다?\n",
        "Train_df[C_columns].describe()"
      ],
      "execution_count": null,
      "outputs": [
        {
          "output_type": "execute_result",
          "data": {
            "text/html": [
              "<div>\n",
              "<style scoped>\n",
              "    .dataframe tbody tr th:only-of-type {\n",
              "        vertical-align: middle;\n",
              "    }\n",
              "\n",
              "    .dataframe tbody tr th {\n",
              "        vertical-align: top;\n",
              "    }\n",
              "\n",
              "    .dataframe thead th {\n",
              "        text-align: right;\n",
              "    }\n",
              "</style>\n",
              "<table border=\"1\" class=\"dataframe\">\n",
              "  <thead>\n",
              "    <tr style=\"text-align: right;\">\n",
              "      <th></th>\n",
              "      <th>C1</th>\n",
              "      <th>C2</th>\n",
              "      <th>C4</th>\n",
              "      <th>C5</th>\n",
              "      <th>C6</th>\n",
              "      <th>C7</th>\n",
              "      <th>C8</th>\n",
              "      <th>C9</th>\n",
              "      <th>C10</th>\n",
              "      <th>C11</th>\n",
              "      <th>C12</th>\n",
              "      <th>C13</th>\n",
              "      <th>C14</th>\n",
              "    </tr>\n",
              "  </thead>\n",
              "  <tbody>\n",
              "    <tr>\n",
              "      <th>count</th>\n",
              "      <td>75000.000000</td>\n",
              "      <td>75000.000000</td>\n",
              "      <td>75000.000000</td>\n",
              "      <td>75000.000000</td>\n",
              "      <td>75000.00000</td>\n",
              "      <td>75000.000000</td>\n",
              "      <td>75000.00000</td>\n",
              "      <td>75000.000000</td>\n",
              "      <td>75000.000000</td>\n",
              "      <td>75000.000000</td>\n",
              "      <td>75000.000000</td>\n",
              "      <td>75000.000000</td>\n",
              "      <td>75000.000000</td>\n",
              "    </tr>\n",
              "    <tr>\n",
              "      <th>mean</th>\n",
              "      <td>40.290573</td>\n",
              "      <td>47.037000</td>\n",
              "      <td>18.808840</td>\n",
              "      <td>4.135253</td>\n",
              "      <td>22.76164</td>\n",
              "      <td>15.616080</td>\n",
              "      <td>25.70180</td>\n",
              "      <td>3.253973</td>\n",
              "      <td>26.331133</td>\n",
              "      <td>29.187573</td>\n",
              "      <td>21.867987</td>\n",
              "      <td>44.953573</td>\n",
              "      <td>16.716067</td>\n",
              "    </tr>\n",
              "    <tr>\n",
              "      <th>std</th>\n",
              "      <td>306.941439</td>\n",
              "      <td>358.244826</td>\n",
              "      <td>155.754386</td>\n",
              "      <td>21.445987</td>\n",
              "      <td>156.51016</td>\n",
              "      <td>149.123686</td>\n",
              "      <td>228.21086</td>\n",
              "      <td>13.936151</td>\n",
              "      <td>229.355469</td>\n",
              "      <td>214.992758</td>\n",
              "      <td>209.211321</td>\n",
              "      <td>218.576029</td>\n",
              "      <td>102.373166</td>\n",
              "    </tr>\n",
              "    <tr>\n",
              "      <th>min</th>\n",
              "      <td>0.000000</td>\n",
              "      <td>0.000000</td>\n",
              "      <td>0.000000</td>\n",
              "      <td>0.000000</td>\n",
              "      <td>0.00000</td>\n",
              "      <td>0.000000</td>\n",
              "      <td>0.00000</td>\n",
              "      <td>0.000000</td>\n",
              "      <td>0.000000</td>\n",
              "      <td>0.000000</td>\n",
              "      <td>0.000000</td>\n",
              "      <td>0.000000</td>\n",
              "      <td>0.000000</td>\n",
              "    </tr>\n",
              "    <tr>\n",
              "      <th>25%</th>\n",
              "      <td>1.000000</td>\n",
              "      <td>1.000000</td>\n",
              "      <td>0.000000</td>\n",
              "      <td>0.000000</td>\n",
              "      <td>1.00000</td>\n",
              "      <td>0.000000</td>\n",
              "      <td>0.00000</td>\n",
              "      <td>0.000000</td>\n",
              "      <td>0.000000</td>\n",
              "      <td>1.000000</td>\n",
              "      <td>0.000000</td>\n",
              "      <td>1.000000</td>\n",
              "      <td>1.000000</td>\n",
              "    </tr>\n",
              "    <tr>\n",
              "      <th>50%</th>\n",
              "      <td>1.000000</td>\n",
              "      <td>1.000000</td>\n",
              "      <td>0.000000</td>\n",
              "      <td>0.000000</td>\n",
              "      <td>1.00000</td>\n",
              "      <td>0.000000</td>\n",
              "      <td>0.00000</td>\n",
              "      <td>1.000000</td>\n",
              "      <td>0.000000</td>\n",
              "      <td>1.000000</td>\n",
              "      <td>0.000000</td>\n",
              "      <td>2.000000</td>\n",
              "      <td>1.000000</td>\n",
              "    </tr>\n",
              "    <tr>\n",
              "      <th>75%</th>\n",
              "      <td>2.000000</td>\n",
              "      <td>2.000000</td>\n",
              "      <td>1.000000</td>\n",
              "      <td>1.000000</td>\n",
              "      <td>2.00000</td>\n",
              "      <td>0.000000</td>\n",
              "      <td>1.00000</td>\n",
              "      <td>1.000000</td>\n",
              "      <td>1.000000</td>\n",
              "      <td>2.000000</td>\n",
              "      <td>0.000000</td>\n",
              "      <td>9.000000</td>\n",
              "      <td>2.000000</td>\n",
              "    </tr>\n",
              "    <tr>\n",
              "      <th>max</th>\n",
              "      <td>4685.000000</td>\n",
              "      <td>5691.000000</td>\n",
              "      <td>2253.000000</td>\n",
              "      <td>295.000000</td>\n",
              "      <td>2253.00000</td>\n",
              "      <td>2255.000000</td>\n",
              "      <td>3331.00000</td>\n",
              "      <td>194.000000</td>\n",
              "      <td>3257.000000</td>\n",
              "      <td>3188.000000</td>\n",
              "      <td>3188.000000</td>\n",
              "      <td>2918.000000</td>\n",
              "      <td>1429.000000</td>\n",
              "    </tr>\n",
              "  </tbody>\n",
              "</table>\n",
              "</div>"
            ],
            "text/plain": [
              "                 C1            C2            C4            C5           C6  \\\n",
              "count  75000.000000  75000.000000  75000.000000  75000.000000  75000.00000   \n",
              "mean      40.290573     47.037000     18.808840      4.135253     22.76164   \n",
              "std      306.941439    358.244826    155.754386     21.445987    156.51016   \n",
              "min        0.000000      0.000000      0.000000      0.000000      0.00000   \n",
              "25%        1.000000      1.000000      0.000000      0.000000      1.00000   \n",
              "50%        1.000000      1.000000      0.000000      0.000000      1.00000   \n",
              "75%        2.000000      2.000000      1.000000      1.000000      2.00000   \n",
              "max     4685.000000   5691.000000   2253.000000    295.000000   2253.00000   \n",
              "\n",
              "                 C7           C8            C9           C10           C11  \\\n",
              "count  75000.000000  75000.00000  75000.000000  75000.000000  75000.000000   \n",
              "mean      15.616080     25.70180      3.253973     26.331133     29.187573   \n",
              "std      149.123686    228.21086     13.936151    229.355469    214.992758   \n",
              "min        0.000000      0.00000      0.000000      0.000000      0.000000   \n",
              "25%        0.000000      0.00000      0.000000      0.000000      1.000000   \n",
              "50%        0.000000      0.00000      1.000000      0.000000      1.000000   \n",
              "75%        0.000000      1.00000      1.000000      1.000000      2.000000   \n",
              "max     2255.000000   3331.00000    194.000000   3257.000000   3188.000000   \n",
              "\n",
              "                C12           C13           C14  \n",
              "count  75000.000000  75000.000000  75000.000000  \n",
              "mean      21.867987     44.953573     16.716067  \n",
              "std      209.211321    218.576029    102.373166  \n",
              "min        0.000000      0.000000      0.000000  \n",
              "25%        0.000000      1.000000      1.000000  \n",
              "50%        0.000000      2.000000      1.000000  \n",
              "75%        0.000000      9.000000      2.000000  \n",
              "max     3188.000000   2918.000000   1429.000000  "
            ]
          },
          "metadata": {
            "tags": []
          },
          "execution_count": 44
        }
      ]
    },
    {
      "cell_type": "code",
      "metadata": {
        "id": "erEY7a7VSp-E",
        "outputId": "96f8809f-b1ae-4afc-b737-ce3be642d341"
      },
      "source": [
        "# 상위 90% 값 확인\n",
        "Train_df[C_columns].quantile(0.90)"
      ],
      "execution_count": null,
      "outputs": [
        {
          "output_type": "execute_result",
          "data": {
            "text/plain": [
              "C1      6.0\n",
              "C2      6.0\n",
              "C4      1.0\n",
              "C5      2.0\n",
              "C6      4.0\n",
              "C7      1.0\n",
              "C8      1.0\n",
              "C9      3.0\n",
              "C10     1.0\n",
              "C11     4.0\n",
              "C12     1.0\n",
              "C13    33.0\n",
              "C14     5.0\n",
              "Name: 0.9, dtype: float64"
            ]
          },
          "metadata": {
            "tags": []
          },
          "execution_count": 45
        }
      ]
    },
    {
      "cell_type": "code",
      "metadata": {
        "id": "sbzbtd8iSp-E",
        "outputId": "2a8d68e4-2cd5-4096-c9f6-f61352b50b40"
      },
      "source": [
        "# 상위 95%값 확인\n",
        "Train_df[C_columns].quantile(0.95)"
      ],
      "execution_count": null,
      "outputs": [
        {
          "output_type": "execute_result",
          "data": {
            "text/plain": [
              "C1      45.0\n",
              "C2      48.0\n",
              "C4       2.0\n",
              "C5       5.0\n",
              "C6      28.0\n",
              "C7       1.0\n",
              "C8       2.0\n",
              "C9       6.0\n",
              "C10      2.0\n",
              "C11     29.0\n",
              "C12      1.0\n",
              "C13    153.0\n",
              "C14     26.0\n",
              "Name: 0.95, dtype: float64"
            ]
          },
          "metadata": {
            "tags": []
          },
          "execution_count": 46
        }
      ]
    },
    {
      "cell_type": "code",
      "metadata": {
        "id": "FWx9O9Q2Sp-E",
        "outputId": "692e84a7-6fea-48f5-e8d5-a5cb4510f5de"
      },
      "source": [
        "# 상위 99%값 확인\n",
        "Train_df[C_columns].quantile(0.99)"
      ],
      "execution_count": null,
      "outputs": [
        {
          "output_type": "execute_result",
          "data": {
            "text/plain": [
              "C1     1183.00\n",
              "C2     1482.00\n",
              "C4      804.00\n",
              "C5      135.00\n",
              "C6      814.00\n",
              "C7      624.03\n",
              "C8      901.04\n",
              "C9       82.00\n",
              "C10    1030.05\n",
              "C11     919.02\n",
              "C12     854.03\n",
              "C13     884.00\n",
              "C14     565.00\n",
              "Name: 0.99, dtype: float64"
            ]
          },
          "metadata": {
            "tags": []
          },
          "execution_count": 47
        }
      ]
    },
    {
      "cell_type": "code",
      "metadata": {
        "id": "fVBfBQ03Sp-F"
      },
      "source": [
        "# C 관련 변수는 모두 치우침이 매우 심각함\n",
        "# 상위 95%값과 99% 값의 차이가 너무 많이 남\n",
        "# 변수로 활용하기 어려워보임 ==> 이진화를 하기에는 자르는 구간 설정이 어려움 ==> 해당 특징을 사용하려면 트리 계열 모델 사용이 필수적"
      ],
      "execution_count": null,
      "outputs": []
    },
    {
      "cell_type": "markdown",
      "metadata": {
        "id": "3M9mBzNkSp-F"
      },
      "source": [
        "card1, 2, 3, 5"
      ]
    },
    {
      "cell_type": "code",
      "metadata": {
        "id": "xLKUBtkpSp-F",
        "outputId": "e82d1e08-c563-4d2c-b9bf-971b34ee77dd"
      },
      "source": [
        "# 히스토그램 확인: card3과 card5의 분포가 특이함 (치우침이 특정 방향으로 일어나지는 않았음. 사실상 범주 변수로 보는 것이 바람직)\n",
        "# 연속형 변수로 간주할 수 있는 card1과 card3은 결측 처리 필요\n",
        "card_columns = ['card1', 'card2', 'card3', 'card5']\n",
        "for col in card_columns:\n",
        "    plt.title(col)\n",
        "    Train_df[col].hist(bins = 100)\n",
        "    plt.show()"
      ],
      "execution_count": null,
      "outputs": [
        {
          "output_type": "display_data",
          "data": {
            "image/png": "[encoded data removed]",
            "text/plain": [
              "<Figure size 1440x360 with 1 Axes>"
            ]
          },
          "metadata": {
            "tags": [],
            "needs_background": "light"
          }
        },
        {
          "output_type": "display_data",
          "data": {
            "image/png": "[encoded data removed]",
            "text/plain": [
              "<Figure size 1440x360 with 1 Axes>"
            ]
          },
          "metadata": {
            "tags": [],
            "needs_background": "light"
          }
        },
        {
          "output_type": "display_data",
          "data": {
            "image/png": "[encoded data removed]",
            "text/plain": [
              "<Figure size 1440x360 with 1 Axes>"
            ]
          },
          "metadata": {
            "tags": [],
            "needs_background": "light"
          }
        },
        {
          "output_type": "display_data",
          "data": {
            "image/png": "[encoded data removed]",
            "text/plain": [
              "<Figure size 1440x360 with 1 Axes>"
            ]
          },
          "metadata": {
            "tags": [],
            "needs_background": "light"
          }
        }
      ]
    },
    {
      "cell_type": "code",
      "metadata": {
        "id": "BQEQXOd6Sp-G",
        "outputId": "45032e90-3b63-4d29-a438-1a2759645446"
      },
      "source": [
        "# 값의 분포 확인\n",
        "Train_df[card_columns].describe()"
      ],
      "execution_count": null,
      "outputs": [
        {
          "output_type": "execute_result",
          "data": {
            "text/html": [
              "<div>\n",
              "<style scoped>\n",
              "    .dataframe tbody tr th:only-of-type {\n",
              "        vertical-align: middle;\n",
              "    }\n",
              "\n",
              "    .dataframe tbody tr th {\n",
              "        vertical-align: top;\n",
              "    }\n",
              "\n",
              "    .dataframe thead th {\n",
              "        text-align: right;\n",
              "    }\n",
              "</style>\n",
              "<table border=\"1\" class=\"dataframe\">\n",
              "  <thead>\n",
              "    <tr style=\"text-align: right;\">\n",
              "      <th></th>\n",
              "      <th>card1</th>\n",
              "      <th>card2</th>\n",
              "      <th>card3</th>\n",
              "      <th>card5</th>\n",
              "    </tr>\n",
              "  </thead>\n",
              "  <tbody>\n",
              "    <tr>\n",
              "      <th>count</th>\n",
              "      <td>75000.000000</td>\n",
              "      <td>73971.000000</td>\n",
              "      <td>74998.000000</td>\n",
              "      <td>74615.000000</td>\n",
              "    </tr>\n",
              "    <tr>\n",
              "      <th>mean</th>\n",
              "      <td>9887.017360</td>\n",
              "      <td>370.707385</td>\n",
              "      <td>153.267874</td>\n",
              "      <td>200.036588</td>\n",
              "    </tr>\n",
              "    <tr>\n",
              "      <th>std</th>\n",
              "      <td>4928.893866</td>\n",
              "      <td>159.303931</td>\n",
              "      <td>11.194380</td>\n",
              "      <td>40.920570</td>\n",
              "    </tr>\n",
              "    <tr>\n",
              "      <th>min</th>\n",
              "      <td>1001.000000</td>\n",
              "      <td>100.000000</td>\n",
              "      <td>100.000000</td>\n",
              "      <td>100.000000</td>\n",
              "    </tr>\n",
              "    <tr>\n",
              "      <th>25%</th>\n",
              "      <td>6019.000000</td>\n",
              "      <td>215.000000</td>\n",
              "      <td>150.000000</td>\n",
              "      <td>166.000000</td>\n",
              "    </tr>\n",
              "    <tr>\n",
              "      <th>50%</th>\n",
              "      <td>9678.000000</td>\n",
              "      <td>387.000000</td>\n",
              "      <td>150.000000</td>\n",
              "      <td>226.000000</td>\n",
              "    </tr>\n",
              "    <tr>\n",
              "      <th>75%</th>\n",
              "      <td>14290.000000</td>\n",
              "      <td>514.000000</td>\n",
              "      <td>150.000000</td>\n",
              "      <td>226.000000</td>\n",
              "    </tr>\n",
              "    <tr>\n",
              "      <th>max</th>\n",
              "      <td>18393.000000</td>\n",
              "      <td>600.000000</td>\n",
              "      <td>229.000000</td>\n",
              "      <td>237.000000</td>\n",
              "    </tr>\n",
              "  </tbody>\n",
              "</table>\n",
              "</div>"
            ],
            "text/plain": [
              "              card1         card2         card3         card5\n",
              "count  75000.000000  73971.000000  74998.000000  74615.000000\n",
              "mean    9887.017360    370.707385    153.267874    200.036588\n",
              "std     4928.893866    159.303931     11.194380     40.920570\n",
              "min     1001.000000    100.000000    100.000000    100.000000\n",
              "25%     6019.000000    215.000000    150.000000    166.000000\n",
              "50%     9678.000000    387.000000    150.000000    226.000000\n",
              "75%    14290.000000    514.000000    150.000000    226.000000\n",
              "max    18393.000000    600.000000    229.000000    237.000000"
            ]
          },
          "metadata": {
            "tags": []
          },
          "execution_count": 50
        }
      ]
    },
    {
      "cell_type": "code",
      "metadata": {
        "id": "RTQ1bkmRSp-G",
        "outputId": "74e555b9-f1bb-4018-ec91-04a491382674"
      },
      "source": [
        "Train_df['card3'].value_counts() # 150인지, 185인지 아닌지를 나타내는 변수로 변환 필요"
      ],
      "execution_count": null,
      "outputs": [
        {
          "output_type": "execute_result",
          "data": {
            "text/plain": [
              "150.0    66439\n",
              "185.0     7298\n",
              "144.0      212\n",
              "106.0      142\n",
              "146.0      122\n",
              "117.0      117\n",
              "143.0       99\n",
              "119.0       77\n",
              "102.0       55\n",
              "147.0       41\n",
              "162.0       34\n",
              "213.0       25\n",
              "197.0       21\n",
              "131.0       21\n",
              "100.0       20\n",
              "188.0       18\n",
              "134.0       18\n",
              "203.0       17\n",
              "214.0       16\n",
              "195.0       16\n",
              "138.0       14\n",
              "135.0       13\n",
              "210.0       11\n",
              "200.0       11\n",
              "148.0       11\n",
              "142.0        9\n",
              "137.0        8\n",
              "121.0        8\n",
              "166.0        7\n",
              "149.0        7\n",
              "         ...  \n",
              "171.0        3\n",
              "229.0        2\n",
              "190.0        2\n",
              "116.0        2\n",
              "153.0        2\n",
              "129.0        2\n",
              "204.0        2\n",
              "183.0        2\n",
              "222.0        2\n",
              "152.0        2\n",
              "227.0        2\n",
              "120.0        2\n",
              "130.0        2\n",
              "127.0        1\n",
              "199.0        1\n",
              "207.0        1\n",
              "156.0        1\n",
              "163.0        1\n",
              "167.0        1\n",
              "132.0        1\n",
              "191.0        1\n",
              "225.0        1\n",
              "198.0        1\n",
              "206.0        1\n",
              "177.0        1\n",
              "111.0        1\n",
              "109.0        1\n",
              "215.0        1\n",
              "208.0        1\n",
              "186.0        1\n",
              "Name: card3, Length: 70, dtype: int64"
            ]
          },
          "metadata": {
            "tags": []
          },
          "execution_count": 51
        }
      ]
    },
    {
      "cell_type": "code",
      "metadata": {
        "id": "PxXVQYYsSp-G"
      },
      "source": [
        "Train_df['card3_150'] = (Train_df['card3'] == 150).astype(int)\n",
        "Train_df['card3_185'] = (Train_df['card3'] == 185).astype(int)"
      ],
      "execution_count": null,
      "outputs": []
    },
    {
      "cell_type": "code",
      "metadata": {
        "id": "yYJVxKihSp-G",
        "outputId": "ec9f3158-9ed2-4339-cf16-bf64e0be01ab"
      },
      "source": [
        "Train_df.groupby('card3_150')['isFraud'].mean() # 차이가 있음을 확인"
      ],
      "execution_count": null,
      "outputs": [
        {
          "output_type": "execute_result",
          "data": {
            "text/plain": [
              "card3_150\n",
              "0    0.085854\n",
              "1    0.017851\n",
              "Name: isFraud, dtype: float64"
            ]
          },
          "metadata": {
            "tags": []
          },
          "execution_count": 53
        }
      ]
    },
    {
      "cell_type": "code",
      "metadata": {
        "id": "wJ9_JVEDSp-G",
        "outputId": "5bc0cf84-1c77-418a-c213-77c1bf243e85"
      },
      "source": [
        "Train_df.groupby('card3_185')['isFraud'].mean() # 차이가 있음을 확인"
      ],
      "execution_count": null,
      "outputs": [
        {
          "output_type": "execute_result",
          "data": {
            "text/plain": [
              "card3_185\n",
              "0    0.017799\n",
              "1    0.098109\n",
              "Name: isFraud, dtype: float64"
            ]
          },
          "metadata": {
            "tags": []
          },
          "execution_count": 54
        }
      ]
    },
    {
      "cell_type": "code",
      "metadata": {
        "id": "za8P1-uvSp-G",
        "outputId": "7a4b1fc1-fdc0-4ee5-928e-546dddd640a3"
      },
      "source": [
        "Train_df['card5'].value_counts() # 226인지 아닌지를 나타내는 변수로 변환 필요"
      ],
      "execution_count": null,
      "outputs": [
        {
          "output_type": "execute_result",
          "data": {
            "text/plain": [
              "226.0    38505\n",
              "224.0     9152\n",
              "166.0     5771\n",
              "102.0     4292\n",
              "117.0     2691\n",
              "138.0     2558\n",
              "195.0     2448\n",
              "219.0     1931\n",
              "137.0     1545\n",
              "202.0     1254\n",
              "162.0      960\n",
              "150.0      418\n",
              "197.0      309\n",
              "223.0      231\n",
              "146.0      222\n",
              "118.0      213\n",
              "198.0      206\n",
              "126.0      201\n",
              "236.0      193\n",
              "190.0      165\n",
              "185.0      143\n",
              "100.0      129\n",
              "132.0       78\n",
              "131.0       78\n",
              "119.0       75\n",
              "147.0       73\n",
              "129.0       70\n",
              "183.0       65\n",
              "203.0       61\n",
              "141.0       57\n",
              "         ...  \n",
              "106.0        5\n",
              "148.0        4\n",
              "139.0        4\n",
              "225.0        3\n",
              "143.0        3\n",
              "156.0        3\n",
              "121.0        2\n",
              "157.0        2\n",
              "171.0        2\n",
              "113.0        2\n",
              "152.0        2\n",
              "180.0        2\n",
              "217.0        2\n",
              "136.0        1\n",
              "181.0        1\n",
              "107.0        1\n",
              "184.0        1\n",
              "189.0        1\n",
              "200.0        1\n",
              "210.0        1\n",
              "167.0        1\n",
              "122.0        1\n",
              "169.0        1\n",
              "187.0        1\n",
              "211.0        1\n",
              "201.0        1\n",
              "204.0        1\n",
              "164.0        1\n",
              "214.0        1\n",
              "120.0        1\n",
              "Name: card5, Length: 84, dtype: int64"
            ]
          },
          "metadata": {
            "tags": []
          },
          "execution_count": 55
        }
      ]
    },
    {
      "cell_type": "code",
      "metadata": {
        "id": "IqPeler-Sp-H"
      },
      "source": [
        "Train_df['card5_226'] = (Train_df['card5'] == 226).astype(int)"
      ],
      "execution_count": null,
      "outputs": []
    },
    {
      "cell_type": "code",
      "metadata": {
        "id": "fGyI03x8Sp-H",
        "outputId": "a1ea4ba2-3c00-4c28-ac0a-811abede1e59"
      },
      "source": [
        "Train_df.groupby('card5_226')['isFraud'].mean() # 차이가 있음을 확인"
      ],
      "execution_count": null,
      "outputs": [
        {
          "output_type": "execute_result",
          "data": {
            "text/plain": [
              "card5_226\n",
              "0    0.030278\n",
              "1    0.021192\n",
              "Name: isFraud, dtype: float64"
            ]
          },
          "metadata": {
            "tags": []
          },
          "execution_count": 57
        }
      ]
    },
    {
      "cell_type": "markdown",
      "metadata": {
        "id": "__W9LiM6Sp-H"
      },
      "source": [
        "## 3. 데이터 전처리"
      ]
    },
    {
      "cell_type": "markdown",
      "metadata": {
        "id": "qXMJb6-8Sp-H"
      },
      "source": [
        "#### 3.1 이진화"
      ]
    },
    {
      "cell_type": "markdown",
      "metadata": {
        "id": "eRtL0GhGSp-H"
      },
      "source": [
        "card4 이진화"
      ]
    },
    {
      "cell_type": "code",
      "metadata": {
        "id": "IZ3lU8AOSp-H"
      },
      "source": [
        "Train_X['american_express'] = (Train_X.loc[:, 'card4'] == 'american express').astype(int)\n",
        "Train_X.drop('card4', axis = 1, inplace = True)"
      ],
      "execution_count": null,
      "outputs": []
    },
    {
      "cell_type": "code",
      "metadata": {
        "id": "XhqBIt4RSp-H"
      },
      "source": [
        "Test_X['american_express'] = (Test_X.loc[:, 'card4'] == 'american express').astype(int)\n",
        "Test_X.drop('card4', axis = 1, inplace = True)"
      ],
      "execution_count": null,
      "outputs": []
    },
    {
      "cell_type": "markdown",
      "metadata": {
        "id": "YEJvbQbNSp-I"
      },
      "source": [
        "card6 이진화"
      ]
    },
    {
      "cell_type": "code",
      "metadata": {
        "id": "6asATYZOSp-I"
      },
      "source": [
        "Train_X['credit'] = (Train_X.loc[:, 'card6'] == 'credit').astype(int)\n",
        "Train_X.drop('card6', axis = 1, inplace = True)"
      ],
      "execution_count": null,
      "outputs": []
    },
    {
      "cell_type": "code",
      "metadata": {
        "id": "cq1VlatZSp-I"
      },
      "source": [
        "Test_X['credit'] = (Test_X.loc[:, 'card6'] == 'credit').astype(int)\n",
        "Test_X.drop('card6', axis = 1, inplace = True)"
      ],
      "execution_count": null,
      "outputs": []
    },
    {
      "cell_type": "markdown",
      "metadata": {
        "id": "ZEPM-J2WSp-I"
      },
      "source": [
        "same_email 변수 추가 및 기존 변수 삭제"
      ]
    },
    {
      "cell_type": "code",
      "metadata": {
        "id": "5-O5D1-tSp-I"
      },
      "source": [
        "Train_X['NA_R_emaildomain'] = (Train_X['R_emaildomain'].isnull()).astype(int)\n",
        "Train_X['same_emaildomain'] = (Train_X['P_emaildomain'] == Train_X['R_emaildomain']).astype(int)\n",
        "Train_X.drop(['P_emaildomain', 'R_emaildomain'], axis = 1, inplace = True)"
      ],
      "execution_count": null,
      "outputs": []
    },
    {
      "cell_type": "code",
      "metadata": {
        "id": "Ps1DaJM_Sp-I"
      },
      "source": [
        "Test_X['NA_R_emaildomain'] = (Test_X['R_emaildomain'].isnull()).astype(int)\n",
        "Test_X['same_emaildomain'] = (Test_X['P_emaildomain'] == Test_X['R_emaildomain']).astype(int)\n",
        "Test_X.drop(['P_emaildomain', 'R_emaildomain'], axis = 1, inplace = True)"
      ],
      "execution_count": null,
      "outputs": []
    },
    {
      "cell_type": "markdown",
      "metadata": {
        "id": "XKlP45CLSp-I"
      },
      "source": [
        "C3_over_1 변수 생성"
      ]
    },
    {
      "cell_type": "code",
      "metadata": {
        "id": "KqmD1gq8Sp-J"
      },
      "source": [
        "Train_X['C3_over_1'] = (Train_X['C3'] >= 1).astype(int)\n",
        "Train_X.drop(['C3'], axis = 1, inplace = True)"
      ],
      "execution_count": null,
      "outputs": []
    },
    {
      "cell_type": "code",
      "metadata": {
        "id": "elfiNLy2Sp-J"
      },
      "source": [
        "Test_X['C3_over_1'] = (Test_X['C3'] >= 1).astype(int)\n",
        "Test_X.drop(['C3'], axis = 1, inplace = True)"
      ],
      "execution_count": null,
      "outputs": []
    },
    {
      "cell_type": "markdown",
      "metadata": {
        "id": "3c3B4psRSp-J"
      },
      "source": [
        "#### 3.2 결측 대체 및 더미화 수행"
      ]
    },
    {
      "cell_type": "code",
      "metadata": {
        "id": "grUrIVnnSp-J",
        "colab": {
          "base_uri": "https://localhost:8080/",
          "height": 351
        },
        "outputId": "53416e56-dfef-4db9-9f8f-1a7a4d08a9f3"
      },
      "source": [
        "from feature_engine.categorical_encoders import OneHotCategoricalEncoder as OHE\n",
        "Train_X[M_columns] = Train_X[M_columns].fillna(\"결측\")\n",
        "dummy_model = OHE(variables = M_columns + ['ProductCD'], drop_last = True).fit(Train_X)\n",
        "Train_X = dummy_model.transform(Train_X)"
      ],
      "execution_count": null,
      "outputs": [
        {
          "output_type": "error",
          "ename": "ModuleNotFoundError",
          "evalue": "ignored",
          "traceback": [
            "\u001b[0;31m---------------------------------------------------------------------------\u001b[0m",
            "\u001b[0;31mModuleNotFoundError\u001b[0m                       Traceback (most recent call last)",
            "\u001b[0;32m<ipython-input-51-85c066b9bba9>\u001b[0m in \u001b[0;36m<module>\u001b[0;34m()\u001b[0m\n\u001b[0;32m----> 1\u001b[0;31m \u001b[0;32mfrom\u001b[0m \u001b[0mfeature_engine\u001b[0m\u001b[0;34m.\u001b[0m\u001b[0mcategorical_encoders\u001b[0m \u001b[0;32mimport\u001b[0m \u001b[0mOneHotCategoricalEncoder\u001b[0m \u001b[0;32mas\u001b[0m \u001b[0mOHE\u001b[0m\u001b[0;34m\u001b[0m\u001b[0;34m\u001b[0m\u001b[0m\n\u001b[0m\u001b[1;32m      2\u001b[0m \u001b[0mTrain_X\u001b[0m\u001b[0;34m[\u001b[0m\u001b[0mM_columns\u001b[0m\u001b[0;34m]\u001b[0m \u001b[0;34m=\u001b[0m \u001b[0mTrain_X\u001b[0m\u001b[0;34m[\u001b[0m\u001b[0mM_columns\u001b[0m\u001b[0;34m]\u001b[0m\u001b[0;34m.\u001b[0m\u001b[0mfillna\u001b[0m\u001b[0;34m(\u001b[0m\u001b[0;34m\"결측\"\u001b[0m\u001b[0;34m)\u001b[0m\u001b[0;34m\u001b[0m\u001b[0;34m\u001b[0m\u001b[0m\n\u001b[1;32m      3\u001b[0m \u001b[0mdummy_model\u001b[0m \u001b[0;34m=\u001b[0m \u001b[0mOHE\u001b[0m\u001b[0;34m(\u001b[0m\u001b[0mvariables\u001b[0m \u001b[0;34m=\u001b[0m \u001b[0mM_columns\u001b[0m \u001b[0;34m+\u001b[0m \u001b[0;34m[\u001b[0m\u001b[0;34m'ProductCD'\u001b[0m\u001b[0;34m]\u001b[0m\u001b[0;34m,\u001b[0m \u001b[0mdrop_last\u001b[0m \u001b[0;34m=\u001b[0m \u001b[0;32mTrue\u001b[0m\u001b[0;34m)\u001b[0m\u001b[0;34m.\u001b[0m\u001b[0mfit\u001b[0m\u001b[0;34m(\u001b[0m\u001b[0mTrain_X\u001b[0m\u001b[0;34m)\u001b[0m\u001b[0;34m\u001b[0m\u001b[0;34m\u001b[0m\u001b[0m\n\u001b[1;32m      4\u001b[0m \u001b[0mTrain_X\u001b[0m \u001b[0;34m=\u001b[0m \u001b[0mdummy_model\u001b[0m\u001b[0;34m.\u001b[0m\u001b[0mtransform\u001b[0m\u001b[0;34m(\u001b[0m\u001b[0mTrain_X\u001b[0m\u001b[0;34m)\u001b[0m\u001b[0;34m\u001b[0m\u001b[0;34m\u001b[0m\u001b[0m\n",
            "\u001b[0;31mModuleNotFoundError\u001b[0m: No module named 'feature_engine'",
            "",
            "\u001b[0;31m---------------------------------------------------------------------------\u001b[0;32m\nNOTE: If your import is failing due to a missing package, you can\nmanually install dependencies using either !pip or !apt.\n\nTo view examples of installing some common dependencies, click the\n\"Open Examples\" button below.\n\u001b[0;31m---------------------------------------------------------------------------\u001b[0m\n"
          ]
        }
      ]
    },
    {
      "cell_type": "code",
      "metadata": {
        "id": "SzuLwI5zSp-J"
      },
      "source": [
        "from feature_engine.categorical_encoders import OneHotCategoricalEncoder as OHE\n",
        "Test_X[M_columns] = Test_X[M_columns].fillna(\"결측\")\n",
        "Test_X = dummy_model.transform(Test_X)"
      ],
      "execution_count": null,
      "outputs": []
    },
    {
      "cell_type": "markdown",
      "metadata": {
        "id": "6iV-_JAfSp-J"
      },
      "source": [
        "#### 3.3 치우침 해소"
      ]
    },
    {
      "cell_type": "code",
      "metadata": {
        "id": "Hh48n9cESp-K"
      },
      "source": [
        "Train_X['TransactionAmt'] = np.log(Train_X['TransactionAmt'])"
      ],
      "execution_count": null,
      "outputs": []
    },
    {
      "cell_type": "code",
      "metadata": {
        "id": "eE0Isj6wSp-K"
      },
      "source": [
        "Test_X['TransactionAmt'] = np.log(Test_X['TransactionAmt'])"
      ],
      "execution_count": null,
      "outputs": []
    },
    {
      "cell_type": "markdown",
      "metadata": {
        "id": "ekcLKViFSp-K"
      },
      "source": [
        "#### 3.4 연속형 변수를 이진화"
      ]
    },
    {
      "cell_type": "code",
      "metadata": {
        "id": "7TixAibpSp-K"
      },
      "source": [
        "Train_X['card3_150'] = (Train_X['card3'] == 150).astype(int)\n",
        "Train_X['card3_185'] = (Train_X['card3'] == 185).astype(int)\n",
        "Train_X['card5_226'] = (Train_X['card5'] == 226).astype(int)\n",
        "\n",
        "Train_X.drop(['card3', 'card5'], axis = 1, inplace = True)"
      ],
      "execution_count": null,
      "outputs": []
    },
    {
      "cell_type": "code",
      "metadata": {
        "id": "1m0jb_uNSp-K"
      },
      "source": [
        "Test_X['card3_150'] = (Test_X['card3'] == 150).astype(int)\n",
        "Test_X['card3_185'] = (Test_X['card3'] == 185).astype(int)\n",
        "Test_X['card5_226'] = (Test_X['card5'] == 226).astype(int)\n",
        "\n",
        "Test_X.drop(['card3', 'card5'], axis = 1, inplace = True)"
      ],
      "execution_count": null,
      "outputs": []
    },
    {
      "cell_type": "markdown",
      "metadata": {
        "id": "OBDsGPaVSp-L"
      },
      "source": [
        "#### 3.5 결측 대체 (주의: 특정 값을 기준으로 이진화하려면 결측 대체가 마지막에 나와야 함!)"
      ]
    },
    {
      "cell_type": "code",
      "metadata": {
        "id": "nW-bMtPlSp-L",
        "colab": {
          "base_uri": "https://localhost:8080/",
          "height": 375
        },
        "outputId": "2e2148ef-224e-451a-ed3b-ddbe28909d3f"
      },
      "source": [
        "from sklearn.impute import SimpleImputer as SI\n",
        "imputer = SI().fit(Train_X)\n",
        "Train_X = pd.DataFrame(imputer.transform(Train_X), columns = Train_X.columns)\n",
        "Test_X = pd.DataFrame(imputer.transform(Test_X), columns = Train_X.columns)"
      ],
      "execution_count": null,
      "outputs": [
        {
          "output_type": "error",
          "ename": "ValueError",
          "evalue": "ignored",
          "traceback": [
            "\u001b[0;31m---------------------------------------------------------------------------\u001b[0m",
            "\u001b[0;31mValueError\u001b[0m                                Traceback (most recent call last)",
            "\u001b[0;32m<ipython-input-54-2cbbfe4b4048>\u001b[0m in \u001b[0;36m<module>\u001b[0;34m()\u001b[0m\n\u001b[1;32m      1\u001b[0m \u001b[0;32mfrom\u001b[0m \u001b[0msklearn\u001b[0m\u001b[0;34m.\u001b[0m\u001b[0mimpute\u001b[0m \u001b[0;32mimport\u001b[0m \u001b[0mSimpleImputer\u001b[0m \u001b[0;32mas\u001b[0m \u001b[0mSI\u001b[0m\u001b[0;34m\u001b[0m\u001b[0;34m\u001b[0m\u001b[0m\n\u001b[0;32m----> 2\u001b[0;31m \u001b[0mimputer\u001b[0m \u001b[0;34m=\u001b[0m \u001b[0mSI\u001b[0m\u001b[0;34m(\u001b[0m\u001b[0;34m)\u001b[0m\u001b[0;34m.\u001b[0m\u001b[0mfit\u001b[0m\u001b[0;34m(\u001b[0m\u001b[0mTrain_X\u001b[0m\u001b[0;34m)\u001b[0m\u001b[0;34m\u001b[0m\u001b[0;34m\u001b[0m\u001b[0m\n\u001b[0m\u001b[1;32m      3\u001b[0m \u001b[0mTrain_X\u001b[0m \u001b[0;34m=\u001b[0m \u001b[0mpd\u001b[0m\u001b[0;34m.\u001b[0m\u001b[0mDataFrame\u001b[0m\u001b[0;34m(\u001b[0m\u001b[0mimputer\u001b[0m\u001b[0;34m.\u001b[0m\u001b[0mtransform\u001b[0m\u001b[0;34m(\u001b[0m\u001b[0mTrain_X\u001b[0m\u001b[0;34m)\u001b[0m\u001b[0;34m,\u001b[0m \u001b[0mcolumns\u001b[0m \u001b[0;34m=\u001b[0m \u001b[0mTrain_X\u001b[0m\u001b[0;34m.\u001b[0m\u001b[0mcolumns\u001b[0m\u001b[0;34m)\u001b[0m\u001b[0;34m\u001b[0m\u001b[0;34m\u001b[0m\u001b[0m\n\u001b[1;32m      4\u001b[0m \u001b[0mTest_X\u001b[0m \u001b[0;34m=\u001b[0m \u001b[0mpd\u001b[0m\u001b[0;34m.\u001b[0m\u001b[0mDataFrame\u001b[0m\u001b[0;34m(\u001b[0m\u001b[0mimputer\u001b[0m\u001b[0;34m.\u001b[0m\u001b[0mtransform\u001b[0m\u001b[0;34m(\u001b[0m\u001b[0mTest_X\u001b[0m\u001b[0;34m)\u001b[0m\u001b[0;34m,\u001b[0m \u001b[0mcolumns\u001b[0m \u001b[0;34m=\u001b[0m \u001b[0mTrain_X\u001b[0m\u001b[0;34m.\u001b[0m\u001b[0mcolumns\u001b[0m\u001b[0;34m)\u001b[0m\u001b[0;34m\u001b[0m\u001b[0;34m\u001b[0m\u001b[0m\n",
            "\u001b[0;32m/usr/local/lib/python3.7/dist-packages/sklearn/impute/_base.py\u001b[0m in \u001b[0;36mfit\u001b[0;34m(self, X, y)\u001b[0m\n\u001b[1;32m    266\u001b[0m         \u001b[0mself\u001b[0m \u001b[0;34m:\u001b[0m \u001b[0mSimpleImputer\u001b[0m\u001b[0;34m\u001b[0m\u001b[0;34m\u001b[0m\u001b[0m\n\u001b[1;32m    267\u001b[0m         \"\"\"\n\u001b[0;32m--> 268\u001b[0;31m         \u001b[0mX\u001b[0m \u001b[0;34m=\u001b[0m \u001b[0mself\u001b[0m\u001b[0;34m.\u001b[0m\u001b[0m_validate_input\u001b[0m\u001b[0;34m(\u001b[0m\u001b[0mX\u001b[0m\u001b[0;34m)\u001b[0m\u001b[0;34m\u001b[0m\u001b[0;34m\u001b[0m\u001b[0m\n\u001b[0m\u001b[1;32m    269\u001b[0m         \u001b[0msuper\u001b[0m\u001b[0;34m(\u001b[0m\u001b[0;34m)\u001b[0m\u001b[0;34m.\u001b[0m\u001b[0m_fit_indicator\u001b[0m\u001b[0;34m(\u001b[0m\u001b[0mX\u001b[0m\u001b[0;34m)\u001b[0m\u001b[0;34m\u001b[0m\u001b[0;34m\u001b[0m\u001b[0m\n\u001b[1;32m    270\u001b[0m \u001b[0;34m\u001b[0m\u001b[0m\n",
            "\u001b[0;32m/usr/local/lib/python3.7/dist-packages/sklearn/impute/_base.py\u001b[0m in \u001b[0;36m_validate_input\u001b[0;34m(self, X)\u001b[0m\n\u001b[1;32m    238\u001b[0m                 new_ve = ValueError(\"Cannot use {} strategy with non-numeric \"\n\u001b[1;32m    239\u001b[0m                                     \"data:\\n{}\".format(self.strategy, ve))\n\u001b[0;32m--> 240\u001b[0;31m                 \u001b[0;32mraise\u001b[0m \u001b[0mnew_ve\u001b[0m \u001b[0;32mfrom\u001b[0m \u001b[0;32mNone\u001b[0m\u001b[0;34m\u001b[0m\u001b[0;34m\u001b[0m\u001b[0m\n\u001b[0m\u001b[1;32m    241\u001b[0m             \u001b[0;32melse\u001b[0m\u001b[0;34m:\u001b[0m\u001b[0;34m\u001b[0m\u001b[0;34m\u001b[0m\u001b[0m\n\u001b[1;32m    242\u001b[0m                 \u001b[0;32mraise\u001b[0m \u001b[0mve\u001b[0m\u001b[0;34m\u001b[0m\u001b[0;34m\u001b[0m\u001b[0m\n",
            "\u001b[0;31mValueError\u001b[0m: Cannot use mean strategy with non-numeric data:\ncould not convert string to float: 'W'"
          ]
        }
      ]
    },
    {
      "cell_type": "markdown",
      "metadata": {
        "id": "zUDaQDAYSp-L"
      },
      "source": [
        "#### 3.6 클래스 불균형 문제"
      ]
    },
    {
      "cell_type": "code",
      "metadata": {
        "id": "YkjXDzMISp-L"
      },
      "source": [
        "# 현재 클래스 간 빈도차이가 매우 심각함을 확인 (97: 3 정도의 비율)\n",
        "# 전체 샘플 수가 10만개이므로, 오버샘플링을 수행하기에는 부적절\n",
        "# 언더샘플링을 수행하게 되면 남는 샘플이 약 4천개이며, 특징 수가 그리 많지 않음 ==> 언더샘플링 혹은 비용 민감 모델 고려 필요"
      ],
      "execution_count": null,
      "outputs": []
    },
    {
      "cell_type": "markdown",
      "metadata": {
        "id": "Uit5C59iSp-L"
      },
      "source": [
        "### 4. 모델 학습\n",
        "- 사용 모델: Tree 기반의 앙상블 (Random Forest, XGBoost) \n",
        "- 언더샘플링과 비용민감모델 동시 고려"
      ]
    },
    {
      "cell_type": "markdown",
      "metadata": {
        "id": "WAlgtVygSp-L"
      },
      "source": [
        "모델 파라미터 그리드 설계"
      ]
    },
    {
      "cell_type": "code",
      "metadata": {
        "id": "97Zhy1hjSp-M",
        "outputId": "16290e82-dc1c-4818-cf6a-f40f1466481f"
      },
      "source": [
        "import copy\n",
        "from sklearn.model_selection import ParameterGrid\n",
        "from sklearn.feature_selection import *\n",
        "from sklearn.ensemble import RandomForestClassifier as RFC\n",
        "from xgboost import XGBClassifier as XGB\n",
        "from imblearn.under_sampling import NearMiss\n",
        "\n",
        "# 언더샘플링이 적용된 데이터에 사용할 그리드 생성 (복사를 위해, ParameterGrid를 일단 적용하지 않음)\n",
        "RF_grid = dict({\"n_estimators\":[100, 200],\n",
        "               \"max_depth\":[3, 4, 5, 6]})\n",
        "\n",
        "XGB_grid = dict({\"n_estimators\":[100, 200],\n",
        "               \"max_depth\":[3, 4, 5, 6],\n",
        "                \"learning_rate\":[0.05, 0.1, 0.2]})\n",
        "\n",
        "# 언더샘플링이 적용되지 않은 데이터에 사용할 그리드 생성\n",
        "class_imbalance_ratio = sum(Train_Y == 0) / sum(Train_Y == 1)\n",
        "RF_cs_grid = copy.copy(RF_grid)\n",
        "RF_cs_grid['class_weight'] = [{1:class_imbalance_ratio * w, 0:1} for w in [1, 0.9, 0.7, 0.5]]\n",
        "\n",
        "XGB_cs_grid = copy.copy(XGB_grid)\n",
        "XGB_cs_grid['class_weight'] = [{1:class_imbalance_ratio * w, 0:1} for w in [1, 0.9, 0.7, 0.5]]\n",
        "\n",
        "RF_grid = ParameterGrid(RF_grid)\n",
        "RF_cs_grid = ParameterGrid(RF_cs_grid)\n",
        "XGB_grid = ParameterGrid(XGB_grid)\n",
        "XGB_cs_grid = ParameterGrid(XGB_cs_grid)"
      ],
      "execution_count": null,
      "outputs": [
        {
          "output_type": "stream",
          "text": [
            "Using TensorFlow backend.\n"
          ],
          "name": "stderr"
        }
      ]
    },
    {
      "cell_type": "code",
      "metadata": {
        "id": "Tm2gW-sfSp-M"
      },
      "source": [
        "# 최종 그리드 생성 및 모델 테스트 함수 생성\n",
        "grid_for_cs_model = {RFC:RF_cs_grid, XGB:XGB_cs_grid}\n",
        "grid_for_not_cs_model = {RFC:RF_grid, XGB:XGB_grid}\n",
        "\n",
        "from sklearn.metrics import f1_score\n",
        "def model_test(model, test_x, test_y):\n",
        "    pred_Y = model.predict(test_x)\n",
        "    return f1_score(test_y, pred_Y)"
      ],
      "execution_count": null,
      "outputs": []
    },
    {
      "cell_type": "markdown",
      "metadata": {
        "id": "vNWjyFczSp-M"
      },
      "source": [
        "파라미터 튜닝 "
      ]
    },
    {
      "cell_type": "code",
      "metadata": {
        "id": "Qpq_vQUuSp-M",
        "outputId": "ef23b417-632e-45bc-8d25-20af003ce987"
      },
      "source": [
        "# 비용 민감 모델 테스트\n",
        "# 최고값 초기화\n",
        "\n",
        "best_score = -1\n",
        "max_iter = 0\n",
        "for k in range(34, 4, -5): \n",
        "    for model_func in grid_for_cs_model:\n",
        "        for parameter in grid_for_cs_model[model_func]:            \n",
        "            max_iter += 1\n",
        "\n",
        "# 데이터 꼬임을 방지하기 위해 데이터 복제\n",
        "T_X = Train_X.copy() \n",
        "t_X = Test_X.copy()\n",
        "\n",
        "num_iter = 1\n",
        "for k in range(34, 4, -5): \n",
        "    selector = SelectKBest(mutual_info_classif, k = k).fit(T_X, Train_Y)\n",
        "    selected_columns = T_X.columns[selector.get_support()]\n",
        "    T_X = T_X[selected_columns]\n",
        "    t_X = t_X[selected_columns]\n",
        "    for model_func in grid_for_cs_model:\n",
        "        for parameter in grid_for_cs_model[model_func]:            \n",
        "            model = model_func(**parameter).fit(T_X, Train_Y)\n",
        "            score = model_test(model, t_X, Test_Y)\n",
        "            if score > best_score:\n",
        "                best_model = model\n",
        "                best_features = selected_columns\n",
        "                best_score = score            \n",
        "                                \n",
        "            print(num_iter, \"/\", max_iter, best_score)\n",
        "            num_iter += 1            "
      ],
      "execution_count": null,
      "outputs": [
        {
          "output_type": "stream",
          "text": [
            "1 / 768 0.20132450331125828\n",
            "2 / 768 0.20132450331125828\n",
            "3 / 768 0.20132450331125828\n",
            "4 / 768 0.20132450331125828\n",
            "5 / 768 0.20132450331125828\n",
            "6 / 768 0.20132450331125828\n",
            "7 / 768 0.20132450331125828\n",
            "8 / 768 0.20132450331125828\n",
            "9 / 768 0.22966867469879515\n",
            "10 / 768 0.22966867469879515\n",
            "11 / 768 0.22966867469879515\n",
            "12 / 768 0.22966867469879515\n",
            "13 / 768 0.22966867469879515\n",
            "14 / 768 0.22966867469879515\n",
            "15 / 768 0.22966867469879515\n",
            "16 / 768 0.22966867469879515\n",
            "17 / 768 0.23612334801762114\n",
            "18 / 768 0.24226579520697167\n",
            "19 / 768 0.25701130179991627\n",
            "20 / 768 0.25701130179991627\n",
            "21 / 768 0.2910874897792314\n",
            "22 / 768 0.2910874897792314\n",
            "23 / 768 0.3151515151515151\n",
            "24 / 768 0.31685678073510776\n",
            "25 / 768 0.31685678073510776\n",
            "26 / 768 0.31685678073510776\n",
            "27 / 768 0.31685678073510776\n",
            "28 / 768 0.31685678073510776\n",
            "29 / 768 0.3269447576099211\n",
            "30 / 768 0.3269447576099211\n",
            "31 / 768 0.34387579068430135\n",
            "32 / 768 0.35918854415274465\n",
            "33 / 768 0.35918854415274465\n",
            "34 / 768 0.35918854415274465\n",
            "35 / 768 0.35918854415274465\n",
            "36 / 768 0.3847102342786683\n",
            "37 / 768 0.3847102342786683\n",
            "38 / 768 0.44152744630071605\n",
            "39 / 768 0.44152744630071605\n",
            "40 / 768 0.5074626865671642\n",
            "41 / 768 0.5074626865671642\n",
            "42 / 768 0.5074626865671642\n",
            "43 / 768 0.5074626865671642\n",
            "44 / 768 0.5074626865671642\n",
            "45 / 768 0.5074626865671642\n",
            "46 / 768 0.525959367945824\n",
            "47 / 768 0.5289443813847899\n",
            "48 / 768 0.5788900979325353\n",
            "49 / 768 0.5788900979325353\n",
            "50 / 768 0.5788900979325353\n",
            "51 / 768 0.5788900979325353\n",
            "52 / 768 0.5788900979325353\n",
            "53 / 768 0.5788900979325353\n",
            "54 / 768 0.6004273504273504\n",
            "55 / 768 0.6004273504273504\n",
            "56 / 768 0.6326742976066597\n",
            "57 / 768 0.6326742976066597\n",
            "58 / 768 0.6326742976066597\n",
            "59 / 768 0.6326742976066597\n",
            "60 / 768 0.6326742976066597\n",
            "61 / 768 0.6326742976066597\n",
            "62 / 768 0.6326742976066597\n",
            "63 / 768 0.6326742976066597\n",
            "64 / 768 0.6326742976066597\n",
            "65 / 768 0.6326742976066597\n",
            "66 / 768 0.6326742976066597\n",
            "67 / 768 0.6326742976066597\n",
            "68 / 768 0.6326742976066597\n",
            "69 / 768 0.6326742976066597\n",
            "70 / 768 0.6326742976066597\n",
            "71 / 768 0.6326742976066597\n",
            "72 / 768 0.6326742976066597\n",
            "73 / 768 0.6326742976066597\n",
            "74 / 768 0.6326742976066597\n",
            "75 / 768 0.6326742976066597\n",
            "76 / 768 0.6326742976066597\n",
            "77 / 768 0.6326742976066597\n",
            "78 / 768 0.6326742976066597\n",
            "79 / 768 0.6326742976066597\n",
            "80 / 768 0.6326742976066597\n",
            "81 / 768 0.6326742976066597\n",
            "82 / 768 0.6326742976066597\n",
            "83 / 768 0.6326742976066597\n",
            "84 / 768 0.6326742976066597\n",
            "85 / 768 0.6326742976066597\n",
            "86 / 768 0.6326742976066597\n",
            "87 / 768 0.6326742976066597\n",
            "88 / 768 0.6326742976066597\n",
            "89 / 768 0.6326742976066597\n",
            "90 / 768 0.6326742976066597\n",
            "91 / 768 0.6326742976066597\n",
            "92 / 768 0.6326742976066597\n",
            "93 / 768 0.6326742976066597\n",
            "94 / 768 0.6326742976066597\n",
            "95 / 768 0.6326742976066597\n",
            "96 / 768 0.6326742976066597\n",
            "97 / 768 0.6326742976066597\n",
            "98 / 768 0.6326742976066597\n",
            "99 / 768 0.6326742976066597\n",
            "100 / 768 0.6326742976066597\n",
            "101 / 768 0.6326742976066597\n",
            "102 / 768 0.6326742976066597\n",
            "103 / 768 0.6326742976066597\n",
            "104 / 768 0.6326742976066597\n",
            "105 / 768 0.6326742976066597\n",
            "106 / 768 0.6326742976066597\n",
            "107 / 768 0.6326742976066597\n",
            "108 / 768 0.6326742976066597\n",
            "109 / 768 0.6326742976066597\n",
            "110 / 768 0.6326742976066597\n",
            "111 / 768 0.6326742976066597\n",
            "112 / 768 0.6326742976066597\n",
            "113 / 768 0.6326742976066597\n",
            "114 / 768 0.6326742976066597\n",
            "115 / 768 0.6326742976066597\n",
            "116 / 768 0.6326742976066597\n",
            "117 / 768 0.6326742976066597\n",
            "118 / 768 0.6326742976066597\n",
            "119 / 768 0.6326742976066597\n",
            "120 / 768 0.6326742976066597\n",
            "121 / 768 0.6326742976066597\n",
            "122 / 768 0.6326742976066597\n",
            "123 / 768 0.6326742976066597\n",
            "124 / 768 0.6326742976066597\n",
            "125 / 768 0.6326742976066597\n",
            "126 / 768 0.6326742976066597\n",
            "127 / 768 0.6326742976066597\n",
            "128 / 768 0.6326742976066597\n",
            "129 / 768 0.6326742976066597\n",
            "130 / 768 0.6326742976066597\n",
            "131 / 768 0.6326742976066597\n",
            "132 / 768 0.6326742976066597\n",
            "133 / 768 0.6326742976066597\n",
            "134 / 768 0.6326742976066597\n",
            "135 / 768 0.6326742976066597\n",
            "136 / 768 0.6326742976066597\n",
            "137 / 768 0.6326742976066597\n",
            "138 / 768 0.6326742976066597\n",
            "139 / 768 0.6326742976066597\n",
            "140 / 768 0.6326742976066597\n",
            "141 / 768 0.6326742976066597\n",
            "142 / 768 0.6326742976066597\n",
            "143 / 768 0.6326742976066597\n",
            "144 / 768 0.6326742976066597\n",
            "145 / 768 0.6326742976066597\n",
            "146 / 768 0.6326742976066597\n",
            "147 / 768 0.6326742976066597\n",
            "148 / 768 0.6326742976066597\n",
            "149 / 768 0.6326742976066597\n",
            "150 / 768 0.6326742976066597\n",
            "151 / 768 0.6326742976066597\n",
            "152 / 768 0.6326742976066597\n",
            "153 / 768 0.6326742976066597\n",
            "154 / 768 0.6326742976066597\n",
            "155 / 768 0.6326742976066597\n",
            "156 / 768 0.6326742976066597\n",
            "157 / 768 0.6326742976066597\n",
            "158 / 768 0.6326742976066597\n",
            "159 / 768 0.6326742976066597\n",
            "160 / 768 0.6326742976066597\n",
            "161 / 768 0.6326742976066597\n",
            "162 / 768 0.6326742976066597\n",
            "163 / 768 0.6326742976066597\n",
            "164 / 768 0.6326742976066597\n",
            "165 / 768 0.6326742976066597\n",
            "166 / 768 0.6326742976066597\n",
            "167 / 768 0.6326742976066597\n",
            "168 / 768 0.6326742976066597\n",
            "169 / 768 0.6326742976066597\n",
            "170 / 768 0.6326742976066597\n",
            "171 / 768 0.6326742976066597\n",
            "172 / 768 0.6326742976066597\n",
            "173 / 768 0.6326742976066597\n",
            "174 / 768 0.6326742976066597\n",
            "175 / 768 0.6326742976066597\n",
            "176 / 768 0.6326742976066597\n",
            "177 / 768 0.6326742976066597\n",
            "178 / 768 0.6326742976066597\n",
            "179 / 768 0.6326742976066597\n",
            "180 / 768 0.6326742976066597\n",
            "181 / 768 0.6326742976066597\n",
            "182 / 768 0.6326742976066597\n",
            "183 / 768 0.6326742976066597\n",
            "184 / 768 0.6390041493775934\n",
            "185 / 768 0.6390041493775934\n",
            "186 / 768 0.6390041493775934\n",
            "187 / 768 0.6390041493775934\n",
            "188 / 768 0.6390041493775934\n",
            "189 / 768 0.6390041493775934\n",
            "190 / 768 0.6390041493775934\n",
            "191 / 768 0.6390041493775934\n",
            "192 / 768 0.6390041493775934\n",
            "193 / 768 0.6390041493775934\n",
            "194 / 768 0.6390041493775934\n",
            "195 / 768 0.6390041493775934\n",
            "196 / 768 0.6390041493775934\n",
            "197 / 768 0.6390041493775934\n",
            "198 / 768 0.6390041493775934\n",
            "199 / 768 0.6390041493775934\n",
            "200 / 768 0.6390041493775934\n",
            "201 / 768 0.6390041493775934\n",
            "202 / 768 0.6390041493775934\n",
            "203 / 768 0.6390041493775934\n",
            "204 / 768 0.6390041493775934\n",
            "205 / 768 0.6390041493775934\n",
            "206 / 768 0.6390041493775934\n",
            "207 / 768 0.6390041493775934\n",
            "208 / 768 0.6390041493775934\n",
            "209 / 768 0.6390041493775934\n",
            "210 / 768 0.6390041493775934\n",
            "211 / 768 0.6390041493775934\n",
            "212 / 768 0.6390041493775934\n",
            "213 / 768 0.6390041493775934\n",
            "214 / 768 0.6390041493775934\n",
            "215 / 768 0.6390041493775934\n",
            "216 / 768 0.6390041493775934\n",
            "217 / 768 0.6390041493775934\n",
            "218 / 768 0.6390041493775934\n",
            "219 / 768 0.6390041493775934\n",
            "220 / 768 0.6390041493775934\n",
            "221 / 768 0.6390041493775934\n",
            "222 / 768 0.6390041493775934\n",
            "223 / 768 0.6390041493775934\n",
            "224 / 768 0.6390041493775934\n",
            "225 / 768 0.6390041493775934\n",
            "226 / 768 0.6390041493775934\n",
            "227 / 768 0.6390041493775934\n",
            "228 / 768 0.6390041493775934\n",
            "229 / 768 0.6390041493775934\n",
            "230 / 768 0.6390041493775934\n",
            "231 / 768 0.6390041493775934\n",
            "232 / 768 0.6390041493775934\n",
            "233 / 768 0.6390041493775934\n",
            "234 / 768 0.6390041493775934\n",
            "235 / 768 0.6390041493775934\n",
            "236 / 768 0.6390041493775934\n",
            "237 / 768 0.6390041493775934\n",
            "238 / 768 0.6390041493775934\n",
            "239 / 768 0.6390041493775934\n",
            "240 / 768 0.6390041493775934\n",
            "241 / 768 0.6390041493775934\n",
            "242 / 768 0.6390041493775934\n",
            "243 / 768 0.6390041493775934\n",
            "244 / 768 0.6390041493775934\n",
            "245 / 768 0.6390041493775934\n",
            "246 / 768 0.6390041493775934\n",
            "247 / 768 0.6390041493775934\n",
            "248 / 768 0.6390041493775934\n",
            "249 / 768 0.6390041493775934\n",
            "250 / 768 0.6390041493775934\n",
            "251 / 768 0.6390041493775934\n",
            "252 / 768 0.6390041493775934\n",
            "253 / 768 0.6390041493775934\n",
            "254 / 768 0.6390041493775934\n",
            "255 / 768 0.6390041493775934\n",
            "256 / 768 0.6390041493775934\n",
            "257 / 768 0.6390041493775934\n",
            "258 / 768 0.6390041493775934\n",
            "259 / 768 0.6390041493775934\n",
            "260 / 768 0.6390041493775934\n",
            "261 / 768 0.6390041493775934\n",
            "262 / 768 0.6390041493775934\n",
            "263 / 768 0.6390041493775934\n",
            "264 / 768 0.6390041493775934\n",
            "265 / 768 0.6390041493775934\n",
            "266 / 768 0.6390041493775934\n",
            "267 / 768 0.6390041493775934\n",
            "268 / 768 0.6390041493775934\n",
            "269 / 768 0.6390041493775934\n",
            "270 / 768 0.6390041493775934\n",
            "271 / 768 0.6390041493775934\n",
            "272 / 768 0.6390041493775934\n",
            "273 / 768 0.6390041493775934\n",
            "274 / 768 0.6390041493775934\n",
            "275 / 768 0.6390041493775934\n",
            "276 / 768 0.6390041493775934\n",
            "277 / 768 0.6390041493775934\n",
            "278 / 768 0.6390041493775934\n",
            "279 / 768 0.6390041493775934\n",
            "280 / 768 0.6390041493775934\n",
            "281 / 768 0.6390041493775934\n",
            "282 / 768 0.6390041493775934\n",
            "283 / 768 0.6390041493775934\n",
            "284 / 768 0.6390041493775934\n",
            "285 / 768 0.6390041493775934\n",
            "286 / 768 0.6390041493775934\n",
            "287 / 768 0.6390041493775934\n",
            "288 / 768 0.6390041493775934\n",
            "289 / 768 0.6390041493775934\n",
            "290 / 768 0.6390041493775934\n",
            "291 / 768 0.6390041493775934\n",
            "292 / 768 0.6390041493775934\n",
            "293 / 768 0.6390041493775934\n",
            "294 / 768 0.6390041493775934\n",
            "295 / 768 0.6390041493775934\n",
            "296 / 768 0.6390041493775934\n",
            "297 / 768 0.6390041493775934\n",
            "298 / 768 0.6390041493775934\n",
            "299 / 768 0.6390041493775934\n",
            "300 / 768 0.6390041493775934\n",
            "301 / 768 0.6390041493775934\n",
            "302 / 768 0.6390041493775934\n",
            "303 / 768 0.6390041493775934\n",
            "304 / 768 0.6390041493775934\n",
            "305 / 768 0.6390041493775934\n",
            "306 / 768 0.6390041493775934\n",
            "307 / 768 0.6390041493775934\n",
            "308 / 768 0.6390041493775934\n",
            "309 / 768 0.6390041493775934\n",
            "310 / 768 0.6390041493775934\n",
            "311 / 768 0.6390041493775934\n",
            "312 / 768 0.6390041493775934\n",
            "313 / 768 0.6390041493775934\n",
            "314 / 768 0.6390041493775934\n",
            "315 / 768 0.6390041493775934\n",
            "316 / 768 0.6390041493775934\n",
            "317 / 768 0.6390041493775934\n",
            "318 / 768 0.6390041493775934\n",
            "319 / 768 0.6390041493775934\n",
            "320 / 768 0.6390041493775934\n",
            "321 / 768 0.6390041493775934\n",
            "322 / 768 0.6390041493775934\n",
            "323 / 768 0.6390041493775934\n",
            "324 / 768 0.6390041493775934\n",
            "325 / 768 0.6390041493775934\n",
            "326 / 768 0.6390041493775934\n",
            "327 / 768 0.6390041493775934\n",
            "328 / 768 0.6390041493775934\n",
            "329 / 768 0.6390041493775934\n",
            "330 / 768 0.6390041493775934\n",
            "331 / 768 0.6390041493775934\n",
            "332 / 768 0.6390041493775934\n",
            "333 / 768 0.6390041493775934\n",
            "334 / 768 0.6390041493775934\n",
            "335 / 768 0.6390041493775934\n",
            "336 / 768 0.6390041493775934\n",
            "337 / 768 0.6390041493775934\n",
            "338 / 768 0.6390041493775934\n",
            "339 / 768 0.6390041493775934\n",
            "340 / 768 0.6390041493775934\n",
            "341 / 768 0.6390041493775934\n",
            "342 / 768 0.6390041493775934\n",
            "343 / 768 0.6390041493775934\n",
            "344 / 768 0.6390041493775934\n",
            "345 / 768 0.6390041493775934\n",
            "346 / 768 0.6390041493775934\n",
            "347 / 768 0.6390041493775934\n",
            "348 / 768 0.6390041493775934\n",
            "349 / 768 0.6390041493775934\n",
            "350 / 768 0.6390041493775934\n",
            "351 / 768 0.6390041493775934\n",
            "352 / 768 0.6390041493775934\n",
            "353 / 768 0.6390041493775934\n",
            "354 / 768 0.6390041493775934\n",
            "355 / 768 0.6390041493775934\n",
            "356 / 768 0.6390041493775934\n",
            "357 / 768 0.6390041493775934\n",
            "358 / 768 0.6390041493775934\n",
            "359 / 768 0.6390041493775934\n",
            "360 / 768 0.6390041493775934\n",
            "361 / 768 0.6390041493775934\n",
            "362 / 768 0.6390041493775934\n",
            "363 / 768 0.6390041493775934\n",
            "364 / 768 0.6390041493775934\n",
            "365 / 768 0.6390041493775934\n",
            "366 / 768 0.6390041493775934\n",
            "367 / 768 0.6390041493775934\n",
            "368 / 768 0.6390041493775934\n",
            "369 / 768 0.6390041493775934\n",
            "370 / 768 0.6390041493775934\n",
            "371 / 768 0.6390041493775934\n",
            "372 / 768 0.6390041493775934\n",
            "373 / 768 0.6390041493775934\n",
            "374 / 768 0.6390041493775934\n",
            "375 / 768 0.6390041493775934\n",
            "376 / 768 0.6390041493775934\n",
            "377 / 768 0.6390041493775934\n",
            "378 / 768 0.6390041493775934\n",
            "379 / 768 0.6390041493775934\n",
            "380 / 768 0.6390041493775934\n",
            "381 / 768 0.6390041493775934\n",
            "382 / 768 0.6390041493775934\n",
            "383 / 768 0.6390041493775934\n",
            "384 / 768 0.6390041493775934\n",
            "385 / 768 0.6390041493775934\n",
            "386 / 768 0.6390041493775934\n",
            "387 / 768 0.6390041493775934\n",
            "388 / 768 0.6390041493775934\n",
            "389 / 768 0.6390041493775934\n",
            "390 / 768 0.6390041493775934\n",
            "391 / 768 0.6390041493775934\n",
            "392 / 768 0.6390041493775934\n",
            "393 / 768 0.6390041493775934\n",
            "394 / 768 0.6390041493775934\n",
            "395 / 768 0.6390041493775934\n",
            "396 / 768 0.6390041493775934\n",
            "397 / 768 0.6390041493775934\n",
            "398 / 768 0.6390041493775934\n",
            "399 / 768 0.6390041493775934\n",
            "400 / 768 0.6390041493775934\n",
            "401 / 768 0.6390041493775934\n",
            "402 / 768 0.6390041493775934\n",
            "403 / 768 0.6390041493775934\n",
            "404 / 768 0.6390041493775934\n",
            "405 / 768 0.6390041493775934\n",
            "406 / 768 0.6390041493775934\n",
            "407 / 768 0.6390041493775934\n",
            "408 / 768 0.6390041493775934\n",
            "409 / 768 0.6390041493775934\n",
            "410 / 768 0.6390041493775934\n",
            "411 / 768 0.6390041493775934\n",
            "412 / 768 0.6390041493775934\n",
            "413 / 768 0.6390041493775934\n",
            "414 / 768 0.6390041493775934\n",
            "415 / 768 0.6390041493775934\n",
            "416 / 768 0.6390041493775934\n",
            "417 / 768 0.6390041493775934\n",
            "418 / 768 0.6390041493775934\n",
            "419 / 768 0.6390041493775934\n",
            "420 / 768 0.6390041493775934\n",
            "421 / 768 0.6390041493775934\n",
            "422 / 768 0.6390041493775934\n",
            "423 / 768 0.6390041493775934\n",
            "424 / 768 0.6390041493775934\n",
            "425 / 768 0.6390041493775934\n",
            "426 / 768 0.6390041493775934\n",
            "427 / 768 0.6390041493775934\n",
            "428 / 768 0.6390041493775934\n",
            "429 / 768 0.6390041493775934\n",
            "430 / 768 0.6390041493775934\n",
            "431 / 768 0.6390041493775934\n",
            "432 / 768 0.6390041493775934\n",
            "433 / 768 0.6390041493775934\n",
            "434 / 768 0.6390041493775934\n",
            "435 / 768 0.6390041493775934\n",
            "436 / 768 0.6390041493775934\n",
            "437 / 768 0.6390041493775934\n",
            "438 / 768 0.6390041493775934\n",
            "439 / 768 0.6390041493775934\n",
            "440 / 768 0.6390041493775934\n",
            "441 / 768 0.6390041493775934\n",
            "442 / 768 0.6390041493775934\n",
            "443 / 768 0.6390041493775934\n",
            "444 / 768 0.6390041493775934\n",
            "445 / 768 0.6390041493775934\n",
            "446 / 768 0.6390041493775934\n",
            "447 / 768 0.6390041493775934\n",
            "448 / 768 0.6390041493775934\n",
            "449 / 768 0.6390041493775934\n",
            "450 / 768 0.6390041493775934\n",
            "451 / 768 0.6390041493775934\n",
            "452 / 768 0.6390041493775934\n",
            "453 / 768 0.6390041493775934\n",
            "454 / 768 0.6390041493775934\n",
            "455 / 768 0.6390041493775934\n",
            "456 / 768 0.6390041493775934\n",
            "457 / 768 0.6390041493775934\n",
            "458 / 768 0.6390041493775934\n",
            "459 / 768 0.6390041493775934\n",
            "460 / 768 0.6390041493775934\n",
            "461 / 768 0.6390041493775934\n",
            "462 / 768 0.6390041493775934\n",
            "463 / 768 0.6390041493775934\n",
            "464 / 768 0.6390041493775934\n",
            "465 / 768 0.6390041493775934\n",
            "466 / 768 0.6390041493775934\n",
            "467 / 768 0.6390041493775934\n",
            "468 / 768 0.6390041493775934\n",
            "469 / 768 0.6390041493775934\n",
            "470 / 768 0.6390041493775934\n",
            "471 / 768 0.6390041493775934\n",
            "472 / 768 0.6390041493775934\n",
            "473 / 768 0.6390041493775934\n",
            "474 / 768 0.6390041493775934\n",
            "475 / 768 0.6390041493775934\n",
            "476 / 768 0.6390041493775934\n",
            "477 / 768 0.6390041493775934\n",
            "478 / 768 0.6390041493775934\n",
            "479 / 768 0.6390041493775934\n",
            "480 / 768 0.6390041493775934\n",
            "481 / 768 0.6390041493775934\n",
            "482 / 768 0.6390041493775934\n",
            "483 / 768 0.6390041493775934\n",
            "484 / 768 0.6390041493775934\n",
            "485 / 768 0.6390041493775934\n",
            "486 / 768 0.6390041493775934\n",
            "487 / 768 0.6390041493775934\n",
            "488 / 768 0.6390041493775934\n",
            "489 / 768 0.6390041493775934\n",
            "490 / 768 0.6390041493775934\n",
            "491 / 768 0.6390041493775934\n",
            "492 / 768 0.6390041493775934\n",
            "493 / 768 0.6390041493775934\n",
            "494 / 768 0.6390041493775934\n",
            "495 / 768 0.6390041493775934\n",
            "496 / 768 0.6390041493775934\n",
            "497 / 768 0.6390041493775934\n",
            "498 / 768 0.6390041493775934\n",
            "499 / 768 0.6390041493775934\n",
            "500 / 768 0.6390041493775934\n",
            "501 / 768 0.6390041493775934\n",
            "502 / 768 0.6390041493775934\n",
            "503 / 768 0.6390041493775934\n",
            "504 / 768 0.6390041493775934\n",
            "505 / 768 0.6390041493775934\n",
            "506 / 768 0.6390041493775934\n",
            "507 / 768 0.6390041493775934\n",
            "508 / 768 0.6390041493775934\n",
            "509 / 768 0.6390041493775934\n",
            "510 / 768 0.6390041493775934\n",
            "511 / 768 0.6390041493775934\n",
            "512 / 768 0.6390041493775934\n",
            "513 / 768 0.6390041493775934\n",
            "514 / 768 0.6390041493775934\n",
            "515 / 768 0.6390041493775934\n",
            "516 / 768 0.6390041493775934\n",
            "517 / 768 0.6390041493775934\n",
            "518 / 768 0.6390041493775934\n",
            "519 / 768 0.6390041493775934\n",
            "520 / 768 0.6390041493775934\n",
            "521 / 768 0.6390041493775934\n",
            "522 / 768 0.6390041493775934\n",
            "523 / 768 0.6390041493775934\n",
            "524 / 768 0.6390041493775934\n",
            "525 / 768 0.6390041493775934\n",
            "526 / 768 0.6390041493775934\n",
            "527 / 768 0.6390041493775934\n",
            "528 / 768 0.6390041493775934\n",
            "529 / 768 0.6390041493775934\n",
            "530 / 768 0.6390041493775934\n",
            "531 / 768 0.6390041493775934\n",
            "532 / 768 0.6390041493775934\n",
            "533 / 768 0.6390041493775934\n",
            "534 / 768 0.6390041493775934\n",
            "535 / 768 0.6390041493775934\n",
            "536 / 768 0.6390041493775934\n",
            "537 / 768 0.6390041493775934\n",
            "538 / 768 0.6390041493775934\n",
            "539 / 768 0.6390041493775934\n",
            "540 / 768 0.6390041493775934\n",
            "541 / 768 0.6390041493775934\n",
            "542 / 768 0.6390041493775934\n",
            "543 / 768 0.6390041493775934\n",
            "544 / 768 0.6390041493775934\n",
            "545 / 768 0.6390041493775934\n",
            "546 / 768 0.6390041493775934\n",
            "547 / 768 0.6390041493775934\n",
            "548 / 768 0.6390041493775934\n",
            "549 / 768 0.6390041493775934\n",
            "550 / 768 0.6390041493775934\n",
            "551 / 768 0.6390041493775934\n",
            "552 / 768 0.6390041493775934\n",
            "553 / 768 0.6390041493775934\n",
            "554 / 768 0.6390041493775934\n",
            "555 / 768 0.6390041493775934\n",
            "556 / 768 0.6390041493775934\n",
            "557 / 768 0.6390041493775934\n",
            "558 / 768 0.6390041493775934\n",
            "559 / 768 0.6390041493775934\n",
            "560 / 768 0.6390041493775934\n",
            "561 / 768 0.6390041493775934\n",
            "562 / 768 0.6390041493775934\n",
            "563 / 768 0.6390041493775934\n",
            "564 / 768 0.6390041493775934\n",
            "565 / 768 0.6390041493775934\n",
            "566 / 768 0.6390041493775934\n",
            "567 / 768 0.6390041493775934\n",
            "568 / 768 0.6390041493775934\n",
            "569 / 768 0.6390041493775934\n",
            "570 / 768 0.6390041493775934\n",
            "571 / 768 0.6390041493775934\n",
            "572 / 768 0.6390041493775934\n",
            "573 / 768 0.6390041493775934\n",
            "574 / 768 0.6390041493775934\n",
            "575 / 768 0.6390041493775934\n",
            "576 / 768 0.6390041493775934\n",
            "577 / 768 0.6390041493775934\n",
            "578 / 768 0.6390041493775934\n",
            "579 / 768 0.6390041493775934\n",
            "580 / 768 0.6390041493775934\n",
            "581 / 768 0.6390041493775934\n",
            "582 / 768 0.6390041493775934\n",
            "583 / 768 0.6390041493775934\n",
            "584 / 768 0.6390041493775934\n",
            "585 / 768 0.6390041493775934\n",
            "586 / 768 0.6390041493775934\n",
            "587 / 768 0.6390041493775934\n",
            "588 / 768 0.6390041493775934\n",
            "589 / 768 0.6390041493775934\n",
            "590 / 768 0.6390041493775934\n",
            "591 / 768 0.6390041493775934\n",
            "592 / 768 0.6390041493775934\n",
            "593 / 768 0.6390041493775934\n",
            "594 / 768 0.6390041493775934\n",
            "595 / 768 0.6390041493775934\n",
            "596 / 768 0.6390041493775934\n",
            "597 / 768 0.6390041493775934\n",
            "598 / 768 0.6390041493775934\n",
            "599 / 768 0.6390041493775934\n",
            "600 / 768 0.6390041493775934\n",
            "601 / 768 0.6390041493775934\n",
            "602 / 768 0.6390041493775934\n",
            "603 / 768 0.6390041493775934\n",
            "604 / 768 0.6390041493775934\n",
            "605 / 768 0.6390041493775934\n",
            "606 / 768 0.6390041493775934\n",
            "607 / 768 0.6390041493775934\n",
            "608 / 768 0.6390041493775934\n",
            "609 / 768 0.6390041493775934\n",
            "610 / 768 0.6390041493775934\n",
            "611 / 768 0.6390041493775934\n",
            "612 / 768 0.6390041493775934\n",
            "613 / 768 0.6390041493775934\n",
            "614 / 768 0.6390041493775934\n",
            "615 / 768 0.6390041493775934\n",
            "616 / 768 0.6390041493775934\n",
            "617 / 768 0.6390041493775934\n",
            "618 / 768 0.6390041493775934\n",
            "619 / 768 0.6390041493775934\n",
            "620 / 768 0.6390041493775934\n",
            "621 / 768 0.6390041493775934\n",
            "622 / 768 0.6390041493775934\n",
            "623 / 768 0.6390041493775934\n",
            "624 / 768 0.6390041493775934\n",
            "625 / 768 0.6390041493775934\n",
            "626 / 768 0.6390041493775934\n",
            "627 / 768 0.6390041493775934\n",
            "628 / 768 0.6390041493775934\n",
            "629 / 768 0.6390041493775934\n",
            "630 / 768 0.6390041493775934\n",
            "631 / 768 0.6390041493775934\n",
            "632 / 768 0.6390041493775934\n",
            "633 / 768 0.6390041493775934\n",
            "634 / 768 0.6390041493775934\n",
            "635 / 768 0.6390041493775934\n",
            "636 / 768 0.6390041493775934\n",
            "637 / 768 0.6390041493775934\n",
            "638 / 768 0.6390041493775934\n",
            "639 / 768 0.6390041493775934\n",
            "640 / 768 0.6390041493775934\n",
            "641 / 768 0.6390041493775934\n",
            "642 / 768 0.6390041493775934\n",
            "643 / 768 0.6390041493775934\n",
            "644 / 768 0.6390041493775934\n",
            "645 / 768 0.6390041493775934\n",
            "646 / 768 0.6390041493775934\n",
            "647 / 768 0.6390041493775934\n",
            "648 / 768 0.6390041493775934\n",
            "649 / 768 0.6390041493775934\n",
            "650 / 768 0.6390041493775934\n",
            "651 / 768 0.6390041493775934\n",
            "652 / 768 0.6390041493775934\n",
            "653 / 768 0.6390041493775934\n",
            "654 / 768 0.6390041493775934\n",
            "655 / 768 0.6390041493775934\n",
            "656 / 768 0.6390041493775934\n",
            "657 / 768 0.6390041493775934\n",
            "658 / 768 0.6390041493775934\n",
            "659 / 768 0.6390041493775934\n",
            "660 / 768 0.6390041493775934\n",
            "661 / 768 0.6390041493775934\n",
            "662 / 768 0.6390041493775934\n",
            "663 / 768 0.6390041493775934\n",
            "664 / 768 0.6390041493775934\n",
            "665 / 768 0.6390041493775934\n",
            "666 / 768 0.6390041493775934\n",
            "667 / 768 0.6390041493775934\n",
            "668 / 768 0.6390041493775934\n",
            "669 / 768 0.6390041493775934\n",
            "670 / 768 0.6390041493775934\n",
            "671 / 768 0.6390041493775934\n",
            "672 / 768 0.6390041493775934\n",
            "673 / 768 0.6390041493775934\n",
            "674 / 768 0.6390041493775934\n",
            "675 / 768 0.6390041493775934\n",
            "676 / 768 0.6390041493775934\n",
            "677 / 768 0.6390041493775934\n",
            "678 / 768 0.6390041493775934\n",
            "679 / 768 0.6390041493775934\n",
            "680 / 768 0.6390041493775934\n",
            "681 / 768 0.6390041493775934\n",
            "682 / 768 0.6390041493775934\n",
            "683 / 768 0.6390041493775934\n",
            "684 / 768 0.6390041493775934\n",
            "685 / 768 0.6390041493775934\n",
            "686 / 768 0.6390041493775934\n",
            "687 / 768 0.6390041493775934\n",
            "688 / 768 0.6390041493775934\n",
            "689 / 768 0.6390041493775934\n",
            "690 / 768 0.6390041493775934\n",
            "691 / 768 0.6390041493775934\n",
            "692 / 768 0.6390041493775934\n",
            "693 / 768 0.6390041493775934\n",
            "694 / 768 0.6390041493775934\n",
            "695 / 768 0.6390041493775934\n",
            "696 / 768 0.6390041493775934\n",
            "697 / 768 0.6390041493775934\n",
            "698 / 768 0.6390041493775934\n",
            "699 / 768 0.6390041493775934\n",
            "700 / 768 0.6390041493775934\n",
            "701 / 768 0.6390041493775934\n",
            "702 / 768 0.6390041493775934\n",
            "703 / 768 0.6390041493775934\n",
            "704 / 768 0.6390041493775934\n",
            "705 / 768 0.6390041493775934\n",
            "706 / 768 0.6390041493775934\n",
            "707 / 768 0.6390041493775934\n",
            "708 / 768 0.6390041493775934\n",
            "709 / 768 0.6390041493775934\n",
            "710 / 768 0.6390041493775934\n",
            "711 / 768 0.6390041493775934\n",
            "712 / 768 0.6390041493775934\n",
            "713 / 768 0.6390041493775934\n",
            "714 / 768 0.6390041493775934\n",
            "715 / 768 0.6390041493775934\n",
            "716 / 768 0.6390041493775934\n",
            "717 / 768 0.6390041493775934\n",
            "718 / 768 0.6390041493775934\n",
            "719 / 768 0.6390041493775934\n",
            "720 / 768 0.6390041493775934\n",
            "721 / 768 0.6390041493775934\n",
            "722 / 768 0.6390041493775934\n",
            "723 / 768 0.6390041493775934\n",
            "724 / 768 0.6390041493775934\n",
            "725 / 768 0.6390041493775934\n",
            "726 / 768 0.6390041493775934\n",
            "727 / 768 0.6390041493775934\n",
            "728 / 768 0.6390041493775934\n",
            "729 / 768 0.6390041493775934\n",
            "730 / 768 0.6390041493775934\n",
            "731 / 768 0.6390041493775934\n",
            "732 / 768 0.6390041493775934\n",
            "733 / 768 0.6390041493775934\n",
            "734 / 768 0.6390041493775934\n",
            "735 / 768 0.6390041493775934\n",
            "736 / 768 0.6390041493775934\n",
            "737 / 768 0.6390041493775934\n",
            "738 / 768 0.6390041493775934\n",
            "739 / 768 0.6390041493775934\n",
            "740 / 768 0.6390041493775934\n",
            "741 / 768 0.6390041493775934\n",
            "742 / 768 0.6390041493775934\n",
            "743 / 768 0.6390041493775934\n",
            "744 / 768 0.6390041493775934\n",
            "745 / 768 0.6390041493775934\n",
            "746 / 768 0.6390041493775934\n",
            "747 / 768 0.6390041493775934\n",
            "748 / 768 0.6390041493775934\n",
            "749 / 768 0.6390041493775934\n",
            "750 / 768 0.6390041493775934\n",
            "751 / 768 0.6390041493775934\n",
            "752 / 768 0.6390041493775934\n",
            "753 / 768 0.6390041493775934\n",
            "754 / 768 0.6390041493775934\n",
            "755 / 768 0.6390041493775934\n",
            "756 / 768 0.6390041493775934\n",
            "757 / 768 0.6390041493775934\n",
            "758 / 768 0.6390041493775934\n",
            "759 / 768 0.6390041493775934\n",
            "760 / 768 0.6390041493775934\n",
            "761 / 768 0.6390041493775934\n",
            "762 / 768 0.6390041493775934\n",
            "763 / 768 0.6390041493775934\n",
            "764 / 768 0.6390041493775934\n",
            "765 / 768 0.6390041493775934\n",
            "766 / 768 0.6390041493775934\n",
            "767 / 768 0.6390041493775934\n",
            "768 / 768 0.6390041493775934\n"
          ],
          "name": "stdout"
        }
      ]
    },
    {
      "cell_type": "code",
      "metadata": {
        "id": "ej3lyAQoSp-M",
        "outputId": "6defb948-e7d2-4671-ce4a-14dac6128e4e"
      },
      "source": [
        "# 최고값은 초기화하지 않음 (이전에 업데이트해뒀으므로)\n",
        "\n",
        "\n",
        "max_iter = 0\n",
        "for w in [1, 0.9, 0.7, 0.5]:\n",
        "    for k in range(34, 4, -5): \n",
        "        for model_func in grid_for_not_cs_model:\n",
        "            for parameter in grid_for_not_cs_model[model_func]:            \n",
        "                max_iter += 1\n",
        "\n",
        "# 일반 모델 파라미터 튜닝 수행\n",
        "num_iter = 1\n",
        "for w in [1, 0.9, 0.7, 0.5]:\n",
        "    # 데이터 꼬임을 방지하기 위해 데이터 복제\n",
        "    T_X = Train_X.copy() \n",
        "    t_X = Test_X.copy() \n",
        "    \n",
        "    NM_model = NearMiss(version = 2, sampling_strategy = {1:Train_Y.value_counts().iloc[-1],\n",
        "                                                          0:int(Train_Y.value_counts().iloc[-1] * w * class_imbalance_ratio)})  \n",
        "        \n",
        "    u_T_X, u_T_Y = NM_model.fit_sample(T_X, Train_Y)\n",
        "    u_T_X = pd.DataFrame(u_T_X, columns = T_X.columns)\n",
        "    \n",
        "    for k in range(34, 4, -5): \n",
        "        selector = SelectKBest(mutual_info_classif, k = k).fit(u_T_X, u_T_Y)\n",
        "        selected_columns = u_T_X.columns[selector.get_support()]\n",
        "        u_T_X = u_T_X[selected_columns]\n",
        "        t_X = t_X[selected_columns]\n",
        "        for model_func in grid_for_not_cs_model:\n",
        "            for parameter in grid_for_not_cs_model[model_func]:\n",
        "                model = model_func(**parameter).fit(u_T_X, u_T_Y)\n",
        "                score = model_test(model, t_X, Test_Y)\n",
        "                if score > best_score:\n",
        "                    best_model = model\n",
        "                    best_features = selected_columns\n",
        "                    best_score = score       \n",
        "                    \n",
        "                print(num_iter, \"/\", max_iter, best_score) \n",
        "                num_iter += 1"
      ],
      "execution_count": null,
      "outputs": [
        {
          "output_type": "stream",
          "text": [
            "1 / 768 0.6390041493775934\n",
            "2 / 768 0.6390041493775934\n",
            "3 / 768 0.6390041493775934\n",
            "4 / 768 0.6390041493775934\n",
            "5 / 768 0.6390041493775934\n",
            "6 / 768 0.6390041493775934\n",
            "7 / 768 0.6390041493775934\n",
            "8 / 768 0.6390041493775934\n",
            "9 / 768 0.6390041493775934\n",
            "10 / 768 0.6390041493775934\n",
            "11 / 768 0.6390041493775934\n",
            "12 / 768 0.6390041493775934\n",
            "13 / 768 0.6390041493775934\n",
            "14 / 768 0.6390041493775934\n",
            "15 / 768 0.6390041493775934\n",
            "16 / 768 0.6390041493775934\n",
            "17 / 768 0.6390041493775934\n",
            "18 / 768 0.6390041493775934\n",
            "19 / 768 0.6390041493775934\n",
            "20 / 768 0.6390041493775934\n",
            "21 / 768 0.6390041493775934\n",
            "22 / 768 0.6390041493775934\n",
            "23 / 768 0.6390041493775934\n",
            "24 / 768 0.6390041493775934\n",
            "25 / 768 0.6390041493775934\n",
            "26 / 768 0.6390041493775934\n",
            "27 / 768 0.6390041493775934\n",
            "28 / 768 0.6390041493775934\n",
            "29 / 768 0.6390041493775934\n",
            "30 / 768 0.6390041493775934\n",
            "31 / 768 0.6390041493775934\n",
            "32 / 768 0.6558375634517767\n",
            "33 / 768 0.6558375634517767\n",
            "34 / 768 0.6558375634517767\n",
            "35 / 768 0.6558375634517767\n",
            "36 / 768 0.6558375634517767\n",
            "37 / 768 0.6558375634517767\n",
            "38 / 768 0.6558375634517767\n",
            "39 / 768 0.6558375634517767\n",
            "40 / 768 0.6558375634517767\n",
            "41 / 768 0.6558375634517767\n",
            "42 / 768 0.6558375634517767\n",
            "43 / 768 0.6558375634517767\n",
            "44 / 768 0.6558375634517767\n",
            "45 / 768 0.6558375634517767\n",
            "46 / 768 0.6558375634517767\n",
            "47 / 768 0.6558375634517767\n",
            "48 / 768 0.6558375634517767\n",
            "49 / 768 0.6558375634517767\n",
            "50 / 768 0.6558375634517767\n",
            "51 / 768 0.6558375634517767\n",
            "52 / 768 0.6558375634517767\n",
            "53 / 768 0.6558375634517767\n",
            "54 / 768 0.6558375634517767\n",
            "55 / 768 0.6558375634517767\n",
            "56 / 768 0.6558375634517767\n",
            "57 / 768 0.6558375634517767\n",
            "58 / 768 0.6558375634517767\n",
            "59 / 768 0.6558375634517767\n",
            "60 / 768 0.6558375634517767\n",
            "61 / 768 0.6558375634517767\n",
            "62 / 768 0.6558375634517767\n",
            "63 / 768 0.6558375634517767\n",
            "64 / 768 0.6558375634517767\n",
            "65 / 768 0.6558375634517767\n",
            "66 / 768 0.6558375634517767\n",
            "67 / 768 0.6558375634517767\n",
            "68 / 768 0.6558375634517767\n",
            "69 / 768 0.6558375634517767\n",
            "70 / 768 0.6558375634517767\n",
            "71 / 768 0.6558375634517767\n",
            "72 / 768 0.6558375634517767\n",
            "73 / 768 0.6558375634517767\n",
            "74 / 768 0.6558375634517767\n",
            "75 / 768 0.6558375634517767\n",
            "76 / 768 0.6558375634517767\n",
            "77 / 768 0.6558375634517767\n",
            "78 / 768 0.6558375634517767\n",
            "79 / 768 0.6558375634517767\n",
            "80 / 768 0.6558375634517767\n",
            "81 / 768 0.6558375634517767\n",
            "82 / 768 0.6558375634517767\n",
            "83 / 768 0.6558375634517767\n",
            "84 / 768 0.6558375634517767\n",
            "85 / 768 0.6558375634517767\n",
            "86 / 768 0.6558375634517767\n",
            "87 / 768 0.6558375634517767\n",
            "88 / 768 0.6558375634517767\n",
            "89 / 768 0.6558375634517767\n",
            "90 / 768 0.6558375634517767\n",
            "91 / 768 0.6558375634517767\n",
            "92 / 768 0.6558375634517767\n",
            "93 / 768 0.6558375634517767\n",
            "94 / 768 0.6558375634517767\n",
            "95 / 768 0.6558375634517767\n",
            "96 / 768 0.6558375634517767\n",
            "97 / 768 0.6558375634517767\n",
            "98 / 768 0.6558375634517767\n",
            "99 / 768 0.6558375634517767\n",
            "100 / 768 0.6558375634517767\n",
            "101 / 768 0.6558375634517767\n",
            "102 / 768 0.6558375634517767\n",
            "103 / 768 0.6558375634517767\n",
            "104 / 768 0.6558375634517767\n",
            "105 / 768 0.6558375634517767\n",
            "106 / 768 0.6558375634517767\n",
            "107 / 768 0.6558375634517767\n",
            "108 / 768 0.6558375634517767\n",
            "109 / 768 0.6558375634517767\n",
            "110 / 768 0.6558375634517767\n",
            "111 / 768 0.6558375634517767\n",
            "112 / 768 0.6558375634517767\n",
            "113 / 768 0.6558375634517767\n",
            "114 / 768 0.6558375634517767\n",
            "115 / 768 0.6558375634517767\n",
            "116 / 768 0.6558375634517767\n",
            "117 / 768 0.6558375634517767\n",
            "118 / 768 0.6558375634517767\n",
            "119 / 768 0.6558375634517767\n",
            "120 / 768 0.6558375634517767\n",
            "121 / 768 0.6558375634517767\n",
            "122 / 768 0.6558375634517767\n",
            "123 / 768 0.6558375634517767\n",
            "124 / 768 0.6558375634517767\n",
            "125 / 768 0.6558375634517767\n",
            "126 / 768 0.6558375634517767\n",
            "127 / 768 0.6558375634517767\n",
            "128 / 768 0.6558375634517767\n",
            "129 / 768 0.6558375634517767\n",
            "130 / 768 0.6558375634517767\n",
            "131 / 768 0.6558375634517767\n",
            "132 / 768 0.6558375634517767\n",
            "133 / 768 0.6558375634517767\n",
            "134 / 768 0.6558375634517767\n",
            "135 / 768 0.6558375634517767\n",
            "136 / 768 0.6558375634517767\n",
            "137 / 768 0.6558375634517767\n",
            "138 / 768 0.6558375634517767\n",
            "139 / 768 0.6558375634517767\n",
            "140 / 768 0.6558375634517767\n",
            "141 / 768 0.6558375634517767\n",
            "142 / 768 0.6558375634517767\n",
            "143 / 768 0.6558375634517767\n",
            "144 / 768 0.6558375634517767\n",
            "145 / 768 0.6558375634517767\n",
            "146 / 768 0.6558375634517767\n",
            "147 / 768 0.6558375634517767\n",
            "148 / 768 0.6558375634517767\n",
            "149 / 768 0.6558375634517767\n",
            "150 / 768 0.6558375634517767\n",
            "151 / 768 0.6558375634517767\n",
            "152 / 768 0.6558375634517767\n",
            "153 / 768 0.6558375634517767\n",
            "154 / 768 0.6558375634517767\n",
            "155 / 768 0.6558375634517767\n",
            "156 / 768 0.6558375634517767\n",
            "157 / 768 0.6558375634517767\n",
            "158 / 768 0.6558375634517767\n",
            "159 / 768 0.6558375634517767\n",
            "160 / 768 0.6558375634517767\n",
            "161 / 768 0.6558375634517767\n",
            "162 / 768 0.6558375634517767\n",
            "163 / 768 0.6558375634517767\n",
            "164 / 768 0.6558375634517767\n",
            "165 / 768 0.6558375634517767\n",
            "166 / 768 0.6558375634517767\n",
            "167 / 768 0.6558375634517767\n",
            "168 / 768 0.6558375634517767\n",
            "169 / 768 0.6558375634517767\n",
            "170 / 768 0.6558375634517767\n",
            "171 / 768 0.6558375634517767\n",
            "172 / 768 0.6558375634517767\n",
            "173 / 768 0.6558375634517767\n",
            "174 / 768 0.6558375634517767\n",
            "175 / 768 0.6558375634517767\n",
            "176 / 768 0.6558375634517767\n",
            "177 / 768 0.6558375634517767\n",
            "178 / 768 0.6558375634517767\n",
            "179 / 768 0.6558375634517767\n",
            "180 / 768 0.6558375634517767\n",
            "181 / 768 0.6558375634517767\n",
            "182 / 768 0.6558375634517767\n",
            "183 / 768 0.6558375634517767\n",
            "184 / 768 0.6558375634517767\n",
            "185 / 768 0.6558375634517767\n",
            "186 / 768 0.6558375634517767\n",
            "187 / 768 0.6558375634517767\n",
            "188 / 768 0.6558375634517767\n",
            "189 / 768 0.6558375634517767\n",
            "190 / 768 0.6558375634517767\n",
            "191 / 768 0.6558375634517767\n",
            "192 / 768 0.6558375634517767\n",
            "193 / 768 0.6558375634517767\n",
            "194 / 768 0.6558375634517767\n",
            "195 / 768 0.6558375634517767\n",
            "196 / 768 0.6558375634517767\n",
            "197 / 768 0.6558375634517767\n",
            "198 / 768 0.6558375634517767\n",
            "199 / 768 0.6558375634517767\n",
            "200 / 768 0.6558375634517767\n",
            "201 / 768 0.6558375634517767\n",
            "202 / 768 0.6558375634517767\n",
            "203 / 768 0.6558375634517767\n",
            "204 / 768 0.6558375634517767\n",
            "205 / 768 0.6558375634517767\n",
            "206 / 768 0.6558375634517767\n",
            "207 / 768 0.6558375634517767\n",
            "208 / 768 0.6558375634517767\n",
            "209 / 768 0.6558375634517767\n",
            "210 / 768 0.6558375634517767\n",
            "211 / 768 0.6558375634517767\n",
            "212 / 768 0.6558375634517767\n",
            "213 / 768 0.6558375634517767\n",
            "214 / 768 0.6558375634517767\n",
            "215 / 768 0.6558375634517767\n",
            "216 / 768 0.6558375634517767\n",
            "217 / 768 0.6558375634517767\n",
            "218 / 768 0.6558375634517767\n",
            "219 / 768 0.6558375634517767\n",
            "220 / 768 0.6558375634517767\n",
            "221 / 768 0.6558375634517767\n",
            "222 / 768 0.6558375634517767\n",
            "223 / 768 0.6558375634517767\n",
            "224 / 768 0.6558375634517767\n",
            "225 / 768 0.6558375634517767\n",
            "226 / 768 0.6558375634517767\n",
            "227 / 768 0.6558375634517767\n",
            "228 / 768 0.6558375634517767\n",
            "229 / 768 0.6558375634517767\n",
            "230 / 768 0.6558375634517767\n",
            "231 / 768 0.6558375634517767\n",
            "232 / 768 0.6558375634517767\n",
            "233 / 768 0.6558375634517767\n",
            "234 / 768 0.6558375634517767\n",
            "235 / 768 0.6558375634517767\n",
            "236 / 768 0.6558375634517767\n",
            "237 / 768 0.6558375634517767\n",
            "238 / 768 0.6558375634517767\n",
            "239 / 768 0.6558375634517767\n",
            "240 / 768 0.6558375634517767\n",
            "241 / 768 0.6558375634517767\n",
            "242 / 768 0.6558375634517767\n",
            "243 / 768 0.6558375634517767\n",
            "244 / 768 0.6558375634517767\n",
            "245 / 768 0.6558375634517767\n",
            "246 / 768 0.6558375634517767\n",
            "247 / 768 0.6558375634517767\n",
            "248 / 768 0.6558375634517767\n",
            "249 / 768 0.6558375634517767\n",
            "250 / 768 0.6558375634517767\n",
            "251 / 768 0.6558375634517767\n",
            "252 / 768 0.6558375634517767\n",
            "253 / 768 0.6558375634517767\n",
            "254 / 768 0.6558375634517767\n",
            "255 / 768 0.6558375634517767\n",
            "256 / 768 0.6558375634517767\n",
            "257 / 768 0.6558375634517767\n",
            "258 / 768 0.6558375634517767\n",
            "259 / 768 0.6558375634517767\n",
            "260 / 768 0.6558375634517767\n",
            "261 / 768 0.6558375634517767\n",
            "262 / 768 0.6558375634517767\n",
            "263 / 768 0.6558375634517767\n",
            "264 / 768 0.6558375634517767\n",
            "265 / 768 0.6558375634517767\n",
            "266 / 768 0.6558375634517767\n",
            "267 / 768 0.6558375634517767\n",
            "268 / 768 0.6558375634517767\n",
            "269 / 768 0.6558375634517767\n",
            "270 / 768 0.6558375634517767\n",
            "271 / 768 0.6558375634517767\n",
            "272 / 768 0.6558375634517767\n",
            "273 / 768 0.6558375634517767\n",
            "274 / 768 0.6558375634517767\n",
            "275 / 768 0.6558375634517767\n",
            "276 / 768 0.6558375634517767\n",
            "277 / 768 0.6558375634517767\n",
            "278 / 768 0.6558375634517767\n",
            "279 / 768 0.6558375634517767\n",
            "280 / 768 0.6558375634517767\n",
            "281 / 768 0.6558375634517767\n",
            "282 / 768 0.6558375634517767\n",
            "283 / 768 0.6558375634517767\n",
            "284 / 768 0.6558375634517767\n",
            "285 / 768 0.6558375634517767\n",
            "286 / 768 0.6558375634517767\n",
            "287 / 768 0.6558375634517767\n",
            "288 / 768 0.6558375634517767\n",
            "289 / 768 0.6558375634517767\n",
            "290 / 768 0.6558375634517767\n",
            "291 / 768 0.6558375634517767\n",
            "292 / 768 0.6558375634517767\n",
            "293 / 768 0.6558375634517767\n",
            "294 / 768 0.6558375634517767\n",
            "295 / 768 0.6558375634517767\n",
            "296 / 768 0.6558375634517767\n",
            "297 / 768 0.6558375634517767\n",
            "298 / 768 0.6558375634517767\n",
            "299 / 768 0.6558375634517767\n",
            "300 / 768 0.6558375634517767\n",
            "301 / 768 0.6558375634517767\n",
            "302 / 768 0.6558375634517767\n",
            "303 / 768 0.6558375634517767\n",
            "304 / 768 0.6558375634517767\n",
            "305 / 768 0.6558375634517767\n",
            "306 / 768 0.6558375634517767\n",
            "307 / 768 0.6558375634517767\n",
            "308 / 768 0.6558375634517767\n",
            "309 / 768 0.6558375634517767\n",
            "310 / 768 0.6558375634517767\n",
            "311 / 768 0.6558375634517767\n",
            "312 / 768 0.6558375634517767\n",
            "313 / 768 0.6558375634517767\n",
            "314 / 768 0.6558375634517767\n",
            "315 / 768 0.6558375634517767\n",
            "316 / 768 0.6558375634517767\n",
            "317 / 768 0.6558375634517767\n",
            "318 / 768 0.6558375634517767\n",
            "319 / 768 0.6558375634517767\n",
            "320 / 768 0.6558375634517767\n",
            "321 / 768 0.6558375634517767\n",
            "322 / 768 0.6558375634517767\n",
            "323 / 768 0.6558375634517767\n",
            "324 / 768 0.6558375634517767\n",
            "325 / 768 0.6558375634517767\n",
            "326 / 768 0.6558375634517767\n",
            "327 / 768 0.6558375634517767\n",
            "328 / 768 0.6558375634517767\n",
            "329 / 768 0.6558375634517767\n",
            "330 / 768 0.6558375634517767\n",
            "331 / 768 0.6558375634517767\n",
            "332 / 768 0.6558375634517767\n",
            "333 / 768 0.6558375634517767\n",
            "334 / 768 0.6558375634517767\n",
            "335 / 768 0.6558375634517767\n",
            "336 / 768 0.6558375634517767\n",
            "337 / 768 0.6558375634517767\n",
            "338 / 768 0.6558375634517767\n",
            "339 / 768 0.6558375634517767\n",
            "340 / 768 0.6558375634517767\n",
            "341 / 768 0.6558375634517767\n",
            "342 / 768 0.6558375634517767\n",
            "343 / 768 0.6558375634517767\n",
            "344 / 768 0.6558375634517767\n",
            "345 / 768 0.6558375634517767\n",
            "346 / 768 0.6558375634517767\n",
            "347 / 768 0.6558375634517767\n",
            "348 / 768 0.6558375634517767\n",
            "349 / 768 0.6558375634517767\n",
            "350 / 768 0.6558375634517767\n",
            "351 / 768 0.6558375634517767\n",
            "352 / 768 0.6558375634517767\n",
            "353 / 768 0.6558375634517767\n",
            "354 / 768 0.6558375634517767\n",
            "355 / 768 0.6558375634517767\n",
            "356 / 768 0.6558375634517767\n",
            "357 / 768 0.6558375634517767\n",
            "358 / 768 0.6558375634517767\n",
            "359 / 768 0.6558375634517767\n",
            "360 / 768 0.6558375634517767\n",
            "361 / 768 0.6558375634517767\n",
            "362 / 768 0.6558375634517767\n",
            "363 / 768 0.6558375634517767\n",
            "364 / 768 0.6558375634517767\n",
            "365 / 768 0.6558375634517767\n",
            "366 / 768 0.6558375634517767\n",
            "367 / 768 0.6558375634517767\n",
            "368 / 768 0.6558375634517767\n",
            "369 / 768 0.6558375634517767\n",
            "370 / 768 0.6558375634517767\n",
            "371 / 768 0.6558375634517767\n",
            "372 / 768 0.6558375634517767\n",
            "373 / 768 0.6558375634517767\n",
            "374 / 768 0.6558375634517767\n",
            "375 / 768 0.6558375634517767\n",
            "376 / 768 0.6558375634517767\n",
            "377 / 768 0.6558375634517767\n",
            "378 / 768 0.6558375634517767\n",
            "379 / 768 0.6558375634517767\n",
            "380 / 768 0.6558375634517767\n",
            "381 / 768 0.6558375634517767\n",
            "382 / 768 0.6558375634517767\n",
            "383 / 768 0.6558375634517767\n",
            "384 / 768 0.6558375634517767\n",
            "385 / 768 0.6558375634517767\n",
            "386 / 768 0.6558375634517767\n",
            "387 / 768 0.6558375634517767\n",
            "388 / 768 0.6558375634517767\n",
            "389 / 768 0.6558375634517767\n",
            "390 / 768 0.6558375634517767\n",
            "391 / 768 0.6558375634517767\n",
            "392 / 768 0.6558375634517767\n",
            "393 / 768 0.6558375634517767\n",
            "394 / 768 0.6558375634517767\n",
            "395 / 768 0.6558375634517767\n",
            "396 / 768 0.6558375634517767\n",
            "397 / 768 0.6558375634517767\n",
            "398 / 768 0.6558375634517767\n",
            "399 / 768 0.6558375634517767\n",
            "400 / 768 0.6558375634517767\n",
            "401 / 768 0.6558375634517767\n",
            "402 / 768 0.6558375634517767\n",
            "403 / 768 0.6558375634517767\n",
            "404 / 768 0.6558375634517767\n",
            "405 / 768 0.6558375634517767\n",
            "406 / 768 0.6558375634517767\n",
            "407 / 768 0.6558375634517767\n",
            "408 / 768 0.6558375634517767\n",
            "409 / 768 0.6558375634517767\n",
            "410 / 768 0.6558375634517767\n",
            "411 / 768 0.6558375634517767\n",
            "412 / 768 0.6558375634517767\n",
            "413 / 768 0.6558375634517767\n",
            "414 / 768 0.6558375634517767\n",
            "415 / 768 0.6558375634517767\n",
            "416 / 768 0.6558375634517767\n",
            "417 / 768 0.6558375634517767\n",
            "418 / 768 0.6558375634517767\n",
            "419 / 768 0.6558375634517767\n",
            "420 / 768 0.6558375634517767\n",
            "421 / 768 0.6558375634517767\n",
            "422 / 768 0.6558375634517767\n",
            "423 / 768 0.6558375634517767\n",
            "424 / 768 0.6558375634517767\n",
            "425 / 768 0.6558375634517767\n",
            "426 / 768 0.6558375634517767\n",
            "427 / 768 0.6558375634517767\n",
            "428 / 768 0.6558375634517767\n",
            "429 / 768 0.6558375634517767\n",
            "430 / 768 0.6558375634517767\n",
            "431 / 768 0.6558375634517767\n",
            "432 / 768 0.6558375634517767\n",
            "433 / 768 0.6558375634517767\n",
            "434 / 768 0.6558375634517767\n",
            "435 / 768 0.6558375634517767\n",
            "436 / 768 0.6558375634517767\n",
            "437 / 768 0.6558375634517767\n",
            "438 / 768 0.6558375634517767\n",
            "439 / 768 0.6558375634517767\n",
            "440 / 768 0.6558375634517767\n",
            "441 / 768 0.6558375634517767\n",
            "442 / 768 0.6558375634517767\n",
            "443 / 768 0.6558375634517767\n",
            "444 / 768 0.6558375634517767\n",
            "445 / 768 0.6558375634517767\n",
            "446 / 768 0.6558375634517767\n",
            "447 / 768 0.6558375634517767\n",
            "448 / 768 0.6558375634517767\n",
            "449 / 768 0.6558375634517767\n",
            "450 / 768 0.6558375634517767\n",
            "451 / 768 0.6558375634517767\n",
            "452 / 768 0.6558375634517767\n",
            "453 / 768 0.6558375634517767\n",
            "454 / 768 0.6558375634517767\n",
            "455 / 768 0.6558375634517767\n",
            "456 / 768 0.6558375634517767\n",
            "457 / 768 0.6558375634517767\n",
            "458 / 768 0.6558375634517767\n",
            "459 / 768 0.6558375634517767\n",
            "460 / 768 0.6558375634517767\n",
            "461 / 768 0.6558375634517767\n",
            "462 / 768 0.6558375634517767\n",
            "463 / 768 0.6558375634517767\n",
            "464 / 768 0.6558375634517767\n",
            "465 / 768 0.6558375634517767\n",
            "466 / 768 0.6558375634517767\n",
            "467 / 768 0.6558375634517767\n",
            "468 / 768 0.6558375634517767\n",
            "469 / 768 0.6558375634517767\n",
            "470 / 768 0.6558375634517767\n",
            "471 / 768 0.6558375634517767\n",
            "472 / 768 0.6558375634517767\n",
            "473 / 768 0.6558375634517767\n",
            "474 / 768 0.6558375634517767\n",
            "475 / 768 0.6558375634517767\n",
            "476 / 768 0.6558375634517767\n",
            "477 / 768 0.6558375634517767\n",
            "478 / 768 0.6558375634517767\n",
            "479 / 768 0.6558375634517767\n",
            "480 / 768 0.6558375634517767\n",
            "481 / 768 0.6558375634517767\n",
            "482 / 768 0.6558375634517767\n",
            "483 / 768 0.6558375634517767\n",
            "484 / 768 0.6558375634517767\n",
            "485 / 768 0.6558375634517767\n",
            "486 / 768 0.6558375634517767\n",
            "487 / 768 0.6558375634517767\n",
            "488 / 768 0.6558375634517767\n",
            "489 / 768 0.6558375634517767\n",
            "490 / 768 0.6558375634517767\n",
            "491 / 768 0.6558375634517767\n",
            "492 / 768 0.6558375634517767\n",
            "493 / 768 0.6558375634517767\n",
            "494 / 768 0.6558375634517767\n",
            "495 / 768 0.6558375634517767\n",
            "496 / 768 0.6558375634517767\n",
            "497 / 768 0.6558375634517767\n",
            "498 / 768 0.6558375634517767\n",
            "499 / 768 0.6558375634517767\n",
            "500 / 768 0.6558375634517767\n",
            "501 / 768 0.6558375634517767\n",
            "502 / 768 0.6558375634517767\n",
            "503 / 768 0.6558375634517767\n",
            "504 / 768 0.6558375634517767\n",
            "505 / 768 0.6558375634517767\n",
            "506 / 768 0.6558375634517767\n",
            "507 / 768 0.6558375634517767\n",
            "508 / 768 0.6558375634517767\n",
            "509 / 768 0.6558375634517767\n",
            "510 / 768 0.6558375634517767\n",
            "511 / 768 0.6558375634517767\n",
            "512 / 768 0.6558375634517767\n",
            "513 / 768 0.6558375634517767\n",
            "514 / 768 0.6558375634517767\n",
            "515 / 768 0.6558375634517767\n",
            "516 / 768 0.6558375634517767\n",
            "517 / 768 0.6558375634517767\n",
            "518 / 768 0.6558375634517767\n",
            "519 / 768 0.6558375634517767\n",
            "520 / 768 0.6558375634517767\n",
            "521 / 768 0.6558375634517767\n",
            "522 / 768 0.6558375634517767\n",
            "523 / 768 0.6558375634517767\n",
            "524 / 768 0.6558375634517767\n",
            "525 / 768 0.6558375634517767\n",
            "526 / 768 0.6558375634517767\n",
            "527 / 768 0.6558375634517767\n",
            "528 / 768 0.6558375634517767\n",
            "529 / 768 0.6558375634517767\n",
            "530 / 768 0.6558375634517767\n",
            "531 / 768 0.6558375634517767\n",
            "532 / 768 0.6558375634517767\n",
            "533 / 768 0.6558375634517767\n",
            "534 / 768 0.6558375634517767\n",
            "535 / 768 0.6558375634517767\n",
            "536 / 768 0.6558375634517767\n",
            "537 / 768 0.6558375634517767\n",
            "538 / 768 0.6558375634517767\n",
            "539 / 768 0.6558375634517767\n",
            "540 / 768 0.6558375634517767\n",
            "541 / 768 0.6558375634517767\n",
            "542 / 768 0.6558375634517767\n",
            "543 / 768 0.6558375634517767\n",
            "544 / 768 0.6558375634517767\n",
            "545 / 768 0.6558375634517767\n",
            "546 / 768 0.6558375634517767\n",
            "547 / 768 0.6558375634517767\n",
            "548 / 768 0.6558375634517767\n",
            "549 / 768 0.6558375634517767\n",
            "550 / 768 0.6558375634517767\n",
            "551 / 768 0.6558375634517767\n",
            "552 / 768 0.6558375634517767\n",
            "553 / 768 0.6558375634517767\n",
            "554 / 768 0.6558375634517767\n",
            "555 / 768 0.6558375634517767\n",
            "556 / 768 0.6558375634517767\n",
            "557 / 768 0.6558375634517767\n",
            "558 / 768 0.6558375634517767\n",
            "559 / 768 0.6558375634517767\n",
            "560 / 768 0.6558375634517767\n",
            "561 / 768 0.6558375634517767\n",
            "562 / 768 0.6558375634517767\n",
            "563 / 768 0.6558375634517767\n",
            "564 / 768 0.6558375634517767\n",
            "565 / 768 0.6558375634517767\n",
            "566 / 768 0.6558375634517767\n",
            "567 / 768 0.6558375634517767\n",
            "568 / 768 0.6558375634517767\n",
            "569 / 768 0.6558375634517767\n",
            "570 / 768 0.6558375634517767\n",
            "571 / 768 0.6558375634517767\n",
            "572 / 768 0.6558375634517767\n",
            "573 / 768 0.6558375634517767\n",
            "574 / 768 0.6558375634517767\n",
            "575 / 768 0.6558375634517767\n",
            "576 / 768 0.6558375634517767\n",
            "577 / 768 0.6558375634517767\n",
            "578 / 768 0.6558375634517767\n",
            "579 / 768 0.6558375634517767\n",
            "580 / 768 0.6558375634517767\n",
            "581 / 768 0.6558375634517767\n",
            "582 / 768 0.6558375634517767\n",
            "583 / 768 0.6558375634517767\n",
            "584 / 768 0.6558375634517767\n",
            "585 / 768 0.6558375634517767\n",
            "586 / 768 0.6558375634517767\n",
            "587 / 768 0.6558375634517767\n",
            "588 / 768 0.6558375634517767\n",
            "589 / 768 0.6558375634517767\n",
            "590 / 768 0.6558375634517767\n",
            "591 / 768 0.6558375634517767\n",
            "592 / 768 0.6558375634517767\n",
            "593 / 768 0.6558375634517767\n",
            "594 / 768 0.6558375634517767\n",
            "595 / 768 0.6558375634517767\n",
            "596 / 768 0.6558375634517767\n",
            "597 / 768 0.6558375634517767\n",
            "598 / 768 0.6558375634517767\n",
            "599 / 768 0.6558375634517767\n",
            "600 / 768 0.6558375634517767\n",
            "601 / 768 0.6558375634517767\n",
            "602 / 768 0.6558375634517767\n",
            "603 / 768 0.6558375634517767\n",
            "604 / 768 0.6558375634517767\n",
            "605 / 768 0.6558375634517767\n",
            "606 / 768 0.6558375634517767\n",
            "607 / 768 0.6558375634517767\n",
            "608 / 768 0.6558375634517767\n",
            "609 / 768 0.6558375634517767\n",
            "610 / 768 0.6558375634517767\n",
            "611 / 768 0.6558375634517767\n",
            "612 / 768 0.6558375634517767\n",
            "613 / 768 0.6558375634517767\n",
            "614 / 768 0.6558375634517767\n",
            "615 / 768 0.6558375634517767\n",
            "616 / 768 0.6558375634517767\n",
            "617 / 768 0.6558375634517767\n",
            "618 / 768 0.6558375634517767\n",
            "619 / 768 0.6558375634517767\n",
            "620 / 768 0.6558375634517767\n",
            "621 / 768 0.6558375634517767\n",
            "622 / 768 0.6558375634517767\n",
            "623 / 768 0.6558375634517767\n",
            "624 / 768 0.6558375634517767\n",
            "625 / 768 0.6558375634517767\n",
            "626 / 768 0.6558375634517767\n",
            "627 / 768 0.6558375634517767\n",
            "628 / 768 0.6558375634517767\n",
            "629 / 768 0.6558375634517767\n",
            "630 / 768 0.6558375634517767\n",
            "631 / 768 0.6558375634517767\n",
            "632 / 768 0.6558375634517767\n",
            "633 / 768 0.6558375634517767\n",
            "634 / 768 0.6558375634517767\n",
            "635 / 768 0.6558375634517767\n",
            "636 / 768 0.6558375634517767\n",
            "637 / 768 0.6558375634517767\n",
            "638 / 768 0.6558375634517767\n",
            "639 / 768 0.6558375634517767\n",
            "640 / 768 0.6558375634517767\n",
            "641 / 768 0.6558375634517767\n",
            "642 / 768 0.6558375634517767\n",
            "643 / 768 0.6558375634517767\n",
            "644 / 768 0.6558375634517767\n",
            "645 / 768 0.6558375634517767\n",
            "646 / 768 0.6558375634517767\n",
            "647 / 768 0.6558375634517767\n",
            "648 / 768 0.6558375634517767\n",
            "649 / 768 0.6558375634517767\n",
            "650 / 768 0.6558375634517767\n",
            "651 / 768 0.6558375634517767\n",
            "652 / 768 0.6558375634517767\n",
            "653 / 768 0.6558375634517767\n",
            "654 / 768 0.6558375634517767\n",
            "655 / 768 0.6558375634517767\n",
            "656 / 768 0.6558375634517767\n",
            "657 / 768 0.6558375634517767\n",
            "658 / 768 0.6558375634517767\n",
            "659 / 768 0.6558375634517767\n",
            "660 / 768 0.6558375634517767\n",
            "661 / 768 0.6558375634517767\n",
            "662 / 768 0.6558375634517767\n",
            "663 / 768 0.6558375634517767\n",
            "664 / 768 0.6558375634517767\n",
            "665 / 768 0.6558375634517767\n",
            "666 / 768 0.6558375634517767\n",
            "667 / 768 0.6558375634517767\n",
            "668 / 768 0.6558375634517767\n",
            "669 / 768 0.6558375634517767\n",
            "670 / 768 0.6558375634517767\n",
            "671 / 768 0.6558375634517767\n",
            "672 / 768 0.6558375634517767\n",
            "673 / 768 0.6558375634517767\n",
            "674 / 768 0.6558375634517767\n",
            "675 / 768 0.6558375634517767\n",
            "676 / 768 0.6558375634517767\n",
            "677 / 768 0.6558375634517767\n",
            "678 / 768 0.6558375634517767\n",
            "679 / 768 0.6558375634517767\n",
            "680 / 768 0.6558375634517767\n",
            "681 / 768 0.6558375634517767\n",
            "682 / 768 0.6558375634517767\n",
            "683 / 768 0.6558375634517767\n",
            "684 / 768 0.6558375634517767\n",
            "685 / 768 0.6558375634517767\n",
            "686 / 768 0.6558375634517767\n",
            "687 / 768 0.6558375634517767\n",
            "688 / 768 0.6558375634517767\n",
            "689 / 768 0.6558375634517767\n",
            "690 / 768 0.6558375634517767\n",
            "691 / 768 0.6558375634517767\n",
            "692 / 768 0.6558375634517767\n",
            "693 / 768 0.6558375634517767\n",
            "694 / 768 0.6558375634517767\n",
            "695 / 768 0.6558375634517767\n",
            "696 / 768 0.6558375634517767\n",
            "697 / 768 0.6558375634517767\n",
            "698 / 768 0.6558375634517767\n",
            "699 / 768 0.6558375634517767\n",
            "700 / 768 0.6558375634517767\n",
            "701 / 768 0.6558375634517767\n",
            "702 / 768 0.6558375634517767\n",
            "703 / 768 0.6558375634517767\n",
            "704 / 768 0.6558375634517767\n",
            "705 / 768 0.6558375634517767\n",
            "706 / 768 0.6558375634517767\n",
            "707 / 768 0.6558375634517767\n",
            "708 / 768 0.6558375634517767\n",
            "709 / 768 0.6558375634517767\n",
            "710 / 768 0.6558375634517767\n",
            "711 / 768 0.6558375634517767\n",
            "712 / 768 0.6558375634517767\n",
            "713 / 768 0.6558375634517767\n",
            "714 / 768 0.6558375634517767\n",
            "715 / 768 0.6558375634517767\n",
            "716 / 768 0.6558375634517767\n",
            "717 / 768 0.6558375634517767\n",
            "718 / 768 0.6558375634517767\n",
            "719 / 768 0.6558375634517767\n",
            "720 / 768 0.6558375634517767\n",
            "721 / 768 0.6558375634517767\n",
            "722 / 768 0.6558375634517767\n",
            "723 / 768 0.6558375634517767\n",
            "724 / 768 0.6558375634517767\n",
            "725 / 768 0.6558375634517767\n",
            "726 / 768 0.6558375634517767\n",
            "727 / 768 0.6558375634517767\n",
            "728 / 768 0.6558375634517767\n",
            "729 / 768 0.6558375634517767\n",
            "730 / 768 0.6558375634517767\n",
            "731 / 768 0.6558375634517767\n",
            "732 / 768 0.6558375634517767\n",
            "733 / 768 0.6558375634517767\n",
            "734 / 768 0.6558375634517767\n",
            "735 / 768 0.6558375634517767\n",
            "736 / 768 0.6558375634517767\n",
            "737 / 768 0.6558375634517767\n",
            "738 / 768 0.6558375634517767\n",
            "739 / 768 0.6558375634517767\n",
            "740 / 768 0.6558375634517767\n",
            "741 / 768 0.6558375634517767\n",
            "742 / 768 0.6558375634517767\n",
            "743 / 768 0.6558375634517767\n",
            "744 / 768 0.6558375634517767\n",
            "745 / 768 0.6558375634517767\n",
            "746 / 768 0.6558375634517767\n",
            "747 / 768 0.6558375634517767\n",
            "748 / 768 0.6558375634517767\n",
            "749 / 768 0.6558375634517767\n",
            "750 / 768 0.6558375634517767\n",
            "751 / 768 0.6558375634517767\n",
            "752 / 768 0.6558375634517767\n",
            "753 / 768 0.6558375634517767\n",
            "754 / 768 0.6558375634517767\n",
            "755 / 768 0.6558375634517767\n",
            "756 / 768 0.6558375634517767\n",
            "757 / 768 0.6558375634517767\n",
            "758 / 768 0.6558375634517767\n",
            "759 / 768 0.6558375634517767\n",
            "760 / 768 0.6558375634517767\n",
            "761 / 768 0.6558375634517767\n",
            "762 / 768 0.6558375634517767\n",
            "763 / 768 0.6558375634517767\n",
            "764 / 768 0.6558375634517767\n",
            "765 / 768 0.6558375634517767\n",
            "766 / 768 0.6558375634517767\n",
            "767 / 768 0.6558375634517767\n",
            "768 / 768 0.6558375634517767\n"
          ],
          "name": "stdout"
        }
      ]
    },
    {
      "cell_type": "markdown",
      "metadata": {
        "id": "yBonse7KSp-N"
      },
      "source": [
        "### 모델 적용"
      ]
    },
    {
      "cell_type": "code",
      "metadata": {
        "id": "CzLxqMfISp-N"
      },
      "source": [
        "model = best_model\n",
        "features = best_features"
      ],
      "execution_count": null,
      "outputs": []
    },
    {
      "cell_type": "code",
      "metadata": {
        "id": "3ejwUI_NSp-N"
      },
      "source": [
        "test_df = pd.read_csv(\"https://raw.githubusercontent.com/aettikang/DataAnalysisPlan/main/sampled_test_transaction.csv\")"
      ],
      "execution_count": null,
      "outputs": []
    },
    {
      "cell_type": "code",
      "metadata": {
        "id": "azUvibDdSp-N"
      },
      "source": [
        "def pipeline(input_data, dummy_model, imputer, features, model):\n",
        "    input_data_copy = input_data.copy()\n",
        "    input_data_copy.drop(['TransactionID', 'TransactionDT'], axis = 1, inplace = True)\n",
        "    \n",
        "    # 범주형 변수: 이진화 및 파생 변수 생성\n",
        "    input_data_copy['american_express'] = (input_data_copy.loc[:, 'card4'] == 'american express').astype(int)\n",
        "    input_data_copy.drop('card4', axis = 1, inplace = True)\n",
        "\n",
        "    input_data_copy['credit'] = (input_data_copy.loc[:, 'card6'] == 'credit').astype(int)\n",
        "    input_data_copy.drop('card6', axis = 1, inplace = True)    \n",
        "        \n",
        "    input_data_copy['NA_R_emaildomain'] = (input_data_copy['R_emaildomain'].isnull()).astype(int)\n",
        "    input_data_copy['same_emaildomain'] = (input_data_copy['P_emaildomain'] == input_data_copy['R_emaildomain']).astype(int)\n",
        "    input_data_copy.drop(['P_emaildomain', 'R_emaildomain'], axis = 1, inplace = True)    \n",
        "    input_data_copy['C3_over_1'] = (input_data_copy['C3'] >= 1).astype(int)\n",
        "    input_data_copy.drop(['C3'], axis = 1, inplace = True)\n",
        "    \n",
        "    M_columns = ['M' + str(i) for i in range(1, 10)]    \n",
        "    input_data_copy[M_columns] = input_data_copy[M_columns].fillna(\"결측\")\n",
        "    input_data_copy = dummy_model.transform(input_data_copy)  \n",
        "    \n",
        "    # 연속형 변수 처리\n",
        "    input_data_copy['TransactionAmt'] = np.log(input_data_copy['TransactionAmt'])    \n",
        "    \n",
        "    input_data_copy['card3_150'] = (input_data_copy['card3'] == 150).astype(int)\n",
        "    input_data_copy['card3_185'] = (input_data_copy['card3'] == 185).astype(int)\n",
        "    input_data_copy['card5_226'] = (input_data_copy['card5'] == 226).astype(int) \n",
        "    input_data_copy.drop(['card3', 'card5'], axis = 1, inplace = True)\n",
        "    \n",
        "    input_data_copy = pd.DataFrame(imputer.transform(Train_X), columns = input_data_copy.columns)\n",
        "    input_data_copy = input_data_copy[features]\n",
        "    \n",
        "    return model.predict(input_data_copy)"
      ],
      "execution_count": null,
      "outputs": []
    },
    {
      "cell_type": "code",
      "metadata": {
        "id": "bEG6jR-nSp-N",
        "outputId": "8e95927f-88f0-4c9f-b638-98ab2f8d7a30"
      },
      "source": [
        "pipeline(test_df, dummy_model, imputer, features, model)"
      ],
      "execution_count": null,
      "outputs": [
        {
          "output_type": "execute_result",
          "data": {
            "text/plain": [
              "array([0, 0, 0, ..., 0, 0, 0], dtype=int64)"
            ]
          },
          "metadata": {
            "tags": []
          },
          "execution_count": 81
        }
      ]
    }
  ]
}