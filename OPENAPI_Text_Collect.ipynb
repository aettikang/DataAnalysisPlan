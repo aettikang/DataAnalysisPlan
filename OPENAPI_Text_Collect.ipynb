{
  "nbformat": 4,
  "nbformat_minor": 0,
  "metadata": {
    "colab": {
      "provenance": [],
      "authorship_tag": "ABX9TyP4blglDAwTUilBbF4cM6DV",
      "include_colab_link": true
    },
    "kernelspec": {
      "name": "python3",
      "display_name": "Python 3"
    },
    "language_info": {
      "name": "python"
    }
  },
  "cells": [
    {
      "cell_type": "markdown",
      "metadata": {
        "id": "view-in-github",
        "colab_type": "text"
      },
      "source": [
        "<a href=\"https://colab.research.google.com/github/aettikang/DataAnalysisPlan/blob/main/OPENAPI_Text_Collect.ipynb\" target=\"_parent\"><img src=\"https://colab.research.google.com/assets/colab-badge.svg\" alt=\"Open In Colab\"/></a>"
      ]
    },
    {
      "cell_type": "code",
      "source": [
        "import requests\n",
        "import xml.etree.ElementTree as ET\n",
        "\n",
        "# 인증키를 여기에 입력하세요 (인증키 자리에 실제 인증키를 붙여넣으세요)\n",
        "api_key = \"735971744361657437374a716d5259\"\n",
        "\n",
        "# 요청 URL 설정\n",
        "url = f\"http://openapi.seoul.go.kr:8088/{api_key}/xml/SeoulNewsList/1/5/\"\n",
        "\n",
        "# API 요청\n",
        "response = requests.get(url)"
      ],
      "metadata": {
        "id": "JDGZeIUCLHuj"
      },
      "execution_count": null,
      "outputs": []
    },
    {
      "cell_type": "code",
      "source": [
        "# 파일에 저장할 문자열 준비\n",
        "contents_to_save = \"\"\n",
        "\n",
        "# 요청이 성공적인지 확인\n",
        "if response.status_code == 200:\n",
        "    # 응답 데이터(XML) 파싱\n",
        "    root = ET.fromstring(response.content)\n",
        "\n",
        "    # NEW_CONTEXT 내용만 반복해서 추출\n",
        "    for news in root.findall('.//row'):\n",
        "        # NEW_CONTEXT 태그의 내용 추출(파싱)\n",
        "        context = news.find('POST_EXCERPT').text if news.find('POST_EXCERPT') is not None else \"No content\"\n",
        "\n",
        "        # 추출된 내용을 문자열에 추가\n",
        "        contents_to_save += context + \"\\n\\n\"\n",
        "else:\n",
        "    print(\"Failed to retrieve data\")\n",
        "\n",
        "# 추출된 내용을 파일에 저장\n",
        "with open(\"POST_EXCERPT.txt\", \"w\", encoding=\"utf-8\") as file:\n",
        "    file.write(contents_to_save)\n",
        "\n",
        "print(\"NEW_CONTEXT contents have been saved to news_contexts.txt\")"
      ],
      "metadata": {
        "colab": {
          "base_uri": "https://localhost:8080/"
        },
        "id": "vWOA-tVtLDy3",
        "outputId": "e7949c2d-f023-4ff7-bc16-8f74faee3c3e"
      },
      "execution_count": null,
      "outputs": [
        {
          "output_type": "stream",
          "name": "stdout",
          "text": [
            "NEW_CONTEXT contents have been saved to news_contexts.txt\n"
          ]
        }
      ]
    }
  ]
}