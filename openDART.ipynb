{
  "nbformat": 4,
  "nbformat_minor": 0,
  "metadata": {
    "colab": {
      "provenance": [],
      "authorship_tag": "ABX9TyNUdJus32E9txZQi9xw93Sq",
      "include_colab_link": true
    },
    "kernelspec": {
      "name": "python3",
      "display_name": "Python 3"
    },
    "language_info": {
      "name": "python"
    }
  },
  "cells": [
    {
      "cell_type": "markdown",
      "metadata": {
        "id": "view-in-github",
        "colab_type": "text"
      },
      "source": [
        "<a href=\"https://colab.research.google.com/github/aettikang/DataAnalysisPlan/blob/main/openDART.ipynb\" target=\"_parent\"><img src=\"https://colab.research.google.com/assets/colab-badge.svg\" alt=\"Open In Colab\"/></a>"
      ]
    },
    {
      "cell_type": "code",
      "source": [
        "!pip install OpenDartReader"
      ],
      "metadata": {
        "id": "d5l29FlCzO5M"
      },
      "execution_count": null,
      "outputs": []
    },
    {
      "cell_type": "code",
      "execution_count": null,
      "metadata": {
        "id": "TTXjbwaty9lT"
      },
      "outputs": [],
      "source": [
        "# 필요한 라이브러리를 불러옵니다.\n",
        "import OpenDartReader\n",
        "import pandas as pd\n",
        "\n",
        "# DART API 키 설정\n",
        "api_key = '18e774f472941bee59d89cc43b47ab046dea27bf'  # 여기에 실제 API 키를 입력하세요.\n",
        "\n",
        "# OpenDartReader 객체 생성\n",
        "dart = OpenDartReader(api_key)\n",
        "\n",
        "# 삼성전자의 재무제표 데이터 추출\n",
        "# 삼성전자의 종목 코드는 '005930'입니다.\n",
        "corp_code = '005930'  # 삼성전자의 종목 코드\n",
        "year = 2022  # 사업보고서 연도 설정\n",
        "\n",
        "# 사업보고서 내의 재무제표 섹션을 가져옵니다. 예: 'bs'는 재무상태표, 'is'는 손익계산서를 의미합니다.\n",
        "# 여기서는 'bs' (재무상태표)를 예로 듭니다. 반환형태는 DataFrame입니다.\n",
        "fs = dart.finstate_all(corp_code, year, fs_div='CFS', reprt_code='11011')\n",
        "\n",
        "# fs 변수를 출력하여 결과를 확인합니다.\n",
        "print(fs)\n"
      ]
    },
    {
      "cell_type": "code",
      "source": [
        "import yfinance as yf\n",
        "import matplotlib.pyplot as plt\n",
        "\n",
        "# 삼성전자의 티커 심볼\n",
        "ticker_symbol = '005930.KS'\n",
        "\n",
        "# yfinance를 사용하여 삼성전자의 주가 데이터를 가져옵니다.\n",
        "samsung = yf.Ticker(ticker_symbol)\n",
        "\n",
        "# 2023년 1월 1일부터 2024년 3월 10일까지의 주가 데이터를 가져옵니다.\n",
        "start_date = '2023-01-01'\n",
        "end_date = '2024-03-10'\n",
        "hist = samsung.history(start=start_date, end=end_date)\n",
        "\n",
        "# 종가 데이터를 시각화합니다.\n",
        "plt.figure(figsize=(14, 7))  # 그래프 크기 설정\n",
        "plt.plot(hist.index, hist['Close'], label='Close Price')  # 종가 그래프를 그립니다.\n",
        "plt.title('Samsung Electronics Close Price from 2023-01-01 to 2024-03-10')  # 그래프 제목 설정\n",
        "plt.xlabel('Date')  # x축 레이블 설정\n",
        "plt.ylabel('Close Price (KRW)')  # y축 레이블 설정\n",
        "plt.legend()  # 범례 표시\n",
        "plt.grid(True)  # 그리드 표시\n",
        "plt.show()  # 그래프 표시\n"
      ],
      "metadata": {
        "id": "2AmfVvpJ2EAs"
      },
      "execution_count": null,
      "outputs": []
    },
    {
      "cell_type": "code",
      "source": [
        "import yfinance as yf\n",
        "import matplotlib.pyplot as plt\n",
        "import pandas as pd\n",
        "\n",
        "# 삼성전자와 삼성에스디에스의 티커 심볼 설정\n",
        "symbols = ['005930.KS', '018260.KS']  # 삼성전자: '005930.KS', 삼성에스디에스: '018260.KS'\n",
        "\n",
        "# 주가 데이터 가져오기\n",
        "start_date = '2023-01-01'\n",
        "end_date = '2024-03-10'\n",
        "samsung_electronics = yf.download('005930.KS', start=start_date, end=end_date)['Close']\n",
        "samsung_sds = yf.download('018260.KS', start=start_date, end=end_date)['Close']\n",
        "\n",
        "# 데이터프레임 합치기\n",
        "df = pd.DataFrame({'Samsung Electronics': samsung_electronics, 'Samsung SDS': samsung_sds})\n",
        "\n",
        "# 상관계수 계산\n",
        "rolling_correlation = df['Samsung Electronics'].rolling(window=30).corr(df['Samsung SDS'])\n",
        "\n",
        "# 상관계수가 0.85 이상인 기간 찾기\n",
        "high_corr_periods = rolling_correlation >= 0.60\n",
        "\n",
        "# 그래프 그리기\n",
        "plt.figure(figsize=(14, 7))\n",
        "\n",
        "# 삼성전자 종가 그래프\n",
        "plt.plot(df.index, df['Samsung Electronics'], label='Samsung Electronics Close Price', color='blue')\n",
        "\n",
        "# 삼성에스디에스 종가 그래프\n",
        "plt.plot(df.index, df['Samsung SDS'], label='Samsung SDS Close Price', color='green')\n",
        "\n",
        "# 상관계수가 0.85 이상인 기간 표시\n",
        "plt.fill_between(df.index, df['Samsung Electronics'].min(), df['Samsung Electronics'].max(),\n",
        "                 where=high_corr_periods, color='gray', alpha=0.3, label='High Correlation (>=0.85)')\n",
        "\n",
        "plt.title('Samsung Electronics and Samsung SDS Close Price with High Correlation Periods')\n",
        "plt.xlabel('Date')\n",
        "plt.ylabel('Close Price (KRW)')\n",
        "plt.legend()\n",
        "plt.grid(True)\n",
        "plt.show()\n"
      ],
      "metadata": {
        "id": "qatlRp182i62"
      },
      "execution_count": null,
      "outputs": []
    },
    {
      "cell_type": "code",
      "source": [
        "!pip install finance-datareader"
      ],
      "metadata": {
        "id": "MdkXeksv3YqL",
        "colab": {
          "base_uri": "https://localhost:8080/"
        },
        "outputId": "57eeebef-782f-405d-f428-8b1791985d85"
      },
      "execution_count": null,
      "outputs": [
        {
          "output_type": "stream",
          "name": "stdout",
          "text": [
            "Collecting finance-datareader\n",
            "  Downloading finance_datareader-0.9.90-py3-none-any.whl (46 kB)\n",
            "\u001b[?25l     \u001b[90m━━━━━━━━━━━━━━━━━━━━━━━━━━━━━━━━━━━━━━━━\u001b[0m \u001b[32m0.0/46.6 kB\u001b[0m \u001b[31m?\u001b[0m eta \u001b[36m-:--:--\u001b[0m\r\u001b[2K     \u001b[90m━━━━━━━━━━━━━━━━━━━━━━━━━━━━━━━━━━━━━━━━\u001b[0m \u001b[32m46.6/46.6 kB\u001b[0m \u001b[31m1.7 MB/s\u001b[0m eta \u001b[36m0:00:00\u001b[0m\n",
            "\u001b[?25hRequirement already satisfied: pandas>=0.19.2 in /usr/local/lib/python3.10/dist-packages (from finance-datareader) (1.5.3)\n",
            "Requirement already satisfied: requests>=2.3.0 in /usr/local/lib/python3.10/dist-packages (from finance-datareader) (2.31.0)\n",
            "Collecting requests-file (from finance-datareader)\n",
            "  Downloading requests_file-2.0.0-py2.py3-none-any.whl (4.2 kB)\n",
            "Requirement already satisfied: lxml in /usr/local/lib/python3.10/dist-packages (from finance-datareader) (4.9.4)\n",
            "Requirement already satisfied: tqdm in /usr/local/lib/python3.10/dist-packages (from finance-datareader) (4.66.2)\n",
            "Requirement already satisfied: python-dateutil>=2.8.1 in /usr/local/lib/python3.10/dist-packages (from pandas>=0.19.2->finance-datareader) (2.8.2)\n",
            "Requirement already satisfied: pytz>=2020.1 in /usr/local/lib/python3.10/dist-packages (from pandas>=0.19.2->finance-datareader) (2023.4)\n",
            "Requirement already satisfied: numpy>=1.21.0 in /usr/local/lib/python3.10/dist-packages (from pandas>=0.19.2->finance-datareader) (1.25.2)\n",
            "Requirement already satisfied: charset-normalizer<4,>=2 in /usr/local/lib/python3.10/dist-packages (from requests>=2.3.0->finance-datareader) (3.3.2)\n",
            "Requirement already satisfied: idna<4,>=2.5 in /usr/local/lib/python3.10/dist-packages (from requests>=2.3.0->finance-datareader) (3.6)\n",
            "Requirement already satisfied: urllib3<3,>=1.21.1 in /usr/local/lib/python3.10/dist-packages (from requests>=2.3.0->finance-datareader) (2.0.7)\n",
            "Requirement already satisfied: certifi>=2017.4.17 in /usr/local/lib/python3.10/dist-packages (from requests>=2.3.0->finance-datareader) (2024.2.2)\n",
            "Requirement already satisfied: six>=1.5 in /usr/local/lib/python3.10/dist-packages (from python-dateutil>=2.8.1->pandas>=0.19.2->finance-datareader) (1.16.0)\n",
            "Installing collected packages: requests-file, finance-datareader\n",
            "Successfully installed finance-datareader-0.9.90 requests-file-2.0.0\n"
          ]
        }
      ]
    },
    {
      "cell_type": "code",
      "source": [
        "import FinanceDataReader as fdr\n",
        "# KOSPI 상장 종목 목록 불러오기\n",
        "kospi_list = fdr.StockListing('KOSPI')\n",
        "\n",
        "# 종목 코드 추출 및 각 코드에 '.KS' 접미사 추가\n",
        "kospi_tickers = [code + '.KS' for code in kospi_list['Code']]\n",
        "print(kospi_tickers[:5])"
      ],
      "metadata": {
        "colab": {
          "base_uri": "https://localhost:8080/"
        },
        "id": "EOl5PpL54WIm",
        "outputId": "2e1dc4fb-6256-4190-db43-e845d9c5aca8"
      },
      "execution_count": null,
      "outputs": [
        {
          "output_type": "stream",
          "name": "stdout",
          "text": [
            "['005930.KS', '000660.KS', '373220.KS', '207940.KS', '005380.KS']\n"
          ]
        }
      ]
    },
    {
      "cell_type": "code",
      "source": [
        "#KOSDAK 종목도 비교\n",
        "# KOSPI 상장 종목 목록 불러오기\n",
        "kosdak_list = fdr.StockListing('KOSDAQ')\n",
        "\n",
        "# 종목 코드 추출 및 각 코드에 '.KS' 접미사 추가\n",
        "kosdaq_tickers = [code + '.KS' for code in kospi_list['Code']]\n",
        "print(kosdaq_tickers[:5])"
      ],
      "metadata": {
        "colab": {
          "base_uri": "https://localhost:8080/"
        },
        "id": "oV5Dliwf9UQ-",
        "outputId": "6dd38263-9ada-4676-d0fb-b05100fbe949"
      },
      "execution_count": null,
      "outputs": [
        {
          "output_type": "stream",
          "name": "stdout",
          "text": [
            "['005930.KS', '000660.KS', '373220.KS', '207940.KS', '005380.KS']\n"
          ]
        }
      ]
    },
    {
      "cell_type": "code",
      "source": [
        "import yfinance as yf\n",
        "import pandas as pd\n",
        "\n",
        "# 코스피 종목 코드 리스트 (예시)\n",
        "#kospi_tickers = ['005930.KS', '000660.KS', '035420.KS']  # 실제로는 모든 코스피 종목 코드를 포함해야 합니다.\n",
        "\n",
        "# 종가 데이터를 저장할 데이터프레임 생성\n",
        "# 각 종목의 주가 데이터 다운로드 및 DataFrame으로 합치기\n",
        "data_frames = []\n",
        "for ticker in kospi_tickers:\n",
        "    data = yf.download(ticker, start=start_date, end=end_date)['Close']\n",
        "    data_frames.append(data.rename(ticker))\n",
        "\n",
        "close_prices = pd.concat(data_frames, axis=1)\n",
        "\n",
        "# 삼성전자와 다른 종목들 간의 상관계수 계산\n",
        "correlations = close_prices.corr().loc['005930.KS'].sort_values(ascending=False)\n",
        "\n",
        "# 상관계수가 높은 상위 5개 종목 출력 (삼성전자 자신 제외)\n",
        "print(correlations[1:6])\n"
      ],
      "metadata": {
        "id": "sjDDaK3h39U3"
      },
      "execution_count": null,
      "outputs": []
    },
    {
      "cell_type": "code",
      "source": [
        "import yfinance as yf\n",
        "import pandas as pd\n",
        "import FinanceDataReader as fdr\n",
        "\n",
        "def get_top_correlated_tickers_with_concat(market_type, top_n=10):\n",
        "    \"\"\"\n",
        "    주어진 시장의 상장 종목 중 삼성전자(005930.KS)와 상관계수가 높은 상위 n개 종목을 찾습니다.\n",
        "    이번에는 pd.concat()을 사용하여 DataFrame의 파편화를 방지합니다.\n",
        "\n",
        "    Parameters:\n",
        "    - market_type: 'KOSPI' 또는 'KOSDAQ' 중 하나를 지정합니다.\n",
        "    - top_n: 반환할 상위 종목의 개수입니다.\n",
        "\n",
        "    Returns:\n",
        "    - 상관계수가 높은 상위 n개 종목의 코드와 상관계수를 포함하는 DataFrame.\n",
        "    \"\"\"\n",
        "    # 시장 종목 코드 리스트 가져오기\n",
        "    market_list = fdr.StockListing(market_type)\n",
        "    tickers = market_list['Code'].apply(lambda x: x + '.KS' if market_type == 'KOSPI' else x + '.KQ').tolist()\n",
        "    if '005930.KS' not in tickers:\n",
        "        tickers.append('005930.KS')\n",
        "\n",
        "    # 각 종목의 주가 데이터 다운로드\n",
        "    data_frames = []\n",
        "    for ticker in tickers:\n",
        "        try:\n",
        "            data = yf.download(ticker, start='2023-01-01', end='2024-03-10')['Close'].rename(ticker)\n",
        "            data_frames.append(data)\n",
        "        except Exception as e:\n",
        "            print(f\"Error downloading {ticker}: {e}\")\n",
        "\n",
        "    # 모든 주가 데이터를 하나의 DataFrame으로 합치기\n",
        "    close_prices = pd.concat(data_frames, axis=1)\n",
        "\n",
        "    # 삼성전자와 다른 종목들 간의 상관계수 계산\n",
        "    correlations = close_prices.corr().loc['005930.KS'].sort_values(ascending=False)\n",
        "\n",
        "    # 상관계수가 높은 상위 n개 종목 반환 (삼성전자 제외)\n",
        "    return correlations[1:top_n+1]\n",
        "\n",
        "# KOSPI 시장에서 삼성전자와 상관계수가 높은 상위 5개 종목 찾기\n",
        "top_correlated_kospi = get_top_correlated_tickers_with_concat('KOSDAQ')\n",
        "print(\"KOSPI:\", top_correlated_kospi)\n"
      ],
      "metadata": {
        "id": "QATHg2ES-wtT"
      },
      "execution_count": null,
      "outputs": []
    }
  ]
}